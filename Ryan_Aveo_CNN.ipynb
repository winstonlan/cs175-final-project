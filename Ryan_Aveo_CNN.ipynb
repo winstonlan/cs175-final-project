{
 "cells": [
  {
   "cell_type": "code",
   "execution_count": 1,
   "metadata": {},
   "outputs": [
    {
     "name": "stderr",
     "output_type": "stream",
     "text": [
      "/Users/Ryan/miniconda3/lib/python3.6/site-packages/h5py/__init__.py:36: FutureWarning: Conversion of the second argument of issubdtype from `float` to `np.floating` is deprecated. In future, it will be treated as `np.float64 == np.dtype(float).type`.\n",
      "  from ._conv import register_converters as _register_converters\n"
     ]
    }
   ],
   "source": [
    "import numpy as np\n",
    "import pandas as pd\n",
    "import matplotlib.pyplot as plt\n",
    "import matplotlib.image as mpimg\n",
    "from sklearn.model_selection import train_test_split\n",
    "import tensorflow as tf"
   ]
  },
  {
   "cell_type": "markdown",
   "metadata": {},
   "source": [
    "Will implement [conv-relu-pool]xN -> [affine]xM -> [softmax or SVM] and write script to print accuracy of models on test and train data"
   ]
  },
  {
   "cell_type": "markdown",
   "metadata": {},
   "source": [
    "# Preprocess the Data"
   ]
  },
  {
   "cell_type": "code",
   "execution_count": 3,
   "metadata": {},
   "outputs": [],
   "source": [
    "data = pd.read_csv(\"./data/handwritten_data_785.csv\", encoding = \"utf8\")"
   ]
  },
  {
   "cell_type": "code",
   "execution_count": 4,
   "metadata": {},
   "outputs": [],
   "source": [
    "np.random.seed(0)\n",
    "data = data.values\n",
    "np.random.shuffle(data)\n",
    "X, y = data[:,1:], data[:,0]"
   ]
  },
  {
   "cell_type": "code",
   "execution_count": 7,
   "metadata": {},
   "outputs": [],
   "source": [
    "X_train, X_test, y_train, y_test = train_test_split(X, y, test_size=0.2)"
   ]
  },
  {
   "cell_type": "markdown",
   "metadata": {},
   "source": [
    "# Data Dimensions"
   ]
  },
  {
   "cell_type": "code",
   "execution_count": 19,
   "metadata": {},
   "outputs": [
    {
     "name": "stdout",
     "output_type": "stream",
     "text": [
      "(297629, 28, 28, 1)\n",
      "(74408, 28, 28, 1)\n"
     ]
    }
   ],
   "source": [
    "print(X_train.shape)\n",
    "print(X_test.shape)\n",
    "\n",
    "#images are 28x28\n",
    "img_size = 28\n",
    "img_size_flat = img_size * img_size\n",
    "img_shape = (img_size, img_size)\n",
    "\n",
    "num_channels = 1\n",
    "num_classes = 26\n",
    "\n",
    "X_train = X_train.reshape(X_train.shape[0], img_size, img_size, 1)\n",
    "X_test = X_test.reshape(X_test.shape[0], img_size, img_size, 1)"
   ]
  },
  {
   "cell_type": "code",
   "execution_count": 20,
   "metadata": {},
   "outputs": [],
   "source": [
    "mean_image = np.mean(X_train, axis=0).astype(np.int64)\n",
    "X_train = (X_train - mean_image)/255\n",
    "X_test = (X_test - mean_image)/255"
   ]
  },
  {
   "cell_type": "markdown",
   "metadata": {},
   "source": [
    "# Helper Functions"
   ]
  },
  {
   "cell_type": "code",
   "execution_count": 22,
   "metadata": {},
   "outputs": [],
   "source": [
    "def create_biases(length):\n",
    "    return tf.Variable(tf.constant(0.01, shape=[length]))\n",
    "'''\n",
    "One problem is that the distribution of the outputs from a randomly initialized \n",
    "neuron has a variance that grows with the number of inputs. It turns out that we can normalize the variance \n",
    "of each neuron’s output to 1 by scaling its weight vector by the square root of its fan-in (i.e. its number of inputs).\n",
    "That is, the recommended heuristic is to initialize each neuron’s weight vector as: w = np.random.randn(n) / sqrt(n), \n",
    "where n is the number of its inputs. This ensures that all neurons in the network initially have approximately the \n",
    "same output distribution and empirically improves the rate of convergence.\n",
    "'''\n",
    "# xavier_initializer is 2/sqrt(n) when uniform=False\n",
    "def create_weights(shape):\n",
    "    W = tf.get_variable(\"W\", shape=shape,\n",
    "           initializer=tf.contrib.layers.xavier_initializer(uniform=False))\n",
    "    return W\n",
    "\n",
    "def new_conv_layer(input, input_channels, filter_size, num_filters, x_stride=1, y_stride=1, use_pooling=True, use_batchnorm=False):\n",
    "    '''\n",
    "    input (4d Tensor):\n",
    "        -Image number.\n",
    "        -Y-axis of each image.\n",
    "        -X-axis of each image.\n",
    "        -Channels of each image.\n",
    "    input_channels: number of channels in the input\n",
    "    filter_size: window size of filter (ex: 5x5)\n",
    "    num_filters: number of filters to use\n",
    "    x_stride: amount to move filter over on x axis\n",
    "    y_stride: amount to move filter over on y axis\n",
    "        ex: strides=[1, 2, 2, 1] would mean that the filter\n",
    "        is moved 2 pixels across the x- and y-axis of the image\n",
    "    use_pooling: whether or not to downsample image resolution using 2x2 max-pooling\n",
    "    use_batchnorm: whether or not to use batch normalization on this layer\n",
    "    '''\n",
    "    weights_shape = [filter_size, filter_size, input_channels, num_filters]\n",
    "    weights = create_weights(weights_shape)\n",
    "    \n",
    "    biases = create_biases(num_filters)\n",
    "    \n",
    "    #create layer\n",
    "    layer = tf.nn.conv2d(input, weights, strides=[1,x_stride,y_stride,1], padding='VALID') + biases\n",
    "    \n",
    "    # ** maybe split pooling and batch_norm??\n",
    "    layer = tf.nn.relu(layer)\n",
    "    \n",
    "    if use_pooling:\n",
    "        pool_1 = tf.nn.max_pool(layer, ksize=[1,2,2,1], strides=[1, 2, 2, 1], padding='VALID')\n",
    "    "
   ]
  },
  {
   "cell_type": "code",
   "execution_count": null,
   "metadata": {},
   "outputs": [],
   "source": []
  }
 ],
 "metadata": {
  "kernelspec": {
   "display_name": "Python 3",
   "language": "python",
   "name": "python3"
  },
  "language_info": {
   "codemirror_mode": {
    "name": "ipython",
    "version": 3
   },
   "file_extension": ".py",
   "mimetype": "text/x-python",
   "name": "python",
   "nbconvert_exporter": "python",
   "pygments_lexer": "ipython3",
   "version": "3.6.5"
  }
 },
 "nbformat": 4,
 "nbformat_minor": 2
}
