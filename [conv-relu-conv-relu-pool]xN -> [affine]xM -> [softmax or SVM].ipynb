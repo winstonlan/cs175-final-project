{
 "cells": [
  {
   "cell_type": "code",
   "execution_count": 23,
   "metadata": {},
   "outputs": [
    {
     "name": "stderr",
     "output_type": "stream",
     "text": [
      "Using TensorFlow backend.\n"
     ]
    }
   ],
   "source": [
    "import numpy as np\n",
    "import pandas as pd\n",
    "import matplotlib.pyplot as plt\n",
    "import matplotlib.image as mpimg\n",
    "from sklearn.model_selection import train_test_split\n",
    "import tensorflow as tf"
   ]
  },
  {
   "cell_type": "markdown",
   "metadata": {},
   "source": [
    "# Data Preperation"
   ]
  },
  {
   "cell_type": "code",
   "execution_count": 16,
   "metadata": {},
   "outputs": [
    {
     "name": "stdout",
     "output_type": "stream",
     "text": [
      "(372037, 785)\n"
     ]
    }
   ],
   "source": [
    "np.random.seed(0)\n",
    "\n",
    "data = pd.read_csv(\"./data/handwritten_data_785.csv\", encoding = \"utf8\")\n",
    "print(data.shape)"
   ]
  },
  {
   "cell_type": "code",
   "execution_count": 17,
   "metadata": {},
   "outputs": [],
   "source": [
    "data = data.values\n",
    "np.random.shuffle(data)\n",
    "X, Y = data[:,1:], data[:,0]\n",
    "\n",
    "X_train, X_test, Y_train, Y_test = train_test_split(X, Y, test_size=0.2)"
   ]
  },
  {
   "cell_type": "code",
   "execution_count": 18,
   "metadata": {},
   "outputs": [],
   "source": [
    "img_size = 28\n",
    "img_size_flat = img_size * img_size\n",
    "img_shape = (img_size, img_size)\n",
    "\n",
    "classes = np.unique(Y_train)\n",
    "num_classes = len(classes)\n",
    "\n",
    "X_train = X_train.reshape(X_train.shape[0], img_size, img_size, 1)\n",
    "X_test = X_test.reshape(X_test.shape[0], img_size, img_size, 1)"
   ]
  },
  {
   "cell_type": "code",
   "execution_count": 19,
   "metadata": {
    "collapsed": true
   },
   "outputs": [],
   "source": [
    "mean_image = np.mean(X_train, axis=0).astype(np.int64)\n",
    "X_train = (X_train - mean_image)/255\n",
    "X_test = (X_test - mean_image)/255"
   ]
  },
  {
   "cell_type": "markdown",
   "metadata": {},
   "source": [
    "# Testing Layers\n",
    "## [conv-relu-conv-relu-pool]xN -> [affine]xM -> [softmax or SVM]"
   ]
  },
  {
   "cell_type": "code",
   "execution_count": 59,
   "metadata": {
    "collapsed": true
   },
   "outputs": [],
   "source": [
    "\n",
    "from tensorflow.python.keras.optimizers import Adam\n",
    "from tensorflow.python.keras.layers import LeakyReLU, ELU\n",
    "from tensorflow.python.keras.models import Sequential\n",
    "from tensorflow.python.keras.layers import InputLayer, Input\n",
    "from tensorflow.python.keras.layers import Reshape, MaxPooling2D\n",
    "from tensorflow.python.keras.layers import Conv2D, Dense, Flatten\n",
    "from keras.utils import to_categorical\n",
    "\n",
    "from tensorflow.python.keras import initializers\n",
    "\n",
    "optimizer = Adam(lr=1e-3)"
   ]
  },
  {
   "cell_type": "code",
   "execution_count": 69,
   "metadata": {},
   "outputs": [
    {
     "name": "stdout",
     "output_type": "stream",
     "text": [
      "_________________________________________________________________\n",
      "Layer (type)                 Output Shape              Param #   \n",
      "=================================================================\n",
      "conv2d_32 (Conv2D)           (None, 28, 28, 10)        260       \n",
      "_________________________________________________________________\n",
      "elu_17 (ELU)                 (None, 28, 28, 10)        0         \n",
      "_________________________________________________________________\n",
      "conv2d_33 (Conv2D)           (None, 28, 28, 10)        2510      \n",
      "_________________________________________________________________\n",
      "elu_18 (ELU)                 (None, 28, 28, 10)        0         \n",
      "_________________________________________________________________\n",
      "max_pooling2d_12 (MaxPooling (None, 28, 28, 10)        0         \n",
      "_________________________________________________________________\n",
      "flatten_10 (Flatten)         (None, 7840)              0         \n",
      "_________________________________________________________________\n",
      "dense_11 (Dense)             (None, 26)                203866    \n",
      "=================================================================\n",
      "Total params: 206,636\n",
      "Trainable params: 206,636\n",
      "Non-trainable params: 0\n",
      "_________________________________________________________________\n"
     ]
    }
   ],
   "source": [
    "train_Y_one_hot = to_categorical(y_train)\n",
    "test_Y_one_hot = to_categorical(y_test)\n",
    "\n",
    "model = Sequential()\n",
    "\n",
    "#conv\n",
    "#keras.layers.Conv2D(filters, kernel_size, strides=(1, 1), padding='valid', data_format=None, \n",
    "    #dilation_rate=(1, 1), activation=None, use_bias=True, kernel_initializer='glorot_uniform', \n",
    "    #bias_initializer='zeros', kernel_regularizer=None, bias_regularizer=None, \n",
    "    #activity_regularizer=None, kernel_constraint=None, bias_constraint=None)\n",
    "model.add(Conv2D(filters=10, kernel_size=5, strides = 1, padding='same', activation='linear',\n",
    "                 bias_initializer='RandomNormal', input_shape=(img_size,img_size,1)))\n",
    "\n",
    "#ReLu\n",
    "model.add(ELU(alpha=1.0))\n",
    "\n",
    "#conv2\n",
    "model.add(Conv2D(filters=10, kernel_size=5, strides = 1, padding='same', activation='linear',\n",
    "                 bias_initializer='RandomNormal', input_shape=(img_size,img_size,1)))\n",
    "\n",
    "#ReLu\n",
    "model.add(ELU(alpha=1.0))\n",
    "\n",
    "#MaxPool\n",
    "#keras.layers.MaxPooling2D(pool_size=(2, 2), strides=None, padding='valid', data_format=None)\n",
    "model.add(MaxPooling2D(strides=1, padding='same'))\n",
    "\n",
    "#Affine\n",
    "model.add(Flatten())\n",
    "\n",
    "#keras.layers.Dense(units, activation=None, use_bias=True, kernel_initializer='glorot_uniform', \n",
    "    #bias_initializer='zeros', kernel_regularizer=None, bias_regularizer=None, \n",
    "    #activity_regularizer=None, kernel_constraint=None, bias_constraint=None)\n",
    "model.add(Dense(num_classes, activation='softmax'))\n",
    "\n",
    "model.compile(optimizer=optimizer,\n",
    "              loss='categorical_crossentropy',\n",
    "              metrics=['accuracy'])\n",
    "model.summary()"
   ]
  },
  {
   "cell_type": "code",
   "execution_count": 70,
   "metadata": {},
   "outputs": [
    {
     "name": "stdout",
     "output_type": "stream",
     "text": [
      "Train on 297629 samples, validate on 74408 samples\n",
      "Epoch 1/3\n",
      "297629/297629 [==============================] - 640s 2ms/step - loss: 0.3055 - acc: 0.9191 - val_loss: 0.1483 - val_acc: 0.9613\n",
      "Epoch 2/3\n",
      "297629/297629 [==============================] - 619s 2ms/step - loss: 0.1395 - acc: 0.9632 - val_loss: 0.1340 - val_acc: 0.9653\n",
      "Epoch 3/3\n",
      "297629/297629 [==============================] - 1324s 4ms/step - loss: 0.1232 - acc: 0.9673 - val_loss: 0.1229 - val_acc: 0.9678\n"
     ]
    },
    {
     "data": {
      "text/plain": [
       "<tensorflow.python.keras._impl.keras.callbacks.History at 0x11b8c4128>"
      ]
     },
     "execution_count": 70,
     "metadata": {},
     "output_type": "execute_result"
    }
   ],
   "source": [
    "model.fit(x=X_train,\n",
    "          y=train_Y_one_hot,\n",
    "          epochs=3, batch_size=128,verbose=1, validation_data=(X_test, test_Y_one_hot))"
   ]
  }
 ],
 "metadata": {
  "kernelspec": {
   "display_name": "Python 3",
   "language": "python",
   "name": "python3"
  },
  "language_info": {
   "codemirror_mode": {
    "name": "ipython",
    "version": 3
   },
   "file_extension": ".py",
   "mimetype": "text/x-python",
   "name": "python",
   "nbconvert_exporter": "python",
   "pygments_lexer": "ipython3",
   "version": "3.5.2"
  }
 },
 "nbformat": 4,
 "nbformat_minor": 2
}
