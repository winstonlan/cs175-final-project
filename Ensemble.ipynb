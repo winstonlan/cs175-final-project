{
  "nbformat": 4,
  "nbformat_minor": 0,
  "metadata": {
    "colab": {
      "name": "Ensemble.ipynb",
      "version": "0.3.2",
      "views": {},
      "default_view": {},
      "provenance": [],
      "collapsed_sections": []
    },
    "kernelspec": {
      "display_name": "Python 3",
      "language": "python",
      "name": "python3"
    },
    "accelerator": "GPU"
  },
  "cells": [
    {
      "metadata": {
        "id": "aApvxtKxRPwm",
        "colab_type": "code",
        "colab": {
          "autoexec": {
            "startup": false,
            "wait_interval": 0
          }
        }
      },
      "cell_type": "code",
      "source": [
        "\n",
        "# Code to read csv file into colaboratory:# Code  \n",
        "!pip install -U -q PyDrive\n",
        "from pydrive.auth import GoogleAuth\n",
        "from pydrive.drive import GoogleDrive\n",
        "from google.colab import auth\n",
        "from oauth2client.client import GoogleCredentials\n",
        "\n",
        "# 1. Authenticate and create the PyDrive client.\n",
        "auth.authenticate_user()\n",
        "gauth = GoogleAuth()\n",
        "gauth.credentials = GoogleCredentials.get_application_default()\n",
        "drive = GoogleDrive(gauth)\n",
        "\n",
        "#2. Get the file\n",
        "downloaded = drive.CreateFile({'id':'10Xf2Xv_pfnIycH2HpNZR3SwWHiHdrqzX'}) # replace the id with id of file you want to access\n",
        "downloaded.GetContentFile('handwritten.csv')  \n",
        "\n",
        "#3. Read file as panda dataframe\n",
        "import pandas as pd\n",
        "data = pd.read_csv('handwritten.csv')"
      ],
      "execution_count": 0,
      "outputs": []
    },
    {
      "metadata": {
        "id": "wNge0YaORXfP",
        "colab_type": "code",
        "colab": {
          "autoexec": {
            "startup": false,
            "wait_interval": 0
          }
        }
      },
      "cell_type": "code",
      "source": [
        "!pip install -q keras\n",
        "!pip install -q numpy\n",
        "!pip install -q sklearn\n",
        "!pip install -q matplotlib\n",
        "!pip install -q pandas"
      ],
      "execution_count": 0,
      "outputs": []
    },
    {
      "metadata": {
        "id": "9glOPQgnRYRU",
        "colab_type": "code",
        "colab": {
          "autoexec": {
            "startup": false,
            "wait_interval": 0
          }
        }
      },
      "cell_type": "code",
      "source": [
        "import numpy as np\n",
        "import pandas as pd\n",
        "import matplotlib.pyplot as plt\n",
        "import matplotlib.image as mpimg\n",
        "import tensorflow as tf\n",
        "%matplotlib inline\n",
        "\n",
        "from sklearn.model_selection import train_test_split"
      ],
      "execution_count": 0,
      "outputs": []
    },
    {
      "metadata": {
        "id": "ZcbVL0YBRe2Y",
        "colab_type": "text"
      },
      "cell_type": "markdown",
      "source": [
        "# Load the Data"
      ]
    },
    {
      "metadata": {
        "id": "Qmg3cqTvRgjd",
        "colab_type": "code",
        "colab": {
          "autoexec": {
            "startup": false,
            "wait_interval": 0
          },
          "base_uri": "https://localhost:8080/",
          "height": 51
        },
        "outputId": "e1ee3611-28ff-4c75-865f-1be54811596f",
        "executionInfo": {
          "status": "ok",
          "timestamp": 1528852436801,
          "user_tz": 420,
          "elapsed": 28659,
          "user": {
            "displayName": "YeeJay Ng",
            "photoUrl": "//lh6.googleusercontent.com/-RF8GVunHxUU/AAAAAAAAAAI/AAAAAAAAAVY/-iRhkzqefyU/s50-c-k-no/photo.jpg",
            "userId": "113615214030775264970"
          }
        }
      },
      "cell_type": "code",
      "source": [
        "# Get the data from the csv file\n",
        "data = data.values\n",
        "np.random.shuffle(data)\n",
        "\n",
        "# Split the data into X, Y, and parition the values into the training and test splits\n",
        "# Reshape X to be in the shape (N, 28, 28)\n",
        "X, Y = data[:,1:], data[:,0]\n",
        "# X = X.reshape(X.shape[0], 28, 28)\n",
        "X_train, X_test, Y_train, Y_test = train_test_split(X, Y, test_size=0.2)\n",
        "\n",
        "print(\"Train {} {}\".format(X_train.shape, Y_train.shape))\n",
        "print(\"Test {} {}\".format(X_test.shape, Y_test.shape))"
      ],
      "execution_count": 4,
      "outputs": [
        {
          "output_type": "stream",
          "text": [
            "Train (297629, 784) (297629,)\n",
            "Test (74408, 784) (74408,)\n"
          ],
          "name": "stdout"
        }
      ]
    },
    {
      "metadata": {
        "id": "-JE3jBErRm9q",
        "colab_type": "text"
      },
      "cell_type": "markdown",
      "source": [
        "# Data Prep"
      ]
    },
    {
      "metadata": {
        "id": "NwCbFYbQRlSO",
        "colab_type": "code",
        "colab": {
          "autoexec": {
            "startup": false,
            "wait_interval": 0
          },
          "base_uri": "https://localhost:8080/",
          "height": 68
        },
        "outputId": "1b411142-cecb-49d0-d2cb-32bfeb414194",
        "executionInfo": {
          "status": "ok",
          "timestamp": 1528852437240,
          "user_tz": 420,
          "elapsed": 332,
          "user": {
            "displayName": "YeeJay Ng",
            "photoUrl": "//lh6.googleusercontent.com/-RF8GVunHxUU/AAAAAAAAAAI/AAAAAAAAAVY/-iRhkzqefyU/s50-c-k-no/photo.jpg",
            "userId": "113615214030775264970"
          }
        }
      },
      "cell_type": "code",
      "source": [
        "classes = np.unique(Y_train)\n",
        "n_classes = len(classes)\n",
        "print('Total number of outputs : ', n_classes)\n",
        "print('Output classes : ', classes)"
      ],
      "execution_count": 5,
      "outputs": [
        {
          "output_type": "stream",
          "text": [
            "Total number of outputs :  26\n",
            "Output classes :  [ 0  1  2  3  4  5  6  7  8  9 10 11 12 13 14 15 16 17 18 19 20 21 22 23\n",
            " 24 25]\n"
          ],
          "name": "stdout"
        }
      ]
    },
    {
      "metadata": {
        "id": "pJXDA8nDjIau",
        "colab_type": "code",
        "colab": {
          "autoexec": {
            "startup": false,
            "wait_interval": 0
          }
        }
      },
      "cell_type": "code",
      "source": [
        "img_size = 28\n",
        "img_size_flat = img_size * img_size\n",
        "img_shape = (img_size, img_size)\n",
        "\n",
        "classes = np.unique(Y_train)\n",
        "num_classes = len(classes)\n",
        "\n",
        "X_train = X_train.reshape(-1, img_size, img_size, 1)\n",
        "X_test = X_test.reshape(-1, img_size, img_size, 1)\n",
        "X_train = X_train.astype(\"float32\")\n",
        "X_test = X_test.astype(\"float32\")"
      ],
      "execution_count": 0,
      "outputs": []
    },
    {
      "metadata": {
        "id": "7cAnZg7iRqkD",
        "colab_type": "text"
      },
      "cell_type": "markdown",
      "source": [
        "## Normalization"
      ]
    },
    {
      "metadata": {
        "id": "0o5zJFqHRsY1",
        "colab_type": "code",
        "colab": {
          "autoexec": {
            "startup": false,
            "wait_interval": 0
          }
        }
      },
      "cell_type": "code",
      "source": [
        "mean_image = np.mean(X_train, axis=0).astype(np.int64)\n",
        "X_train = (X_train - mean_image)/255\n",
        "X_test = (X_test - mean_image)/255"
      ],
      "execution_count": 0,
      "outputs": []
    },
    {
      "metadata": {
        "id": "EZumZB90RwQ4",
        "colab_type": "code",
        "colab": {
          "autoexec": {
            "startup": false,
            "wait_interval": 0
          },
          "base_uri": "https://localhost:8080/",
          "height": 85
        },
        "outputId": "ac130103-78bf-425a-b4f2-4a6b1bacab8d",
        "executionInfo": {
          "status": "ok",
          "timestamp": 1528852440931,
          "user_tz": 420,
          "elapsed": 422,
          "user": {
            "displayName": "YeeJay Ng",
            "photoUrl": "//lh6.googleusercontent.com/-RF8GVunHxUU/AAAAAAAAAAI/AAAAAAAAAVY/-iRhkzqefyU/s50-c-k-no/photo.jpg",
            "userId": "113615214030775264970"
          }
        }
      },
      "cell_type": "code",
      "source": [
        "from keras.utils import to_categorical\n",
        "\n",
        "Y_train_onehot = to_categorical(Y_train)\n",
        "Y_test_onehot = to_categorical(Y_test)\n",
        "print(\"Original Label: {}\".format(Y_train[0]))\n",
        "print(\"One Hot Label: {}\".format(Y_train_onehot[0]))"
      ],
      "execution_count": 8,
      "outputs": [
        {
          "output_type": "stream",
          "text": [
            "Original Label: 19\n",
            "One Hot Label: [0. 0. 0. 0. 0. 0. 0. 0. 0. 0. 0. 0. 0. 0. 0. 0. 0. 0. 0. 1. 0. 0. 0. 0.\n",
            " 0. 0.]\n"
          ],
          "name": "stdout"
        },
        {
          "output_type": "stream",
          "text": [
            "Using TensorFlow backend.\n"
          ],
          "name": "stderr"
        }
      ]
    },
    {
      "metadata": {
        "id": "CE4szLSER3bm",
        "colab_type": "code",
        "colab": {
          "autoexec": {
            "startup": false,
            "wait_interval": 0
          },
          "base_uri": "https://localhost:8080/",
          "height": 51
        },
        "outputId": "c237af5f-d53a-46ae-a204-9a28694cba36",
        "executionInfo": {
          "status": "ok",
          "timestamp": 1528852441956,
          "user_tz": 420,
          "elapsed": 858,
          "user": {
            "displayName": "YeeJay Ng",
            "photoUrl": "//lh6.googleusercontent.com/-RF8GVunHxUU/AAAAAAAAAAI/AAAAAAAAAVY/-iRhkzqefyU/s50-c-k-no/photo.jpg",
            "userId": "113615214030775264970"
          }
        }
      },
      "cell_type": "code",
      "source": [
        "X_train, X_valid, Y_train, Y_valid = train_test_split(X_train, Y_train_onehot, test_size=0.2)\n",
        "\n",
        "print(\"Train: {} {}\".format(X_train.shape, Y_train.shape))\n",
        "print(\"Valid: {} {}\".format(X_valid.shape, Y_valid.shape))"
      ],
      "execution_count": 9,
      "outputs": [
        {
          "output_type": "stream",
          "text": [
            "Train: (238103, 28, 28, 1) (238103, 26)\n",
            "Valid: (59526, 28, 28, 1) (59526, 26)\n"
          ],
          "name": "stdout"
        }
      ]
    },
    {
      "metadata": {
        "id": "i2b7YAsidG-Y",
        "colab_type": "code",
        "colab": {
          "autoexec": {
            "startup": false,
            "wait_interval": 0
          },
          "base_uri": "https://localhost:8080/",
          "height": 280
        },
        "outputId": "7730767c-f7bf-4a15-e6ea-dde9c931068d",
        "executionInfo": {
          "status": "ok",
          "timestamp": 1528852442699,
          "user_tz": 420,
          "elapsed": 700,
          "user": {
            "displayName": "YeeJay Ng",
            "photoUrl": "//lh6.googleusercontent.com/-RF8GVunHxUU/AAAAAAAAAAI/AAAAAAAAAVY/-iRhkzqefyU/s50-c-k-no/photo.jpg",
            "userId": "113615214030775264970"
          }
        }
      },
      "cell_type": "code",
      "source": [
        "X_example1 = X_train[0]\n",
        "X_example2 = X_test[0]\n",
        "\n",
        "fig= plt.figure(figsize=(8,8))\n",
        "\n",
        "X_example1_2d = X_example1.reshape(28,28)\n",
        "fig.add_subplot(1,2,1)\n",
        "plt.imshow(X_example1_2d)\n",
        "plt.title(\"Ground Truth: {}\".format(Y_train[0]))\n",
        "\n",
        "X_example2_2d = X_example2.reshape(28,28)\n",
        "fig.add_subplot(1,2,2)\n",
        "plt.imshow(X_example2_2d)\n",
        "plt.title(\"Ground Truth: {}\".format(Y_test[0]))\n",
        "\n",
        "plt.show()"
      ],
      "execution_count": 10,
      "outputs": [
        {
          "output_type": "display_data",
          "data": {
            "image/png": "[encoded data removed]",
            "text/plain": [
              "<matplotlib.figure.Figure at 0x7fe91505f160>"
            ]
          },
          "metadata": {
            "tags": []
          }
        }
      ]
    },
    {
      "metadata": {
        "id": "nYho84e7evEn",
        "colab_type": "text"
      },
      "cell_type": "markdown",
      "source": [
        "# Keras Inits"
      ]
    },
    {
      "metadata": {
        "id": "_X_vsIL-ew0b",
        "colab_type": "code",
        "colab": {
          "autoexec": {
            "startup": false,
            "wait_interval": 0
          }
        }
      },
      "cell_type": "code",
      "source": [
        "from tensorflow.python.keras.optimizers import Adam\n",
        "from tensorflow.python.keras.layers import LeakyReLU, ELU\n",
        "from tensorflow.python.keras.models import Sequential\n",
        "from tensorflow.python.keras.layers import InputLayer, Input\n",
        "from tensorflow.python.keras.layers import Reshape, MaxPooling2D\n",
        "from tensorflow.python.keras.layers import Conv2D, Dense, Flatten\n",
        "from tensorflow.python.keras import initializers\n",
        "from tensorflow.python.keras.losses import mean_absolute_error\n",
        "\n",
        "\n",
        "#Add whatever you need here"
      ],
      "execution_count": 0,
      "outputs": []
    },
    {
      "metadata": {
        "id": "1-twqHw3kGJm",
        "colab_type": "code",
        "colab": {
          "autoexec": {
            "startup": false,
            "wait_interval": 0
          }
        }
      },
      "cell_type": "code",
      "source": [
        "from tensorflow.python.keras.layers import BatchNormalization\n",
        "from tensorflow.python.keras.layers import Activation"
      ],
      "execution_count": 0,
      "outputs": []
    },
    {
      "metadata": {
        "id": "e-krwZ9khFEO",
        "colab_type": "text"
      },
      "cell_type": "markdown",
      "source": [
        "# Models"
      ]
    },
    {
      "metadata": {
        "id": "XftRrXHjdt6L",
        "colab_type": "code",
        "colab": {
          "autoexec": {
            "startup": false,
            "wait_interval": 0
          }
        }
      },
      "cell_type": "code",
      "source": [
        "batch_size = 128\n",
        "epochs = 20\n",
        "num_classes = 26"
      ],
      "execution_count": 0,
      "outputs": []
    },
    {
      "metadata": {
        "id": "uJHUv_1ge9Bq",
        "colab_type": "text"
      },
      "cell_type": "markdown",
      "source": [
        "### [conv-relu-pool]xN -> [affine]xM -> [softmax or SVM]"
      ]
    },
    {
      "metadata": {
        "id": "MNgdmXdxe-5y",
        "colab_type": "code",
        "colab": {
          "autoexec": {
            "startup": false,
            "wait_interval": 0
          }
        }
      },
      "cell_type": "code",
      "source": [
        "def model1():\n",
        "    model = Sequential()\n",
        "    '''\n",
        "    initializer: he_normal\n",
        "    A more recent paper on this topic, Delving Deep into Rectifiers: Surpassing Human-Level Performance on ImageNet Classification by He et al., \n",
        "    derives an initialization specifically for ReLU neurons, reaching the conclusion that the variance of neurons \n",
        "    in the network should be 2.0/n. This gives the initialization w = np.random.randn(n) * sqrt(2.0/n), \n",
        "    and is the current recommendation for use in practice in the specific case of neural networks with ReLU neurons.\n",
        "    '''\n",
        "    #convolutional layer\n",
        "    model.add(Conv2D(kernel_size=7, strides=1, filters=16, padding='same',\n",
        "                     activation='linear', name='layer_conv1', input_shape=(img_size,img_size,1)))\n",
        "    #reLU activation\n",
        "    model.add(LeakyReLU(alpha=0.1))\n",
        "    #Pooling Layer\n",
        "    model.add(MaxPooling2D(pool_size=2, strides=2, padding='same'))\n",
        "\n",
        "    model.add(Flatten())\n",
        "    #Fully-Connected Layer with 128 outputs Adding this in improved scores\n",
        "    model.add(Dense(128, activation='linear'))\n",
        "    model.add(LeakyReLU(alpha=0.1))\n",
        "    #Fully-Connected Layer with Softmax\n",
        "    model.add(Dense(num_classes, activation='softmax'))\n",
        "\n",
        "    '''\n",
        "    For multiclass classification problems like MNIST, cross entropy is typically used as the loss metric\n",
        "    '''\n",
        "    model.compile(optimizer=Adam(lr=1e-3),\n",
        "                  loss='categorical_crossentropy',\n",
        "                  metrics=['accuracy'])\n",
        "    return model\n",
        "# Insert model here"
      ],
      "execution_count": 0,
      "outputs": []
    },
    {
      "metadata": {
        "id": "jXEGJeOzfB8o",
        "colab_type": "text"
      },
      "cell_type": "markdown",
      "source": [
        "### [conv-relu-conv-relu-pool]xN -> [affine]xM -> [softmax or SVM]"
      ]
    },
    {
      "metadata": {
        "id": "YNidiKw6fGro",
        "colab_type": "code",
        "colab": {
          "autoexec": {
            "startup": false,
            "wait_interval": 0
          }
        }
      },
      "cell_type": "code",
      "source": [
        "def model2():\n",
        "  optimizer = Adam(lr=1e-3)\n",
        "\n",
        "  model = Sequential()\n",
        "\n",
        "  #conv\n",
        "  #keras.layers.Conv2D(filters, kernel_size, strides=(1, 1), padding='valid', data_format=None, \n",
        "      #dilation_rate=(1, 1), activation=None, use_bias=True, kernel_initializer='glorot_uniform', \n",
        "      #bias_initializer='zeros', kernel_regularizer=None, bias_regularizer=None, \n",
        "      #activity_regularizer=None, kernel_constraint=None, bias_constraint=None)\n",
        "  model.add(Conv2D(filters=16, kernel_size=8, strides = 1, padding='same', activation='linear',\n",
        "                   bias_initializer='zeros', input_shape=(img_size,img_size,1)))\n",
        "\n",
        "  #ReLu\n",
        "  model.add(LeakyReLU(alpha=0.1))\n",
        "\n",
        "  #conv2\n",
        "  model.add(Conv2D(filters=16, kernel_size=8, strides = 2, padding='same', activation='linear',\n",
        "                   bias_initializer='zeros', input_shape=(img_size,img_size,1)))\n",
        "\n",
        "  #ReLu\n",
        "  model.add(LeakyReLU(alpha=0.1))\n",
        "\n",
        "  #MaxPool\n",
        "  #keras.layers.MaxPooling2D(pool_size=(2, 2), strides=None, padding='valid', data_format=None)\n",
        "  model.add(MaxPooling2D(strides=2, padding='same'))\n",
        "\n",
        "  #Affine\n",
        "  model.add(Flatten())\n",
        "\n",
        "  #keras.layers.Dense(units, activation=None, use_bias=True, kernel_initializer='glorot_uniform', \n",
        "      #bias_initializer='zeros', kernel_regularizer=None, bias_regularizer=None, \n",
        "      #activity_regularizer=None, kernel_constraint=None, bias_constraint=None)\n",
        "  #model.add(Dense(56, activation=\"relu\"))\n",
        "\n",
        "  model.add(Dense(num_classes, activation='softmax'))\n",
        "\n",
        "  model.compile(optimizer=optimizer,\n",
        "                loss='categorical_crossentropy',\n",
        "                metrics=['accuracy'])\n",
        "  return model"
      ],
      "execution_count": 0,
      "outputs": []
    },
    {
      "metadata": {
        "id": "a13Nl1_pfLaO",
        "colab_type": "text"
      },
      "cell_type": "markdown",
      "source": [
        "### [batchnorm-relu-conv]xN -> [affine]xM -> [softmax or SVM]"
      ]
    },
    {
      "metadata": {
        "id": "aQoy4r-CfWPi",
        "colab_type": "code",
        "colab": {
          "autoexec": {
            "startup": false,
            "wait_interval": 0
          }
        }
      },
      "cell_type": "code",
      "source": [
        "def model3():\n",
        "  brc_model = Sequential()\n",
        "\n",
        "  brc_model.add(BatchNormalization(input_shape=(28, 28, 1)))\n",
        "  brc_model.add(Activation(\"relu\"))\n",
        "  brc_model.add(Conv2D(32, kernel_size=(5,5), activation=\"linear\", padding=\"same\"))\n",
        "\n",
        "  brc_model.add(BatchNormalization())\n",
        "  brc_model.add(Activation(\"relu\"))\n",
        "  brc_model.add(Conv2D(64, kernel_size=(5,5), activation=\"linear\", padding=\"same\"))\n",
        "\n",
        "  brc_model.add(Flatten())\n",
        "\n",
        "  brc_model.add(Dense(128, activation=\"relu\"))\n",
        "\n",
        "  brc_model.add(Dense(num_classes, activation='softmax'))\n",
        "  \n",
        "  brc_model.compile(optimizer=Adam(lr=1e-3),\n",
        "                  loss='categorical_crossentropy',\n",
        "                  metrics=['accuracy'])\n",
        "  return brc_model\n",
        "  "
      ],
      "execution_count": 0,
      "outputs": []
    },
    {
      "metadata": {
        "id": "rJ6juMoVhLNr",
        "colab_type": "text"
      },
      "cell_type": "markdown",
      "source": [
        "# Training"
      ]
    },
    {
      "metadata": {
        "id": "mbcpr6eknB0n",
        "colab_type": "code",
        "colab": {
          "autoexec": {
            "startup": false,
            "wait_interval": 0
          }
        }
      },
      "cell_type": "code",
      "source": [
        "models = []"
      ],
      "execution_count": 0,
      "outputs": []
    },
    {
      "metadata": {
        "id": "pBziSjFammXN",
        "colab_type": "code",
        "colab": {
          "autoexec": {
            "startup": false,
            "wait_interval": 0
          },
          "base_uri": "https://localhost:8080/",
          "height": 1091
        },
        "outputId": "fa4e1e6b-4e1e-439d-f73a-e3298c26799f",
        "executionInfo": {
          "status": "ok",
          "timestamp": 1528852909905,
          "user_tz": 420,
          "elapsed": 463504,
          "user": {
            "displayName": "YeeJay Ng",
            "photoUrl": "//lh6.googleusercontent.com/-RF8GVunHxUU/AAAAAAAAAAI/AAAAAAAAAVY/-iRhkzqefyU/s50-c-k-no/photo.jpg",
            "userId": "113615214030775264970"
          }
        }
      },
      "cell_type": "code",
      "source": [
        "mod1 = model1()\n",
        "mod1.summary()\n",
        "mod1.fit(x=X_train,\n",
        "          y=Y_train,\n",
        "          epochs=epochs, batch_size=128,verbose=1, validation_data=(X_valid, Y_valid))\n",
        "models.append(mod1)"
      ],
      "execution_count": 18,
      "outputs": [
        {
          "output_type": "stream",
          "text": [
            "_________________________________________________________________\n",
            "Layer (type)                 Output Shape              Param #   \n",
            "=================================================================\n",
            "layer_conv1 (Conv2D)         (None, 28, 28, 16)        800       \n",
            "_________________________________________________________________\n",
            "leaky_re_lu_1 (LeakyReLU)    (None, 28, 28, 16)        0         \n",
            "_________________________________________________________________\n",
            "max_pooling2d_1 (MaxPooling2 (None, 14, 14, 16)        0         \n",
            "_________________________________________________________________\n",
            "flatten_1 (Flatten)          (None, 3136)              0         \n",
            "_________________________________________________________________\n",
            "dense_1 (Dense)              (None, 128)               401536    \n",
            "_________________________________________________________________\n",
            "leaky_re_lu_2 (LeakyReLU)    (None, 128)               0         \n",
            "_________________________________________________________________\n",
            "dense_2 (Dense)              (None, 26)                3354      \n",
            "=================================================================\n",
            "Total params: 405,690\n",
            "Trainable params: 405,690\n",
            "Non-trainable params: 0\n",
            "_________________________________________________________________\n",
            "Train on 238103 samples, validate on 59526 samples\n",
            "Epoch 1/20\n",
            " 41984/238103 [====>.........................] - ETA: 32s - loss: 0.5417 - acc: 0.8505"
          ],
          "name": "stdout"
        },
        {
          "output_type": "stream",
          "text": [
            "238103/238103 [==============================] - 26s 110us/step - loss: 0.2134 - acc: 0.9415 - val_loss: 0.1072 - val_acc: 0.9716\n",
            "Epoch 2/20\n",
            "200704/238103 [========================>.....] - ETA: 3s - loss: 0.0907 - acc: 0.9759"
          ],
          "name": "stdout"
        },
        {
          "output_type": "stream",
          "text": [
            "238103/238103 [==============================] - 23s 96us/step - loss: 0.0892 - acc: 0.9761 - val_loss: 0.0914 - val_acc: 0.9754\n",
            "Epoch 3/20\n",
            "238103/238103 [==============================] - 23s 97us/step - loss: 0.0697 - acc: 0.9809 - val_loss: 0.0757 - val_acc: 0.9798\n",
            "Epoch 4/20\n",
            " 13312/238103 [>.............................] - ETA: 20s - loss: 0.0559 - acc: 0.9853"
          ],
          "name": "stdout"
        },
        {
          "output_type": "stream",
          "text": [
            "238103/238103 [==============================] - 23s 97us/step - loss: 0.0567 - acc: 0.9844 - val_loss: 0.0683 - val_acc: 0.9820\n",
            "Epoch 5/20\n",
            "191872/238103 [=======================>......] - ETA: 4s - loss: 0.0466 - acc: 0.9871"
          ],
          "name": "stdout"
        },
        {
          "output_type": "stream",
          "text": [
            "238103/238103 [==============================] - 23s 96us/step - loss: 0.0475 - acc: 0.9869 - val_loss: 0.0682 - val_acc: 0.9821\n",
            "Epoch 6/20\n",
            "238103/238103 [==============================] - 23s 96us/step - loss: 0.0397 - acc: 0.9891 - val_loss: 0.0659 - val_acc: 0.9833\n",
            "Epoch 7/20\n",
            " 11520/238103 [>.............................] - ETA: 20s - loss: 0.0377 - acc: 0.9911"
          ],
          "name": "stdout"
        },
        {
          "output_type": "stream",
          "text": [
            "238103/238103 [==============================] - 23s 96us/step - loss: 0.0347 - acc: 0.9902 - val_loss: 0.0650 - val_acc: 0.9838\n",
            "Epoch 8/20\n",
            "191488/238103 [=======================>......] - ETA: 4s - loss: 0.0302 - acc: 0.9916"
          ],
          "name": "stdout"
        },
        {
          "output_type": "stream",
          "text": [
            "238103/238103 [==============================] - 23s 96us/step - loss: 0.0302 - acc: 0.9916 - val_loss: 0.0617 - val_acc: 0.9850\n",
            "Epoch 9/20\n",
            "238103/238103 [==============================] - 23s 96us/step - loss: 0.0265 - acc: 0.9927 - val_loss: 0.0633 - val_acc: 0.9850\n",
            "Epoch 10/20\n",
            " 12032/238103 [>.............................] - ETA: 20s - loss: 0.0252 - acc: 0.9936"
          ],
          "name": "stdout"
        },
        {
          "output_type": "stream",
          "text": [
            "238103/238103 [==============================] - 23s 96us/step - loss: 0.0232 - acc: 0.9934 - val_loss: 0.0675 - val_acc: 0.9849\n",
            "Epoch 11/20\n",
            "188288/238103 [======================>.......] - ETA: 4s - loss: 0.0211 - acc: 0.9941"
          ],
          "name": "stdout"
        },
        {
          "output_type": "stream",
          "text": [
            "238103/238103 [==============================] - 23s 96us/step - loss: 0.0216 - acc: 0.9940 - val_loss: 0.0685 - val_acc: 0.9850\n",
            "Epoch 12/20\n",
            "238103/238103 [==============================] - 23s 97us/step - loss: 0.0197 - acc: 0.9946 - val_loss: 0.0639 - val_acc: 0.9865\n",
            "Epoch 13/20\n",
            " 10112/238103 [>.............................] - ETA: 20s - loss: 0.0154 - acc: 0.9957"
          ],
          "name": "stdout"
        },
        {
          "output_type": "stream",
          "text": [
            "238103/238103 [==============================] - 23s 96us/step - loss: 0.0178 - acc: 0.9952 - val_loss: 0.0656 - val_acc: 0.9867\n",
            "Epoch 14/20\n",
            "188032/238103 [======================>.......] - ETA: 4s - loss: 0.0158 - acc: 0.9955"
          ],
          "name": "stdout"
        },
        {
          "output_type": "stream",
          "text": [
            "238103/238103 [==============================] - 23s 96us/step - loss: 0.0166 - acc: 0.9955 - val_loss: 0.0670 - val_acc: 0.9871\n",
            "Epoch 15/20\n",
            "238103/238103 [==============================] - 23s 98us/step - loss: 0.0159 - acc: 0.9957 - val_loss: 0.0663 - val_acc: 0.9881\n",
            "Epoch 16/20\n",
            "  9088/238103 [>.............................] - ETA: 20s - loss: 0.0129 - acc: 0.9967"
          ],
          "name": "stdout"
        },
        {
          "output_type": "stream",
          "text": [
            "238103/238103 [==============================] - 23s 96us/step - loss: 0.0152 - acc: 0.9959 - val_loss: 0.0709 - val_acc: 0.9873\n",
            "Epoch 17/20\n",
            "187904/238103 [======================>.......] - ETA: 4s - loss: 0.0132 - acc: 0.9967"
          ],
          "name": "stdout"
        },
        {
          "output_type": "stream",
          "text": [
            "238103/238103 [==============================] - 23s 97us/step - loss: 0.0140 - acc: 0.9965 - val_loss: 0.0696 - val_acc: 0.9874\n",
            "Epoch 18/20\n",
            "238103/238103 [==============================] - 23s 96us/step - loss: 0.0141 - acc: 0.9965 - val_loss: 0.0728 - val_acc: 0.9866\n",
            "Epoch 19/20\n",
            " 10240/238103 [>.............................] - ETA: 20s - loss: 0.0136 - acc: 0.9958"
          ],
          "name": "stdout"
        },
        {
          "output_type": "stream",
          "text": [
            "238103/238103 [==============================] - 23s 96us/step - loss: 0.0131 - acc: 0.9966 - val_loss: 0.0688 - val_acc: 0.9881\n",
            "Epoch 20/20\n",
            "189440/238103 [======================>.......] - ETA: 4s - loss: 0.0128 - acc: 0.9969"
          ],
          "name": "stdout"
        },
        {
          "output_type": "stream",
          "text": [
            "238103/238103 [==============================] - 23s 96us/step - loss: 0.0131 - acc: 0.9967 - val_loss: 0.0720 - val_acc: 0.9879\n"
          ],
          "name": "stdout"
        }
      ]
    },
    {
      "metadata": {
        "id": "9lanntfjhOxR",
        "colab_type": "code",
        "colab": {
          "autoexec": {
            "startup": false,
            "wait_interval": 0
          },
          "base_uri": "https://localhost:8080/",
          "height": 1091
        },
        "outputId": "a51f79b0-d106-4d98-bb1d-467a8205aae4",
        "executionInfo": {
          "status": "ok",
          "timestamp": 1528853501356,
          "user_tz": 420,
          "elapsed": 591403,
          "user": {
            "displayName": "YeeJay Ng",
            "photoUrl": "//lh6.googleusercontent.com/-RF8GVunHxUU/AAAAAAAAAAI/AAAAAAAAAVY/-iRhkzqefyU/s50-c-k-no/photo.jpg",
            "userId": "113615214030775264970"
          }
        }
      },
      "cell_type": "code",
      "source": [
        "mod2 = model2()\n",
        "mod2.summary()\n",
        "mod2.fit(x=X_train,\n",
        "          y=Y_train,\n",
        "          epochs=epochs, batch_size=128,verbose=1, validation_data=(X_valid, Y_valid))\n",
        "models.append(mod2)"
      ],
      "execution_count": 19,
      "outputs": [
        {
          "output_type": "stream",
          "text": [
            "_________________________________________________________________\n",
            "Layer (type)                 Output Shape              Param #   \n",
            "=================================================================\n",
            "conv2d_1 (Conv2D)            (None, 28, 28, 16)        1040      \n",
            "_________________________________________________________________\n",
            "leaky_re_lu_3 (LeakyReLU)    (None, 28, 28, 16)        0         \n",
            "_________________________________________________________________\n",
            "conv2d_2 (Conv2D)            (None, 14, 14, 16)        16400     \n",
            "_________________________________________________________________\n",
            "leaky_re_lu_4 (LeakyReLU)    (None, 14, 14, 16)        0         \n",
            "_________________________________________________________________\n",
            "max_pooling2d_2 (MaxPooling2 (None, 7, 7, 16)          0         \n",
            "_________________________________________________________________\n",
            "flatten_2 (Flatten)          (None, 784)               0         \n",
            "_________________________________________________________________\n",
            "dense_3 (Dense)              (None, 26)                20410     \n",
            "=================================================================\n",
            "Total params: 37,850\n",
            "Trainable params: 37,850\n",
            "Non-trainable params: 0\n",
            "_________________________________________________________________\n",
            "Train on 238103 samples, validate on 59526 samples\n",
            "Epoch 1/20\n",
            " 34048/238103 [===>..........................] - ETA: 25s - loss: 0.7173 - acc: 0.8007"
          ],
          "name": "stdout"
        },
        {
          "output_type": "stream",
          "text": [
            "238103/238103 [==============================] - 30s 125us/step - loss: 0.2426 - acc: 0.9335 - val_loss: 0.1237 - val_acc: 0.9664\n",
            "Epoch 2/20\n",
            "146176/238103 [=================>............] - ETA: 10s - loss: 0.1059 - acc: 0.9722"
          ],
          "name": "stdout"
        },
        {
          "output_type": "stream",
          "text": [
            "238103/238103 [==============================] - 29s 124us/step - loss: 0.1022 - acc: 0.9733 - val_loss: 0.1033 - val_acc: 0.9734\n",
            "Epoch 3/20\n",
            "188416/238103 [======================>.......] - ETA: 5s - loss: 0.0830 - acc: 0.9784"
          ],
          "name": "stdout"
        },
        {
          "output_type": "stream",
          "text": [
            "238103/238103 [==============================] - 29s 124us/step - loss: 0.0825 - acc: 0.9785 - val_loss: 0.0851 - val_acc: 0.9782\n",
            "Epoch 4/20\n",
            "204032/238103 [========================>.....] - ETA: 3s - loss: 0.0710 - acc: 0.9812"
          ],
          "name": "stdout"
        },
        {
          "output_type": "stream",
          "text": [
            "238103/238103 [==============================] - 29s 124us/step - loss: 0.0714 - acc: 0.9812 - val_loss: 0.0799 - val_acc: 0.9794\n",
            "Epoch 5/20\n",
            "209920/238103 [=========================>....] - ETA: 3s - loss: 0.0634 - acc: 0.9836"
          ],
          "name": "stdout"
        },
        {
          "output_type": "stream",
          "text": [
            "238103/238103 [==============================] - 29s 124us/step - loss: 0.0632 - acc: 0.9835 - val_loss: 0.0773 - val_acc: 0.9804\n",
            "Epoch 6/20\n",
            "211328/238103 [=========================>....] - ETA: 3s - loss: 0.0571 - acc: 0.9851"
          ],
          "name": "stdout"
        },
        {
          "output_type": "stream",
          "text": [
            "238103/238103 [==============================] - 30s 125us/step - loss: 0.0570 - acc: 0.9852 - val_loss: 0.0717 - val_acc: 0.9821\n",
            "Epoch 7/20\n",
            "212352/238103 [=========================>....] - ETA: 2s - loss: 0.0514 - acc: 0.9861"
          ],
          "name": "stdout"
        },
        {
          "output_type": "stream",
          "text": [
            "238103/238103 [==============================] - 30s 124us/step - loss: 0.0523 - acc: 0.9860 - val_loss: 0.0703 - val_acc: 0.9825\n",
            "Epoch 8/20\n",
            "212864/238103 [=========================>....] - ETA: 2s - loss: 0.0474 - acc: 0.9873"
          ],
          "name": "stdout"
        },
        {
          "output_type": "stream",
          "text": [
            "238103/238103 [==============================] - 29s 123us/step - loss: 0.0483 - acc: 0.9871 - val_loss: 0.0698 - val_acc: 0.9823\n",
            "Epoch 9/20\n",
            "213120/238103 [=========================>....] - ETA: 2s - loss: 0.0444 - acc: 0.9878"
          ],
          "name": "stdout"
        },
        {
          "output_type": "stream",
          "text": [
            "238103/238103 [==============================] - 29s 123us/step - loss: 0.0447 - acc: 0.9877 - val_loss: 0.0713 - val_acc: 0.9819\n",
            "Epoch 10/20\n",
            "211328/238103 [=========================>....] - ETA: 3s - loss: 0.0410 - acc: 0.9888"
          ],
          "name": "stdout"
        },
        {
          "output_type": "stream",
          "text": [
            "238103/238103 [==============================] - 30s 124us/step - loss: 0.0412 - acc: 0.9888 - val_loss: 0.0657 - val_acc: 0.9837\n",
            "Epoch 11/20\n",
            "211328/238103 [=========================>....] - ETA: 3s - loss: 0.0387 - acc: 0.9896"
          ],
          "name": "stdout"
        },
        {
          "output_type": "stream",
          "text": [
            "238103/238103 [==============================] - 29s 124us/step - loss: 0.0392 - acc: 0.9894 - val_loss: 0.0686 - val_acc: 0.9836\n",
            "Epoch 12/20\n",
            "211072/238103 [=========================>....] - ETA: 3s - loss: 0.0355 - acc: 0.9903"
          ],
          "name": "stdout"
        },
        {
          "output_type": "stream",
          "text": [
            "238103/238103 [==============================] - 29s 124us/step - loss: 0.0357 - acc: 0.9901 - val_loss: 0.0792 - val_acc: 0.9804\n",
            "Epoch 13/20\n",
            "211200/238103 [=========================>....] - ETA: 3s - loss: 0.0335 - acc: 0.9908"
          ],
          "name": "stdout"
        },
        {
          "output_type": "stream",
          "text": [
            "238103/238103 [==============================] - 30s 124us/step - loss: 0.0334 - acc: 0.9909 - val_loss: 0.0666 - val_acc: 0.9843\n",
            "Epoch 14/20\n",
            "212096/238103 [=========================>....] - ETA: 2s - loss: 0.0315 - acc: 0.9915"
          ],
          "name": "stdout"
        },
        {
          "output_type": "stream",
          "text": [
            "238103/238103 [==============================] - 29s 124us/step - loss: 0.0323 - acc: 0.9913 - val_loss: 0.0742 - val_acc: 0.9834\n",
            "Epoch 15/20\n",
            "211840/238103 [=========================>....] - ETA: 3s - loss: 0.0301 - acc: 0.9918"
          ],
          "name": "stdout"
        },
        {
          "output_type": "stream",
          "text": [
            "238103/238103 [==============================] - 30s 124us/step - loss: 0.0301 - acc: 0.9917 - val_loss: 0.0676 - val_acc: 0.9848\n",
            "Epoch 16/20\n",
            "211456/238103 [=========================>....] - ETA: 3s - loss: 0.0287 - acc: 0.9922"
          ],
          "name": "stdout"
        },
        {
          "output_type": "stream",
          "text": [
            "238103/238103 [==============================] - 30s 124us/step - loss: 0.0289 - acc: 0.9921 - val_loss: 0.0746 - val_acc: 0.9828\n",
            "Epoch 17/20\n",
            "211456/238103 [=========================>....] - ETA: 3s - loss: 0.0276 - acc: 0.9926"
          ],
          "name": "stdout"
        },
        {
          "output_type": "stream",
          "text": [
            "238103/238103 [==============================] - 29s 124us/step - loss: 0.0278 - acc: 0.9925 - val_loss: 0.0717 - val_acc: 0.9839\n",
            "Epoch 18/20\n",
            "211712/238103 [=========================>....] - ETA: 3s - loss: 0.0263 - acc: 0.9928"
          ],
          "name": "stdout"
        },
        {
          "output_type": "stream",
          "text": [
            "238103/238103 [==============================] - 29s 124us/step - loss: 0.0265 - acc: 0.9927 - val_loss: 0.0717 - val_acc: 0.9843\n",
            "Epoch 19/20\n",
            "212096/238103 [=========================>....] - ETA: 2s - loss: 0.0248 - acc: 0.9932"
          ],
          "name": "stdout"
        },
        {
          "output_type": "stream",
          "text": [
            "238103/238103 [==============================] - 29s 124us/step - loss: 0.0256 - acc: 0.9930 - val_loss: 0.0782 - val_acc: 0.9845\n",
            "Epoch 20/20\n",
            "210432/238103 [=========================>....] - ETA: 3s - loss: 0.0232 - acc: 0.9937"
          ],
          "name": "stdout"
        },
        {
          "output_type": "stream",
          "text": [
            "238103/238103 [==============================] - 30s 124us/step - loss: 0.0243 - acc: 0.9934 - val_loss: 0.0731 - val_acc: 0.9840\n"
          ],
          "name": "stdout"
        }
      ]
    },
    {
      "metadata": {
        "id": "1eoesp2_mrSX",
        "colab_type": "code",
        "colab": {
          "autoexec": {
            "startup": false,
            "wait_interval": 0
          },
          "base_uri": "https://localhost:8080/",
          "height": 1159
        },
        "outputId": "6f4ac2a3-83e1-4a3a-ff27-209a15f5e347",
        "executionInfo": {
          "status": "ok",
          "timestamp": 1528854835827,
          "user_tz": 420,
          "elapsed": 1334427,
          "user": {
            "displayName": "YeeJay Ng",
            "photoUrl": "//lh6.googleusercontent.com/-RF8GVunHxUU/AAAAAAAAAAI/AAAAAAAAAVY/-iRhkzqefyU/s50-c-k-no/photo.jpg",
            "userId": "113615214030775264970"
          }
        }
      },
      "cell_type": "code",
      "source": [
        "mod3 = model3()\n",
        "mod3.summary()\n",
        "mod3.fit(x=X_train,\n",
        "          y=Y_train,\n",
        "          epochs=epochs, batch_size=128,verbose=1, validation_data=(X_valid, Y_valid))\n",
        "models.append(mod3)"
      ],
      "execution_count": 20,
      "outputs": [
        {
          "output_type": "stream",
          "text": [
            "_________________________________________________________________\n",
            "Layer (type)                 Output Shape              Param #   \n",
            "=================================================================\n",
            "batch_normalization_1 (Batch (None, 28, 28, 1)         4         \n",
            "_________________________________________________________________\n",
            "activation_1 (Activation)    (None, 28, 28, 1)         0         \n",
            "_________________________________________________________________\n",
            "conv2d_3 (Conv2D)            (None, 28, 28, 32)        832       \n",
            "_________________________________________________________________\n",
            "batch_normalization_2 (Batch (None, 28, 28, 32)        128       \n",
            "_________________________________________________________________\n",
            "activation_2 (Activation)    (None, 28, 28, 32)        0         \n",
            "_________________________________________________________________\n",
            "conv2d_4 (Conv2D)            (None, 28, 28, 64)        51264     \n",
            "_________________________________________________________________\n",
            "flatten_3 (Flatten)          (None, 50176)             0         \n",
            "_________________________________________________________________\n",
            "dense_4 (Dense)              (None, 128)               6422656   \n",
            "_________________________________________________________________\n",
            "dense_5 (Dense)              (None, 26)                3354      \n",
            "=================================================================\n",
            "Total params: 6,478,238\n",
            "Trainable params: 6,478,172\n",
            "Non-trainable params: 66\n",
            "_________________________________________________________________\n",
            "Train on 238103 samples, validate on 59526 samples\n",
            "Epoch 1/20\n",
            " 13952/238103 [>.............................] - ETA: 1:08 - loss: 1.2779 - acc: 0.7355"
          ],
          "name": "stdout"
        },
        {
          "output_type": "stream",
          "text": [
            "238103/238103 [==============================] - 67s 282us/step - loss: 0.2441 - acc: 0.9393 - val_loss: 0.1277 - val_acc: 0.9653\n",
            "Epoch 2/20\n",
            " 19840/238103 [=>............................] - ETA: 56s - loss: 0.1087 - acc: 0.9710"
          ],
          "name": "stdout"
        },
        {
          "output_type": "stream",
          "text": [
            "238103/238103 [==============================] - 67s 280us/step - loss: 0.0973 - acc: 0.9738 - val_loss: 0.1085 - val_acc: 0.9703\n",
            "Epoch 3/20\n"
          ],
          "name": "stdout"
        },
        {
          "output_type": "stream",
          "text": [
            "238103/238103 [==============================] - 67s 280us/step - loss: 0.0743 - acc: 0.9792 - val_loss: 0.0856 - val_acc: 0.9781\n",
            "Epoch 4/20\n",
            " 19328/238103 [=>............................] - ETA: 57s - loss: 0.0502 - acc: 0.9856"
          ],
          "name": "stdout"
        },
        {
          "output_type": "stream",
          "text": [
            "238103/238103 [==============================] - 67s 280us/step - loss: 0.0603 - acc: 0.9828 - val_loss: 0.0995 - val_acc: 0.9761\n",
            "Epoch 5/20\n",
            " 18560/238103 [=>............................] - ETA: 57s - loss: 0.0455 - acc: 0.9876"
          ],
          "name": "stdout"
        },
        {
          "output_type": "stream",
          "text": [
            "238103/238103 [==============================] - 66s 279us/step - loss: 0.0486 - acc: 0.9860 - val_loss: 0.0795 - val_acc: 0.9808\n",
            "Epoch 6/20\n",
            " 18560/238103 [=>............................] - ETA: 57s - loss: 0.0395 - acc: 0.9908"
          ],
          "name": "stdout"
        },
        {
          "output_type": "stream",
          "text": [
            "238103/238103 [==============================] - 67s 280us/step - loss: 0.0403 - acc: 0.9885 - val_loss: 0.0833 - val_acc: 0.9800\n",
            "Epoch 7/20\n",
            " 19584/238103 [=>............................] - ETA: 57s - loss: 0.0367 - acc: 0.9906"
          ],
          "name": "stdout"
        },
        {
          "output_type": "stream",
          "text": [
            "238103/238103 [==============================] - 67s 280us/step - loss: 0.0339 - acc: 0.9905 - val_loss: 0.0863 - val_acc: 0.9815\n",
            "Epoch 8/20\n",
            " 19840/238103 [=>............................] - ETA: 56s - loss: 0.0241 - acc: 0.9938"
          ],
          "name": "stdout"
        },
        {
          "output_type": "stream",
          "text": [
            "238103/238103 [==============================] - 67s 280us/step - loss: 0.0305 - acc: 0.9915 - val_loss: 0.0773 - val_acc: 0.9837\n",
            "Epoch 9/20\n",
            " 21120/238103 [=>............................] - ETA: 56s - loss: 0.0181 - acc: 0.9953"
          ],
          "name": "stdout"
        },
        {
          "output_type": "stream",
          "text": [
            "238103/238103 [==============================] - 67s 280us/step - loss: 0.0261 - acc: 0.9931 - val_loss: 0.0800 - val_acc: 0.9842\n",
            "Epoch 10/20\n",
            " 20096/238103 [=>............................] - ETA: 57s - loss: 0.0269 - acc: 0.9935"
          ],
          "name": "stdout"
        },
        {
          "output_type": "stream",
          "text": [
            "238103/238103 [==============================] - 67s 280us/step - loss: 0.0245 - acc: 0.9935 - val_loss: 0.0939 - val_acc: 0.9828\n",
            "Epoch 11/20\n",
            " 19328/238103 [=>............................] - ETA: 57s - loss: 0.0145 - acc: 0.9956"
          ],
          "name": "stdout"
        },
        {
          "output_type": "stream",
          "text": [
            "238103/238103 [==============================] - 67s 280us/step - loss: 0.0220 - acc: 0.9943 - val_loss: 0.0861 - val_acc: 0.9860\n",
            "Epoch 12/20\n",
            " 18304/238103 [=>............................] - ETA: 57s - loss: 0.0141 - acc: 0.9962"
          ],
          "name": "stdout"
        },
        {
          "output_type": "stream",
          "text": [
            "238103/238103 [==============================] - 67s 280us/step - loss: 0.0217 - acc: 0.9947 - val_loss: 0.1008 - val_acc: 0.9839\n",
            "Epoch 13/20\n",
            " 19584/238103 [=>............................] - ETA: 57s - loss: 0.0159 - acc: 0.9963"
          ],
          "name": "stdout"
        },
        {
          "output_type": "stream",
          "text": [
            "238103/238103 [==============================] - 67s 280us/step - loss: 0.0200 - acc: 0.9953 - val_loss: 0.0906 - val_acc: 0.9864\n",
            "Epoch 14/20\n",
            " 18816/238103 [=>............................] - ETA: 57s - loss: 0.0181 - acc: 0.9965"
          ],
          "name": "stdout"
        },
        {
          "output_type": "stream",
          "text": [
            "238103/238103 [==============================] - 67s 280us/step - loss: 0.0194 - acc: 0.9954 - val_loss: 0.0967 - val_acc: 0.9852\n",
            "Epoch 15/20\n",
            " 16000/238103 [=>............................] - ETA: 58s - loss: 0.0140 - acc: 0.9970"
          ],
          "name": "stdout"
        },
        {
          "output_type": "stream",
          "text": [
            "238103/238103 [==============================] - 67s 280us/step - loss: 0.0185 - acc: 0.9957 - val_loss: 0.1066 - val_acc: 0.9850\n",
            "Epoch 16/20\n",
            " 19072/238103 [=>............................] - ETA: 57s - loss: 0.0161 - acc: 0.9961"
          ],
          "name": "stdout"
        },
        {
          "output_type": "stream",
          "text": [
            "238103/238103 [==============================] - 67s 280us/step - loss: 0.0187 - acc: 0.9958 - val_loss: 0.1100 - val_acc: 0.9844\n",
            "Epoch 17/20\n",
            " 19328/238103 [=>............................] - ETA: 57s - loss: 0.0161 - acc: 0.9961"
          ],
          "name": "stdout"
        },
        {
          "output_type": "stream",
          "text": [
            "238103/238103 [==============================] - 67s 281us/step - loss: 0.0175 - acc: 0.9962 - val_loss: 0.1194 - val_acc: 0.9847\n",
            "Epoch 18/20\n",
            " 18560/238103 [=>............................] - ETA: 57s - loss: 0.0175 - acc: 0.9961"
          ],
          "name": "stdout"
        },
        {
          "output_type": "stream",
          "text": [
            "238103/238103 [==============================] - 67s 280us/step - loss: 0.0182 - acc: 0.9961 - val_loss: 0.1008 - val_acc: 0.9866\n",
            "Epoch 19/20\n",
            " 17792/238103 [=>............................] - ETA: 57s - loss: 0.0166 - acc: 0.9971"
          ],
          "name": "stdout"
        },
        {
          "output_type": "stream",
          "text": [
            "238103/238103 [==============================] - 67s 280us/step - loss: 0.0160 - acc: 0.9965 - val_loss: 0.1026 - val_acc: 0.9862\n",
            "Epoch 20/20\n",
            " 20608/238103 [=>............................] - ETA: 56s - loss: 0.0129 - acc: 0.9964"
          ],
          "name": "stdout"
        },
        {
          "output_type": "stream",
          "text": [
            "238103/238103 [==============================] - 67s 280us/step - loss: 0.0187 - acc: 0.9961 - val_loss: 0.1105 - val_acc: 0.9868\n"
          ],
          "name": "stdout"
        }
      ]
    },
    {
      "metadata": {
        "id": "WgHtk_6UmvG0",
        "colab_type": "text"
      },
      "cell_type": "markdown",
      "source": [
        "# Ensemble"
      ]
    },
    {
      "metadata": {
        "id": "uxv43q_Jmwqo",
        "colab_type": "code",
        "colab": {
          "autoexec": {
            "startup": false,
            "wait_interval": 0
          },
          "base_uri": "https://localhost:8080/",
          "height": 34
        },
        "outputId": "100a1b41-8f1f-4a99-93a2-bd5902b8c88c",
        "executionInfo": {
          "status": "ok",
          "timestamp": 1528854861035,
          "user_tz": 420,
          "elapsed": 25142,
          "user": {
            "displayName": "YeeJay Ng",
            "photoUrl": "//lh6.googleusercontent.com/-RF8GVunHxUU/AAAAAAAAAAI/AAAAAAAAAVY/-iRhkzqefyU/s50-c-k-no/photo.jpg",
            "userId": "113615214030775264970"
          }
        }
      },
      "cell_type": "code",
      "source": [
        "preds = tf.argmax(np.mean([mod.predict(X_test) for mod in models], axis=0),1)\n",
        "Y_pred = tf.Session().run(preds)\n",
        "incorrect = 0\n",
        "for i in range(len(Y_pred)):\n",
        "  if Y_pred[i] != Y_test[i]:\n",
        "    incorrect += 1\n",
        "print(\"Accuracy:\", 1.0 * (len(Y_pred)-incorrect) / len(Y_pred) )"
      ],
      "execution_count": 21,
      "outputs": [
        {
          "output_type": "stream",
          "text": [
            "Accuracy: 0.992500806364907\n"
          ],
          "name": "stdout"
        }
      ]
    }
  ]
}