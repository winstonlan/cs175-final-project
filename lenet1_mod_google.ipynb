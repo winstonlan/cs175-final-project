{
  "nbformat": 4,
  "nbformat_minor": 0,
  "metadata": {
    "colab": {
      "name": "lenet1_mod.ipynb",
      "version": "0.3.2",
      "views": {},
      "default_view": {},
      "provenance": []
    },
    "kernelspec": {
      "name": "python3",
      "display_name": "Python 3"
    },
    "accelerator": "GPU"
  },
  "cells": [
    {
      "metadata": {
        "id": "QsR9EE34Ihlt",
        "colab_type": "text"
      },
      "cell_type": "markdown",
      "source": [
        "# LeNet 1 Mod"
      ]
    },
    {
      "metadata": {
        "id": "vItJiT3CIlaC",
        "colab_type": "text"
      },
      "cell_type": "markdown",
      "source": [
        "## Google Colab Stuff"
      ]
    },
    {
      "metadata": {
        "id": "W_Ik5paa-5QB",
        "colab_type": "code",
        "colab": {
          "autoexec": {
            "startup": false,
            "wait_interval": 0
          }
        }
      },
      "cell_type": "code",
      "source": [
        "# Code to read csv file into colaboratory:\n",
        "!pip install -U -q PyDrive\n",
        "from pydrive.auth import GoogleAuth\n",
        "from pydrive.drive import GoogleDrive\n",
        "from google.colab import auth\n",
        "from oauth2client.client import GoogleCredentials\n",
        "\n",
        "# 1. Authenticate and create the PyDrive client.\n",
        "auth.authenticate_user()\n",
        "gauth = GoogleAuth()\n",
        "gauth.credentials = GoogleCredentials.get_application_default()\n",
        "drive = GoogleDrive(gauth)\n",
        "\n",
        "#2. Get the file\n",
        "downloaded = drive.CreateFile({'id':'1meytppCXQ0WRmngIB5_ORuOWsusRHBch'}) # replace the id with id of file you want to access\n",
        "downloaded.GetContentFile('handwritten.csv')  \n",
        "\n",
        "#3. Read file as panda dataframe\n",
        "import pandas as pd\n",
        "data = pd.read_csv('handwritten.csv') "
      ],
      "execution_count": 0,
      "outputs": []
    },
    {
      "metadata": {
        "id": "tPYacHom_zLB",
        "colab_type": "code",
        "colab": {
          "autoexec": {
            "startup": false,
            "wait_interval": 0
          }
        }
      },
      "cell_type": "code",
      "source": [
        "!pip install -q keras\n",
        "!pip install -q numpy\n",
        "!pip install -q sklearn\n",
        "!pip install -q matplotlib\n",
        "!pip install -q pandas\n"
      ],
      "execution_count": 0,
      "outputs": []
    },
    {
      "metadata": {
        "id": "6Ho2zSr2A7Bl",
        "colab_type": "code",
        "colab": {
          "autoexec": {
            "startup": false,
            "wait_interval": 0
          }
        }
      },
      "cell_type": "code",
      "source": [
        "import numpy as np\n",
        "import pandas as pd\n",
        "import matplotlib.pyplot as plt\n",
        "import matplotlib.image as mpimg\n",
        "%matplotlib inline\n",
        "\n",
        "from sklearn.model_selection import train_test_split"
      ],
      "execution_count": 0,
      "outputs": []
    },
    {
      "metadata": {
        "id": "gf0gwbHLIre7",
        "colab_type": "text"
      },
      "cell_type": "markdown",
      "source": [
        "## Load the Data"
      ]
    },
    {
      "metadata": {
        "id": "VYE2JbxQCFdN",
        "colab_type": "code",
        "colab": {
          "autoexec": {
            "startup": false,
            "wait_interval": 0
          },
          "base_uri": "https://localhost:8080/",
          "height": 51
        },
        "outputId": "9b7108cf-4b28-40dc-b784-4aa47103e212",
        "executionInfo": {
          "status": "ok",
          "timestamp": 1527483817641,
          "user_tz": 420,
          "elapsed": 26318,
          "user": {
            "displayName": "Winston Lan",
            "photoUrl": "https://lh3.googleusercontent.com/a/default-user=s128",
            "userId": "104495917744035597997"
          }
        }
      },
      "cell_type": "code",
      "source": [
        "# Get the data from the csv file\n",
        "data = data.values\n",
        "np.random.shuffle(data)\n",
        "\n",
        "# Split the data into X, Y, and parition the values into the training and test splits\n",
        "# Reshape X to be in the shape (N, 28, 28)\n",
        "X, Y = data[:,1:], data[:,0]\n",
        "# X = X.reshape(X.shape[0], 28, 28)\n",
        "X_train, X_test, Y_train, Y_test = train_test_split(X, Y, test_size=0.2)\n",
        "\n",
        "print(\"Train {} {}\".format(X_train.shape, Y_train.shape))\n",
        "print(\"Test {} {}\".format(X_test.shape, Y_test.shape))"
      ],
      "execution_count": 6,
      "outputs": [
        {
          "output_type": "stream",
          "text": [
            "Train (297629, 784) (297629,)\n",
            "Test (74408, 784) (74408,)\n"
          ],
          "name": "stdout"
        }
      ]
    },
    {
      "metadata": {
        "id": "3wOWMb1tIvgn",
        "colab_type": "text"
      },
      "cell_type": "markdown",
      "source": [
        "## Analyze the Data"
      ]
    },
    {
      "metadata": {
        "id": "njw7HOtsCO1P",
        "colab_type": "code",
        "colab": {
          "autoexec": {
            "startup": false,
            "wait_interval": 0
          },
          "base_uri": "https://localhost:8080/",
          "height": 68
        },
        "outputId": "a1b99137-2051-4d41-8cfc-0d085075e255",
        "executionInfo": {
          "status": "ok",
          "timestamp": 1527483941865,
          "user_tz": 420,
          "elapsed": 361,
          "user": {
            "displayName": "Winston Lan",
            "photoUrl": "https://lh3.googleusercontent.com/a/default-user=s128",
            "userId": "104495917744035597997"
          }
        }
      },
      "cell_type": "code",
      "source": [
        "classes = np.unique(Y_train)\n",
        "n_classes = len(classes)\n",
        "print('Total number of outputs : ', n_classes)\n",
        "print('Output classes : ', classes)"
      ],
      "execution_count": 7,
      "outputs": [
        {
          "output_type": "stream",
          "text": [
            "Total number of outputs :  26\n",
            "Output classes :  [ 0  1  2  3  4  5  6  7  8  9 10 11 12 13 14 15 16 17 18 19 20 21 22 23\n",
            " 24 25]\n"
          ],
          "name": "stdout"
        }
      ]
    },
    {
      "metadata": {
        "id": "Ubimh9F1I0I1",
        "colab_type": "code",
        "colab": {
          "autoexec": {
            "startup": false,
            "wait_interval": 0
          },
          "base_uri": "https://localhost:8080/",
          "height": 266
        },
        "outputId": "19a72cc0-fc41-4ee8-8985-a579b11d1824",
        "executionInfo": {
          "status": "ok",
          "timestamp": 1527483946335,
          "user_tz": 420,
          "elapsed": 649,
          "user": {
            "displayName": "Winston Lan",
            "photoUrl": "https://lh3.googleusercontent.com/a/default-user=s128",
            "userId": "104495917744035597997"
          }
        }
      },
      "cell_type": "code",
      "source": [
        "X_example1 = X_train[0]\n",
        "X_example2 = X_test[0]\n",
        "\n",
        "fig= plt.figure(figsize=(8,8))\n",
        "\n",
        "X_example1_2d = X_example1.reshape(28,28)\n",
        "fig.add_subplot(1,2,1)\n",
        "plt.imshow(X_example1_2d)\n",
        "plt.title(\"Ground Truth: {}\".format(Y_train[0]))\n",
        "\n",
        "X_example2_2d = X_example2.reshape(28,28)\n",
        "fig.add_subplot(1,2,2)\n",
        "plt.imshow(X_example2_2d)\n",
        "plt.title(\"Ground Truth: {}\".format(Y_test[0]))\n",
        "\n",
        "plt.show()\n"
      ],
      "execution_count": 8,
      "outputs": [
        {
          "output_type": "display_data",
          "data": {
            "image/png": "[encoded data removed]",
            "text/plain": [
              "<matplotlib.figure.Figure at 0x7f9c54e64a20>"
            ]
          },
          "metadata": {
            "tags": []
          }
        }
      ]
    },
    {
      "metadata": {
        "id": "aIH_aoQlI544",
        "colab_type": "text"
      },
      "cell_type": "markdown",
      "source": [
        "## Data Preprocessing"
      ]
    },
    {
      "metadata": {
        "id": "tw6XZF4BI1Jt",
        "colab_type": "code",
        "colab": {
          "autoexec": {
            "startup": false,
            "wait_interval": 0
          },
          "base_uri": "https://localhost:8080/",
          "height": 34
        },
        "outputId": "eb31c35c-3620-461d-c4cc-4e23b7f7efa2",
        "executionInfo": {
          "status": "ok",
          "timestamp": 1527483981759,
          "user_tz": 420,
          "elapsed": 1962,
          "user": {
            "displayName": "Winston Lan",
            "photoUrl": "https://lh3.googleusercontent.com/a/default-user=s128",
            "userId": "104495917744035597997"
          }
        }
      },
      "cell_type": "code",
      "source": [
        "from keras.utils import to_categorical"
      ],
      "execution_count": 9,
      "outputs": [
        {
          "output_type": "stream",
          "text": [
            "Using TensorFlow backend.\n"
          ],
          "name": "stderr"
        }
      ]
    },
    {
      "metadata": {
        "id": "RGhe57HUI9fM",
        "colab_type": "code",
        "colab": {
          "autoexec": {
            "startup": false,
            "wait_interval": 0
          },
          "base_uri": "https://localhost:8080/",
          "height": 51
        },
        "outputId": "550e8e9b-38bf-40c0-ddab-55e51d7303c9",
        "executionInfo": {
          "status": "ok",
          "timestamp": 1527483983843,
          "user_tz": 420,
          "elapsed": 340,
          "user": {
            "displayName": "Winston Lan",
            "photoUrl": "https://lh3.googleusercontent.com/a/default-user=s128",
            "userId": "104495917744035597997"
          }
        }
      },
      "cell_type": "code",
      "source": [
        "X_train = X_train.reshape(-1, 28, 28, 1)\n",
        "X_test = X_test.reshape(-1, 28, 28, 1)\n",
        "print(\"Train {}\".format(X_train.shape))\n",
        "print(\"Test {}\".format(X_test.shape))"
      ],
      "execution_count": 10,
      "outputs": [
        {
          "output_type": "stream",
          "text": [
            "Train (297629, 28, 28, 1)\n",
            "Test (74408, 28, 28, 1)\n"
          ],
          "name": "stdout"
        }
      ]
    },
    {
      "metadata": {
        "id": "G0rsqt6yI-Yq",
        "colab_type": "code",
        "colab": {
          "autoexec": {
            "startup": false,
            "wait_interval": 0
          }
        }
      },
      "cell_type": "code",
      "source": [
        "X_train = X_train.astype(\"float32\")\n",
        "X_test = X_test.astype(\"float32\")\n",
        "\n",
        "# Normalize and standardize the data\n",
        "mean_image = np.mean(X_train, axis=0)\n",
        "X_train = (X_train - mean_image) / 255\n",
        "X_test = (X_test - mean_image) / 255"
      ],
      "execution_count": 0,
      "outputs": []
    },
    {
      "metadata": {
        "id": "EMytigGwI_gk",
        "colab_type": "code",
        "colab": {
          "autoexec": {
            "startup": false,
            "wait_interval": 0
          },
          "base_uri": "https://localhost:8080/",
          "height": 266
        },
        "outputId": "4b5eed1a-7a94-42ab-f23e-9eda990678f7",
        "executionInfo": {
          "status": "ok",
          "timestamp": 1527483992852,
          "user_tz": 420,
          "elapsed": 530,
          "user": {
            "displayName": "Winston Lan",
            "photoUrl": "https://lh3.googleusercontent.com/a/default-user=s128",
            "userId": "104495917744035597997"
          }
        }
      },
      "cell_type": "code",
      "source": [
        "X_example1 = X_train[0]\n",
        "X_example2 = X_test[0]\n",
        "\n",
        "fig= plt.figure(figsize=(8,8))\n",
        "\n",
        "X_example1_2d = X_example1.reshape(28,28)\n",
        "fig.add_subplot(1,2,1)\n",
        "plt.imshow(X_example1_2d)\n",
        "plt.title(\"Ground Truth: {}\".format(Y_train[0]))\n",
        "\n",
        "X_example2_2d = X_example2.reshape(28,28)\n",
        "fig.add_subplot(1,2,2)\n",
        "plt.imshow(X_example2_2d)\n",
        "plt.title(\"Ground Truth: {}\".format(Y_test[0]))\n",
        "\n",
        "plt.show()"
      ],
      "execution_count": 12,
      "outputs": [
        {
          "output_type": "display_data",
          "data": {
            "image/png": "[encoded data removed]",
            "text/plain": [
              "<matplotlib.figure.Figure at 0x7f9c14e11358>"
            ]
          },
          "metadata": {
            "tags": []
          }
        }
      ]
    },
    {
      "metadata": {
        "id": "gMe2B92BJAi2",
        "colab_type": "code",
        "colab": {
          "autoexec": {
            "startup": false,
            "wait_interval": 0
          },
          "base_uri": "https://localhost:8080/",
          "height": 68
        },
        "outputId": "5c7ef5c8-ae06-44f4-ba73-2cb9d85c1c5e",
        "executionInfo": {
          "status": "ok",
          "timestamp": 1527483998090,
          "user_tz": 420,
          "elapsed": 387,
          "user": {
            "displayName": "Winston Lan",
            "photoUrl": "https://lh3.googleusercontent.com/a/default-user=s128",
            "userId": "104495917744035597997"
          }
        }
      },
      "cell_type": "code",
      "source": [
        "Y_train_onehot = to_categorical(Y_train)\n",
        "Y_test_onehot = to_categorical(Y_test)\n",
        "\n",
        "print(\"Original Label: {}\".format(Y_train[0]))\n",
        "print(\"One Hot Label: {}\".format(Y_train_onehot[0]))"
      ],
      "execution_count": 13,
      "outputs": [
        {
          "output_type": "stream",
          "text": [
            "Original Label: 18\n",
            "One Hot Label: [0. 0. 0. 0. 0. 0. 0. 0. 0. 0. 0. 0. 0. 0. 0. 0. 0. 0. 1. 0. 0. 0. 0. 0.\n",
            " 0. 0.]\n"
          ],
          "name": "stdout"
        }
      ]
    },
    {
      "metadata": {
        "id": "qmyKSquJJB22",
        "colab_type": "code",
        "colab": {
          "autoexec": {
            "startup": false,
            "wait_interval": 0
          },
          "base_uri": "https://localhost:8080/",
          "height": 51
        },
        "outputId": "b2fd135b-2d8a-423f-ad6c-6137792e3c1b",
        "executionInfo": {
          "status": "ok",
          "timestamp": 1527484004382,
          "user_tz": 420,
          "elapsed": 645,
          "user": {
            "displayName": "Winston Lan",
            "photoUrl": "https://lh3.googleusercontent.com/a/default-user=s128",
            "userId": "104495917744035597997"
          }
        }
      },
      "cell_type": "code",
      "source": [
        "X_train, X_valid, Y_train, Y_valid = train_test_split(X_train, Y_train_onehot, test_size=0.2)\n",
        "\n",
        "print(\"Train: {} {}\".format(X_train.shape, Y_train.shape))\n",
        "print(\"Valid: {} {}\".format(X_valid.shape, Y_valid.shape))"
      ],
      "execution_count": 14,
      "outputs": [
        {
          "output_type": "stream",
          "text": [
            "Train: (238103, 28, 28, 1) (238103, 26)\n",
            "Valid: (59526, 28, 28, 1) (59526, 26)\n"
          ],
          "name": "stdout"
        }
      ]
    },
    {
      "metadata": {
        "id": "usceIaubJEWm",
        "colab_type": "text"
      },
      "cell_type": "markdown",
      "source": [
        "## LeNet 1 Mod Model"
      ]
    },
    {
      "metadata": {
        "id": "RPTMQwMOJDU7",
        "colab_type": "code",
        "colab": {
          "autoexec": {
            "startup": false,
            "wait_interval": 0
          }
        }
      },
      "cell_type": "code",
      "source": [
        "import keras\n",
        "from keras.models import Sequential,Input,Model\n",
        "from keras.layers import Dense, Dropout, Flatten\n",
        "from keras.layers import Conv2D, MaxPooling2D\n",
        "from keras.layers.normalization import BatchNormalization\n",
        "from keras.layers.advanced_activations import LeakyReLU"
      ],
      "execution_count": 0,
      "outputs": []
    },
    {
      "metadata": {
        "id": "2rSMGnakJHoM",
        "colab_type": "code",
        "colab": {
          "autoexec": {
            "startup": false,
            "wait_interval": 0
          }
        }
      },
      "cell_type": "code",
      "source": [
        "batch_size = 128\n",
        "epochs = 10\n",
        "num_classes = 26"
      ],
      "execution_count": 0,
      "outputs": []
    },
    {
      "metadata": {
        "id": "PxS79bRgJIqo",
        "colab_type": "code",
        "colab": {
          "autoexec": {
            "startup": false,
            "wait_interval": 0
          }
        }
      },
      "cell_type": "code",
      "source": [
        "lenet1_mod_model = Sequential()\n",
        "# Convolutional Layer 1\n",
        "lenet1_mod_model.add(Conv2D(32, \n",
        "                            kernel_size=(5,5), \n",
        "                            padding=\"same\", \n",
        "                            activation=\"relu\",\n",
        "                            input_shape=(28, 28, 1), \n",
        "                            data_format=\"channels_last\"))\n",
        "\n",
        "# Pooling Layer 1\n",
        "lenet1_mod_model.add(MaxPooling2D(pool_size=(2,2), \n",
        "                                  padding=\"same\"))\n",
        "\n",
        "# Convolution Layer 2\n",
        "lenet1_mod_model.add(Conv2D(32, \n",
        "                            kernel_size=(5,5), \n",
        "                            activation=\"relu\", \n",
        "                            padding=\"same\"))\n",
        "\n",
        "# Pooling Layer 2\n",
        "lenet1_mod_model.add(MaxPooling2D(pool_size=(2,2), \n",
        "                                  padding=\"same\"))\n",
        "\n",
        "# Convolution Layer 3\n",
        "lenet1_mod_model.add(Conv2D(32, \n",
        "                            kernel_size=(5,5), \n",
        "                            activation=\"linear\", \n",
        "                            padding=\"same\"))\n",
        "\n",
        "lenet1_mod_model.add(Flatten())\n",
        "\n",
        "lenet1_mod_model.add(Dense(128, \n",
        "                           activation=\"relu\"))\n",
        "\n",
        "lenet1_mod_model.add(Dense(num_classes, \n",
        "                           activation=\"softmax\"))\n"
      ],
      "execution_count": 0,
      "outputs": []
    },
    {
      "metadata": {
        "id": "QcDKdcwPJJ1s",
        "colab_type": "code",
        "colab": {
          "autoexec": {
            "startup": false,
            "wait_interval": 0
          }
        }
      },
      "cell_type": "code",
      "source": [
        "lenet1_mod_model.compile(loss=keras.losses.categorical_crossentropy, optimizer=keras.optimizers.Adam(),metrics=['accuracy'])"
      ],
      "execution_count": 0,
      "outputs": []
    },
    {
      "metadata": {
        "id": "RyIz3MwnJLBd",
        "colab_type": "code",
        "colab": {
          "autoexec": {
            "startup": false,
            "wait_interval": 0
          },
          "base_uri": "https://localhost:8080/",
          "height": 408
        },
        "outputId": "d1e44890-be6b-4677-ac3c-9c3314b26eb0",
        "executionInfo": {
          "status": "ok",
          "timestamp": 1527484038824,
          "user_tz": 420,
          "elapsed": 389,
          "user": {
            "displayName": "Winston Lan",
            "photoUrl": "https://lh3.googleusercontent.com/a/default-user=s128",
            "userId": "104495917744035597997"
          }
        }
      },
      "cell_type": "code",
      "source": [
        "lenet1_mod_model.summary()"
      ],
      "execution_count": 19,
      "outputs": [
        {
          "output_type": "stream",
          "text": [
            "_________________________________________________________________\n",
            "Layer (type)                 Output Shape              Param #   \n",
            "=================================================================\n",
            "conv2d_1 (Conv2D)            (None, 28, 28, 32)        832       \n",
            "_________________________________________________________________\n",
            "max_pooling2d_1 (MaxPooling2 (None, 14, 14, 32)        0         \n",
            "_________________________________________________________________\n",
            "conv2d_2 (Conv2D)            (None, 14, 14, 32)        25632     \n",
            "_________________________________________________________________\n",
            "max_pooling2d_2 (MaxPooling2 (None, 7, 7, 32)          0         \n",
            "_________________________________________________________________\n",
            "conv2d_3 (Conv2D)            (None, 7, 7, 32)          25632     \n",
            "_________________________________________________________________\n",
            "flatten_1 (Flatten)          (None, 1568)              0         \n",
            "_________________________________________________________________\n",
            "dense_1 (Dense)              (None, 128)               200832    \n",
            "_________________________________________________________________\n",
            "dense_2 (Dense)              (None, 26)                3354      \n",
            "=================================================================\n",
            "Total params: 256,282\n",
            "Trainable params: 256,282\n",
            "Non-trainable params: 0\n",
            "_________________________________________________________________\n"
          ],
          "name": "stdout"
        }
      ]
    },
    {
      "metadata": {
        "id": "cKHyCXyxJLzB",
        "colab_type": "code",
        "colab": {
          "autoexec": {
            "startup": false,
            "wait_interval": 0
          },
          "base_uri": "https://localhost:8080/",
          "height": 394
        },
        "outputId": "8d22e52e-8afa-4b56-cb3c-48b2eb834b7d",
        "executionInfo": {
          "status": "ok",
          "timestamp": 1527484337346,
          "user_tz": 420,
          "elapsed": 292099,
          "user": {
            "displayName": "Winston Lan",
            "photoUrl": "https://lh3.googleusercontent.com/a/default-user=s128",
            "userId": "104495917744035597997"
          }
        }
      },
      "cell_type": "code",
      "source": [
        "lenet1_mod_train = lenet1_mod_model.fit(X_train, Y_train, batch_size=batch_size,\n",
        "                                epochs=epochs,verbose=1,validation_data=(X_valid, Y_valid))"
      ],
      "execution_count": 20,
      "outputs": [
        {
          "output_type": "stream",
          "text": [
            "Train on 238103 samples, validate on 59526 samples\n",
            "Epoch 1/10\n",
            "238103/238103 [==============================] - 32s 133us/step - loss: 0.1768 - acc: 0.9513 - val_loss: 0.0931 - val_acc: 0.9746\n",
            "Epoch 2/10\n",
            " 52608/238103 [=====>........................] - ETA: 20s - loss: 0.0733 - acc: 0.9810"
          ],
          "name": "stdout"
        },
        {
          "output_type": "stream",
          "text": [
            "238103/238103 [==============================] - 29s 121us/step - loss: 0.0720 - acc: 0.9805 - val_loss: 0.0702 - val_acc: 0.9813\n",
            "Epoch 3/10\n",
            "152960/238103 [==================>...........] - ETA: 9s - loss: 0.0590 - acc: 0.9837"
          ],
          "name": "stdout"
        },
        {
          "output_type": "stream",
          "text": [
            "238103/238103 [==============================] - 29s 121us/step - loss: 0.0576 - acc: 0.9842 - val_loss: 0.0658 - val_acc: 0.9822\n",
            "Epoch 4/10\n",
            "192128/238103 [=======================>......] - ETA: 5s - loss: 0.0496 - acc: 0.9864"
          ],
          "name": "stdout"
        },
        {
          "output_type": "stream",
          "text": [
            "238103/238103 [==============================] - 29s 121us/step - loss: 0.0496 - acc: 0.9863 - val_loss: 0.0575 - val_acc: 0.9849\n",
            "Epoch 5/10\n",
            "205184/238103 [========================>.....] - ETA: 3s - loss: 0.0411 - acc: 0.9884"
          ],
          "name": "stdout"
        },
        {
          "output_type": "stream",
          "text": [
            "238103/238103 [==============================] - 29s 121us/step - loss: 0.0413 - acc: 0.9883 - val_loss: 0.0555 - val_acc: 0.9854\n",
            "Epoch 6/10\n",
            "211712/238103 [=========================>....] - ETA: 2s - loss: 0.0359 - acc: 0.9898"
          ],
          "name": "stdout"
        },
        {
          "output_type": "stream",
          "text": [
            "238103/238103 [==============================] - 29s 121us/step - loss: 0.0363 - acc: 0.9897 - val_loss: 0.0513 - val_acc: 0.9864\n",
            "Epoch 7/10\n",
            "213376/238103 [=========================>....] - ETA: 2s - loss: 0.0310 - acc: 0.9912"
          ],
          "name": "stdout"
        },
        {
          "output_type": "stream",
          "text": [
            "238103/238103 [==============================] - 29s 122us/step - loss: 0.0314 - acc: 0.9911 - val_loss: 0.0643 - val_acc: 0.9825\n",
            "Epoch 8/10\n",
            "214016/238103 [=========================>....] - ETA: 2s - loss: 0.0285 - acc: 0.9918"
          ],
          "name": "stdout"
        },
        {
          "output_type": "stream",
          "text": [
            "238103/238103 [==============================] - 29s 122us/step - loss: 0.0286 - acc: 0.9918 - val_loss: 0.0517 - val_acc: 0.9866\n",
            "Epoch 9/10\n",
            "214400/238103 [==========================>...] - ETA: 2s - loss: 0.0264 - acc: 0.9921"
          ],
          "name": "stdout"
        },
        {
          "output_type": "stream",
          "text": [
            "238103/238103 [==============================] - 29s 121us/step - loss: 0.0269 - acc: 0.9921 - val_loss: 0.0512 - val_acc: 0.9872\n",
            "Epoch 10/10\n",
            "214144/238103 [=========================>....] - ETA: 2s - loss: 0.0236 - acc: 0.9932"
          ],
          "name": "stdout"
        },
        {
          "output_type": "stream",
          "text": [
            "238103/238103 [==============================] - 29s 121us/step - loss: 0.0240 - acc: 0.9931 - val_loss: 0.0616 - val_acc: 0.9870\n"
          ],
          "name": "stdout"
        }
      ]
    },
    {
      "metadata": {
        "id": "8qhpvCFTJNdj",
        "colab_type": "code",
        "colab": {
          "autoexec": {
            "startup": false,
            "wait_interval": 0
          },
          "base_uri": "https://localhost:8080/",
          "height": 51
        },
        "outputId": "1be1753d-4742-40fe-8537-6fdad1ffe4ad",
        "executionInfo": {
          "status": "ok",
          "timestamp": 1527484369488,
          "user_tz": 420,
          "elapsed": 8236,
          "user": {
            "displayName": "Winston Lan",
            "photoUrl": "https://lh3.googleusercontent.com/a/default-user=s128",
            "userId": "104495917744035597997"
          }
        }
      },
      "cell_type": "code",
      "source": [
        "test_eval = lenet1_mod_model.evaluate(X_test, Y_test_onehot, verbose=0)\n",
        "print('Test loss:', test_eval[0])\n",
        "print('Test accuracy:', test_eval[1])"
      ],
      "execution_count": 21,
      "outputs": [
        {
          "output_type": "stream",
          "text": [
            "Test loss: 0.06602417481514763\n",
            "Test accuracy: 0.9866412213740458\n"
          ],
          "name": "stdout"
        }
      ]
    },
    {
      "metadata": {
        "id": "VZ50Xmb5Jm1S",
        "colab_type": "code",
        "colab": {
          "autoexec": {
            "startup": false,
            "wait_interval": 0
          },
          "base_uri": "https://localhost:8080/",
          "height": 543
        },
        "outputId": "7cb2737c-947a-4b0c-c998-9c098dcc782c",
        "executionInfo": {
          "status": "ok",
          "timestamp": 1527484386962,
          "user_tz": 420,
          "elapsed": 630,
          "user": {
            "displayName": "Winston Lan",
            "photoUrl": "https://lh3.googleusercontent.com/a/default-user=s128",
            "userId": "104495917744035597997"
          }
        }
      },
      "cell_type": "code",
      "source": [
        "accuracy = lenet1_mod_train.history['acc']\n",
        "val_accuracy = lenet1_mod_train.history['val_acc']\n",
        "loss = lenet1_mod_train.history['loss']\n",
        "val_loss = lenet1_mod_train.history['val_loss']\n",
        "epochs = range(len(accuracy))\n",
        "plt.plot(epochs, accuracy, 'bo', label='Training accuracy')\n",
        "plt.plot(epochs, val_accuracy, 'b', label='Validation accuracy')\n",
        "plt.title('Training and Validation accuracy')\n",
        "plt.legend()\n",
        "plt.figure()\n",
        "plt.plot(epochs, loss, 'bo', label='Training loss')\n",
        "plt.plot(epochs, val_loss, 'b', label='Validation loss')\n",
        "plt.title('Training and Validation loss')\n",
        "plt.legend()\n",
        "plt.show()"
      ],
      "execution_count": 23,
      "outputs": [
        {
          "output_type": "display_data",
          "data": {
            "image/png": "[encoded data removed]",
            "text/plain": [
              "<matplotlib.figure.Figure at 0x7f9c14031cc0>"
            ]
          },
          "metadata": {
            "tags": []
          }
        },
        {
          "output_type": "display_data",
          "data": {
            "image/png": "[encoded data removed]",
            "text/plain": [
              "<matplotlib.figure.Figure at 0x7f9c0dad4a20>"
            ]
          },
          "metadata": {
            "tags": []
          }
        }
      ]
    },
    {
      "metadata": {
        "id": "2lgg9X0eKbUJ",
        "colab_type": "code",
        "colab": {
          "autoexec": {
            "startup": false,
            "wait_interval": 0
          }
        }
      },
      "cell_type": "code",
      "source": [
        ""
      ],
      "execution_count": 0,
      "outputs": []
    }
  ]
}