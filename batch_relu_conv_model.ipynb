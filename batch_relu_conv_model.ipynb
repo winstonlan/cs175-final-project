{
 "cells": [
  {
   "cell_type": "markdown",
   "metadata": {},
   "source": [
    "# [Batchnorm --> Relu --> Conv] Model Architecture"
   ]
  },
  {
   "cell_type": "markdown",
   "metadata": {},
   "source": [
    "Goal of this notebook is to develop a neural network based off of the [batchnorm, relu, conv]xN ==> [affine]xM ==> [softmax or SVM]. Goal of the classifier developed by this model is to classify over 90% of the test data correctly.\n"
   ]
  },
  {
   "cell_type": "code",
   "execution_count": 1,
   "metadata": {},
   "outputs": [],
   "source": [
    "import numpy as np\n",
    "import pandas as pd\n",
    "import matplotlib.pyplot as plt\n",
    "import matplotlib.image as mpimg\n",
    "%matplotlib inline\n",
    "\n",
    "from sklearn.model_selection import train_test_split"
   ]
  },
  {
   "cell_type": "markdown",
   "metadata": {},
   "source": [
    "## Load the Data"
   ]
  },
  {
   "cell_type": "code",
   "execution_count": 2,
   "metadata": {},
   "outputs": [
    {
     "name": "stdout",
     "output_type": "stream",
     "text": [
      "Train (297629, 784) (297629,)\n",
      "Test (74408, 784) (74408,)\n"
     ]
    }
   ],
   "source": [
    "# Get the data from the csv file\n",
    "data = pd.read_csv(\"./data/handwritten_data_785.csv\", encoding = \"utf8\").values\n",
    "np.random.shuffle(data)\n",
    "\n",
    "# Split the data into X, Y, and parition the values into the training and test splits\n",
    "# Reshape X to be in the shape (N, 28, 28)\n",
    "X, Y = data[:,1:], data[:,0]\n",
    "# X = X.reshape(X.shape[0], 28, 28)\n",
    "X_train, X_test, Y_train, Y_test = train_test_split(X, Y, test_size=0.2)\n",
    "\n",
    "print(\"Train {} {}\".format(X_train.shape, Y_train.shape))\n",
    "print(\"Test {} {}\".format(X_test.shape, Y_test.shape))"
   ]
  },
  {
   "cell_type": "markdown",
   "metadata": {},
   "source": [
    "## Analyze the Data"
   ]
  },
  {
   "cell_type": "code",
   "execution_count": 3,
   "metadata": {},
   "outputs": [
    {
     "name": "stdout",
     "output_type": "stream",
     "text": [
      "Total number of outputs :  26\n",
      "Output classes :  [ 0  1  2  3  4  5  6  7  8  9 10 11 12 13 14 15 16 17 18 19 20 21 22 23\n",
      " 24 25]\n"
     ]
    }
   ],
   "source": [
    "classes = np.unique(Y_train)\n",
    "n_classes = len(classes)\n",
    "print('Total number of outputs : ', n_classes)\n",
    "print('Output classes : ', classes)"
   ]
  },
  {
   "cell_type": "code",
   "execution_count": 4,
   "metadata": {},
   "outputs": [
    {
     "data": {
      "image/png": "[encoded data removed]",
      "text/plain": [
       "<Figure size 576x576 with 2 Axes>"
      ]
     },
     "metadata": {},
     "output_type": "display_data"
    }
   ],
   "source": [
    "X_example1 = X_train[0]\n",
    "X_example2 = X_test[0]\n",
    "\n",
    "fig= plt.figure(figsize=(8,8))\n",
    "\n",
    "X_example1_2d = X_example1.reshape(28,28)\n",
    "fig.add_subplot(1,2,1)\n",
    "plt.imshow(X_example1_2d)\n",
    "plt.title(\"Ground Truth: {}\".format(Y_train[0]))\n",
    "\n",
    "X_example2_2d = X_example2.reshape(28,28)\n",
    "fig.add_subplot(1,2,2)\n",
    "plt.imshow(X_example2_2d)\n",
    "plt.title(\"Ground Truth: {}\".format(Y_test[0]))\n",
    "\n",
    "plt.show()\n"
   ]
  },
  {
   "cell_type": "markdown",
   "metadata": {},
   "source": [
    "## Data Preprocessing"
   ]
  },
  {
   "cell_type": "code",
   "execution_count": 5,
   "metadata": {},
   "outputs": [
    {
     "name": "stderr",
     "output_type": "stream",
     "text": [
      "/Users/winston/uci/year3/spring18/cs175/final_project/.env/lib/python3.6/site-packages/h5py/__init__.py:36: FutureWarning: Conversion of the second argument of issubdtype from `float` to `np.floating` is deprecated. In future, it will be treated as `np.float64 == np.dtype(float).type`.\n",
      "  from ._conv import register_converters as _register_converters\n",
      "Using TensorFlow backend.\n"
     ]
    }
   ],
   "source": [
    "from keras.utils import to_categorical"
   ]
  },
  {
   "cell_type": "code",
   "execution_count": 6,
   "metadata": {},
   "outputs": [
    {
     "name": "stdout",
     "output_type": "stream",
     "text": [
      "Train (297629, 28, 28, 1)\n",
      "Test (74408, 28, 28, 1)\n"
     ]
    }
   ],
   "source": [
    "X_train = X_train.reshape(-1, 28, 28, 1)\n",
    "X_test = X_test.reshape(-1, 28, 28, 1)\n",
    "print(\"Train {}\".format(X_train.shape))\n",
    "print(\"Test {}\".format(X_test.shape))"
   ]
  },
  {
   "cell_type": "code",
   "execution_count": 7,
   "metadata": {},
   "outputs": [],
   "source": [
    "X_train = X_train.astype(\"float32\")\n",
    "X_test = X_test.astype(\"float32\")\n",
    "\n",
    "# Normalize and standardize the data\n",
    "mean_image = np.mean(X_train, axis=0)\n",
    "X_train = (X_train - mean_image) / 255\n",
    "X_test = (X_test - mean_image) / 255"
   ]
  },
  {
   "cell_type": "code",
   "execution_count": 8,
   "metadata": {},
   "outputs": [
    {
     "data": {
      "image/png": "[encoded data removed]",
      "text/plain": [
       "<Figure size 576x576 with 2 Axes>"
      ]
     },
     "metadata": {},
     "output_type": "display_data"
    }
   ],
   "source": [
    "X_example1 = X_train[0]\n",
    "X_example2 = X_test[0]\n",
    "\n",
    "fig= plt.figure(figsize=(8,8))\n",
    "\n",
    "X_example1_2d = X_example1.reshape(28,28)\n",
    "fig.add_subplot(1,2,1)\n",
    "plt.imshow(X_example1_2d)\n",
    "plt.title(\"Ground Truth: {}\".format(Y_train[0]))\n",
    "\n",
    "X_example2_2d = X_example2.reshape(28,28)\n",
    "fig.add_subplot(1,2,2)\n",
    "plt.imshow(X_example2_2d)\n",
    "plt.title(\"Ground Truth: {}\".format(Y_test[0]))\n",
    "\n",
    "plt.show()"
   ]
  },
  {
   "cell_type": "code",
   "execution_count": 9,
   "metadata": {},
   "outputs": [
    {
     "name": "stdout",
     "output_type": "stream",
     "text": [
      "Original Label: 2\n",
      "One Hot Label: [0. 0. 1. 0. 0. 0. 0. 0. 0. 0. 0. 0. 0. 0. 0. 0. 0. 0. 0. 0. 0. 0. 0. 0.\n",
      " 0. 0.]\n"
     ]
    }
   ],
   "source": [
    "Y_train_onehot = to_categorical(Y_train)\n",
    "Y_test_onehot = to_categorical(Y_test)\n",
    "\n",
    "print(\"Original Label: {}\".format(Y_train[0]))\n",
    "print(\"One Hot Label: {}\".format(Y_train_onehot[0]))"
   ]
  },
  {
   "cell_type": "code",
   "execution_count": 10,
   "metadata": {},
   "outputs": [
    {
     "name": "stdout",
     "output_type": "stream",
     "text": [
      "Train: (238103, 28, 28, 1) (238103, 26)\n",
      "Valid: (59526, 28, 28, 1) (59526, 26)\n"
     ]
    }
   ],
   "source": [
    "X_train, X_valid, Y_train, Y_valid = train_test_split(X_train, Y_train_onehot, test_size=0.2)\n",
    "\n",
    "print(\"Train: {} {}\".format(X_train.shape, Y_train.shape))\n",
    "print(\"Valid: {} {}\".format(X_valid.shape, Y_valid.shape))"
   ]
  },
  {
   "cell_type": "markdown",
   "metadata": {},
   "source": [
    "## [Batchnorm --> Relu --> Conv] Model"
   ]
  },
  {
   "cell_type": "code",
   "execution_count": 11,
   "metadata": {},
   "outputs": [],
   "source": [
    "import keras\n",
    "from keras.models import Sequential,Input,Model\n",
    "from keras.layers import Dense, Dropout, Flatten\n",
    "from keras.layers import Conv2D, MaxPooling2D\n",
    "from keras.layers.normalization import BatchNormalization\n",
    "from keras.layers import Activation"
   ]
  },
  {
   "cell_type": "code",
   "execution_count": 21,
   "metadata": {},
   "outputs": [],
   "source": [
    "batch_size = 128\n",
    "epochs = 3\n",
    "num_classes = 26"
   ]
  },
  {
   "cell_type": "markdown",
   "metadata": {},
   "source": [
    "### Input\n",
    "Accepts a 28 x 28 input layer.\n",
    "\n",
    "### Architecture\n",
    "Batchnorm Layer 1: \n",
    "\n",
    "Relu\n",
    "\n",
    "Convolutional Layer 1:\n",
    "\n",
    "Affine:\n",
    "\n",
    "Softmax:"
   ]
  },
  {
   "cell_type": "code",
   "execution_count": 22,
   "metadata": {},
   "outputs": [],
   "source": [
    "brc_model = Sequential()\n",
    "\n",
    "brc_model.add(BatchNormalization(input_shape=(28, 28, 1)))\n",
    "brc_model.add(Activation(\"relu\"))\n",
    "brc_model.add(Conv2D(32, kernel_size=(5,5), activation=\"relu\", padding=\"same\"))\n",
    "\n",
    "brc_model.add(Flatten())\n",
    "\n",
    "brc_model.add(Dense(num_classes, activation='softmax'))"
   ]
  },
  {
   "cell_type": "code",
   "execution_count": 23,
   "metadata": {},
   "outputs": [
    {
     "name": "stdout",
     "output_type": "stream",
     "text": [
      "_________________________________________________________________\n",
      "Layer (type)                 Output Shape              Param #   \n",
      "=================================================================\n",
      "batch_normalization_5 (Batch (None, 28, 28, 1)         4         \n",
      "_________________________________________________________________\n",
      "activation_4 (Activation)    (None, 28, 28, 1)         0         \n",
      "_________________________________________________________________\n",
      "conv2d_4 (Conv2D)            (None, 28, 28, 32)        832       \n",
      "_________________________________________________________________\n",
      "flatten_3 (Flatten)          (None, 25088)             0         \n",
      "_________________________________________________________________\n",
      "dense_2 (Dense)              (None, 26)                652314    \n",
      "=================================================================\n",
      "Total params: 653,150\n",
      "Trainable params: 653,148\n",
      "Non-trainable params: 2\n",
      "_________________________________________________________________\n"
     ]
    }
   ],
   "source": [
    "brc_model.compile(loss=keras.losses.categorical_crossentropy, optimizer=keras.optimizers.Adam(),metrics=['accuracy'])\n",
    "brc_model.summary()"
   ]
  },
  {
   "cell_type": "code",
   "execution_count": 24,
   "metadata": {},
   "outputs": [
    {
     "name": "stdout",
     "output_type": "stream",
     "text": [
      "Train on 238103 samples, validate on 59526 samples\n",
      "Epoch 1/3\n",
      "238103/238103 [==============================] - 225s 944us/step - loss: 0.2028 - acc: 0.9452 - val_loss: 0.1100 - val_acc: 0.9709\n",
      "Epoch 2/3\n",
      "238103/238103 [==============================] - 212s 890us/step - loss: 0.0876 - acc: 0.9767 - val_loss: 0.0952 - val_acc: 0.9754\n",
      "Epoch 3/3\n",
      "238103/238103 [==============================] - 201s 844us/step - loss: 0.0597 - acc: 0.9838 - val_loss: 0.0850 - val_acc: 0.9785\n"
     ]
    }
   ],
   "source": [
    "brc_model_train = brc_model.fit(X_train, Y_train, batch_size=batch_size,\n",
    "                                epochs=epochs,verbose=1,validation_data=(X_valid, Y_valid))"
   ]
  },
  {
   "cell_type": "code",
   "execution_count": 26,
   "metadata": {},
   "outputs": [
    {
     "name": "stdout",
     "output_type": "stream",
     "text": [
      "Test loss: 0.07824672353789124\n",
      "Test accuracy: 0.9799349532308353\n"
     ]
    }
   ],
   "source": [
    "test_eval = brc_model.evaluate(X_test, Y_test_onehot, verbose=0)\n",
    "print('Test loss:', test_eval[0])\n",
    "print('Test accuracy:', test_eval[1])"
   ]
  },
  {
   "cell_type": "code",
   "execution_count": 28,
   "metadata": {},
   "outputs": [
    {
     "data": {
      "image/png": "[encoded data removed]",
      "text/plain": [
       "<Figure size 432x288 with 1 Axes>"
      ]
     },
     "metadata": {},
     "output_type": "display_data"
    },
    {
     "data": {
      "image/png": "[encoded data removed]",
      "text/plain": [
       "<Figure size 432x288 with 1 Axes>"
      ]
     },
     "metadata": {},
     "output_type": "display_data"
    }
   ],
   "source": [
    "accuracy = brc_model_train.history['acc']\n",
    "val_accuracy = brc_model_train.history['val_acc']\n",
    "loss = brc_model_train.history['loss']\n",
    "val_loss = brc_model_train.history['val_loss']\n",
    "epochs = range(len(accuracy))\n",
    "plt.plot(epochs, accuracy, 'bo', label='Training accuracy')\n",
    "plt.plot(epochs, val_accuracy, 'b', label='Validation accuracy')\n",
    "plt.title('Training and Validation accuracy')\n",
    "plt.legend()\n",
    "plt.figure()\n",
    "plt.plot(epochs, loss, 'bo', label='Training loss')\n",
    "plt.plot(epochs, val_loss, 'b', label='Validation loss')\n",
    "plt.title('Training and Validation loss')\n",
    "plt.legend()\n",
    "plt.show()"
   ]
  },
  {
   "cell_type": "code",
   "execution_count": null,
   "metadata": {},
   "outputs": [],
   "source": []
  }
 ],
 "metadata": {
  "kernelspec": {
   "display_name": "Python 3",
   "language": "python",
   "name": "python3"
  },
  "language_info": {
   "codemirror_mode": {
    "name": "ipython",
    "version": 3
   },
   "file_extension": ".py",
   "mimetype": "text/x-python",
   "name": "python",
   "nbconvert_exporter": "python",
   "pygments_lexer": "ipython3",
   "version": "3.6.1"
  }
 },
 "nbformat": 4,
 "nbformat_minor": 2
}
