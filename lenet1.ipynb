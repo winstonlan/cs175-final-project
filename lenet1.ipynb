{
 "cells": [
  {
   "cell_type": "markdown",
   "metadata": {},
   "source": [
    "# LeNet 1"
   ]
  },
  {
   "cell_type": "markdown",
   "metadata": {},
   "source": [
    "Purpose of writing the LeNet 1 Model is to establish a baseline for the rest of our classifiers/convolutional network models. The LeNet 1 model was originally developed for the purpose of classifying the original MNIST data set or 0 - 9 hand written digits. "
   ]
  },
  {
   "cell_type": "code",
   "execution_count": 1,
   "metadata": {
    "collapsed": true
   },
   "outputs": [],
   "source": [
    "import numpy as np\n",
    "import pandas as pd\n",
    "import matplotlib.pyplot as plt\n",
    "import matplotlib.image as mpimg\n",
    "%matplotlib inline\n",
    "\n",
    "from sklearn.model_selection import train_test_split"
   ]
  },
  {
   "cell_type": "markdown",
   "metadata": {},
   "source": [
    "## Load the Data"
   ]
  },
  {
   "cell_type": "code",
   "execution_count": 2,
   "metadata": {},
   "outputs": [
    {
     "name": "stdout",
     "output_type": "stream",
     "text": [
      "Train (297629, 784) (297629,)\n",
      "Test (74408, 784) (74408,)\n"
     ]
    }
   ],
   "source": [
    "# Get the data from the csv file\n",
    "data = pd.read_csv(\"./data/handwritten_data_785.csv\", encoding = \"utf8\").values\n",
    "np.random.shuffle(data)\n",
    "\n",
    "# Split the data into X, Y, and parition the values into the training and test splits\n",
    "# Reshape X to be in the shape (N, 28, 28)\n",
    "X, Y = data[:,1:], data[:,0]\n",
    "# X = X.reshape(X.shape[0], 28, 28)\n",
    "X_train, X_test, Y_train, Y_test = train_test_split(X, Y, test_size=0.2)\n",
    "\n",
    "print(\"Train {} {}\".format(X_train.shape, Y_train.shape))\n",
    "print(\"Test {} {}\".format(X_test.shape, Y_test.shape))"
   ]
  },
  {
   "cell_type": "markdown",
   "metadata": {},
   "source": [
    "## Analyze the Data"
   ]
  },
  {
   "cell_type": "code",
   "execution_count": 3,
   "metadata": {},
   "outputs": [
    {
     "name": "stdout",
     "output_type": "stream",
     "text": [
      "Total number of outputs :  26\n",
      "Output classes :  [ 0  1  2  3  4  5  6  7  8  9 10 11 12 13 14 15 16 17 18 19 20 21 22 23\n",
      " 24 25]\n"
     ]
    }
   ],
   "source": [
    "classes = np.unique(Y_train)\n",
    "n_classes = len(classes)\n",
    "print('Total number of outputs : ', n_classes)\n",
    "print('Output classes : ', classes)"
   ]
  },
  {
   "cell_type": "code",
   "execution_count": 4,
   "metadata": {},
   "outputs": [
    {
     "data": {
      "image/png": "[encoded data removed]",
      "text/plain": [
       "<Figure size 576x576 with 2 Axes>"
      ]
     },
     "metadata": {},
     "output_type": "display_data"
    }
   ],
   "source": [
    "X_example1 = X_train[0]\n",
    "X_example2 = X_test[0]\n",
    "\n",
    "fig= plt.figure(figsize=(8,8))\n",
    "\n",
    "X_example1_2d = X_example1.reshape(28,28)\n",
    "fig.add_subplot(1,2,1)\n",
    "plt.imshow(X_example1_2d)\n",
    "plt.title(\"Ground Truth: {}\".format(Y_train[0]))\n",
    "\n",
    "X_example2_2d = X_example2.reshape(28,28)\n",
    "fig.add_subplot(1,2,2)\n",
    "plt.imshow(X_example2_2d)\n",
    "plt.title(\"Ground Truth: {}\".format(Y_test[0]))\n",
    "\n",
    "plt.show()\n"
   ]
  },
  {
   "cell_type": "markdown",
   "metadata": {},
   "source": [
    "## Data Preprocessing"
   ]
  },
  {
   "cell_type": "code",
   "execution_count": 5,
   "metadata": {},
   "outputs": [
    {
     "name": "stderr",
     "output_type": "stream",
     "text": [
      "/Users/winston/uci/year3/spring18/cs175/final_project/.env/lib/python3.6/site-packages/h5py/__init__.py:36: FutureWarning: Conversion of the second argument of issubdtype from `float` to `np.floating` is deprecated. In future, it will be treated as `np.float64 == np.dtype(float).type`.\n",
      "  from ._conv import register_converters as _register_converters\n",
      "Using TensorFlow backend.\n"
     ]
    }
   ],
   "source": [
    "from keras.utils import to_categorical"
   ]
  },
  {
   "cell_type": "code",
   "execution_count": 6,
   "metadata": {},
   "outputs": [
    {
     "name": "stdout",
     "output_type": "stream",
     "text": [
      "Train (297629, 28, 28, 1)\n",
      "Test (74408, 28, 28, 1)\n"
     ]
    }
   ],
   "source": [
    "X_train = X_train.reshape(-1, 28, 28, 1)\n",
    "X_test = X_test.reshape(-1, 28, 28, 1)\n",
    "print(\"Train {}\".format(X_train.shape))\n",
    "print(\"Test {}\".format(X_test.shape))"
   ]
  },
  {
   "cell_type": "code",
   "execution_count": 7,
   "metadata": {
    "collapsed": true
   },
   "outputs": [],
   "source": [
    "X_train = X_train.astype(\"int64\")\n",
    "X_test = X_test.astype(\"int64\")\n",
    "\n",
    "# Normalize and standardize the data\n",
    "mean_image = np.mean(X_train, axis=0)\n",
    "X_train = (X_train - mean_image) / 255\n",
    "X_test = (X_test - mean_image) / 255"
   ]
  },
  {
   "cell_type": "code",
   "execution_count": 8,
   "metadata": {},
   "outputs": [
    {
     "data": {
      "image/png": "[encoded data removed]",
      "text/plain": [
       "<Figure size 576x576 with 2 Axes>"
      ]
     },
     "metadata": {},
     "output_type": "display_data"
    }
   ],
   "source": [
    "X_example1 = X_train[0]\n",
    "X_example2 = X_test[0]\n",
    "\n",
    "fig= plt.figure(figsize=(8,8))\n",
    "\n",
    "X_example1_2d = X_example1.reshape(28,28)\n",
    "fig.add_subplot(1,2,1)\n",
    "plt.imshow(X_example1_2d)\n",
    "plt.title(\"Ground Truth: {}\".format(Y_train[0]))\n",
    "\n",
    "X_example2_2d = X_example2.reshape(28,28)\n",
    "fig.add_subplot(1,2,2)\n",
    "plt.imshow(X_example2_2d)\n",
    "plt.title(\"Ground Truth: {}\".format(Y_test[0]))\n",
    "\n",
    "plt.show()"
   ]
  },
  {
   "cell_type": "code",
   "execution_count": 9,
   "metadata": {},
   "outputs": [
    {
     "name": "stdout",
     "output_type": "stream",
     "text": [
      "Original Label: 14\n",
      "One Hot Label: [0. 0. 0. 0. 0. 0. 0. 0. 0. 0. 0. 0. 0. 0. 1. 0. 0. 0. 0. 0. 0. 0. 0. 0.\n",
      " 0. 0.]\n"
     ]
    }
   ],
   "source": [
    "Y_train_onehot = to_categorical(Y_train)\n",
    "Y_test_onehot = to_categorical(Y_test)\n",
    "\n",
    "print(\"Original Label: {}\".format(Y_train[0]))\n",
    "print(\"One Hot Label: {}\".format(Y_train_onehot[0]))"
   ]
  },
  {
   "cell_type": "code",
   "execution_count": 10,
   "metadata": {},
   "outputs": [
    {
     "name": "stdout",
     "output_type": "stream",
     "text": [
      "Train: (238103, 28, 28, 1) (238103, 26)\n",
      "Valid: (59526, 28, 28, 1) (59526, 26)\n"
     ]
    }
   ],
   "source": [
    "X_train, X_valid, Y_train, Y_valid = train_test_split(X_train, Y_train_onehot, test_size=0.2)\n",
    "\n",
    "print(\"Train: {} {}\".format(X_train.shape, Y_train.shape))\n",
    "print(\"Valid: {} {}\".format(X_valid.shape, Y_valid.shape))"
   ]
  },
  {
   "cell_type": "markdown",
   "metadata": {},
   "source": [
    "## Le Net 1 Model"
   ]
  },
  {
   "cell_type": "code",
   "execution_count": 11,
   "metadata": {
    "collapsed": true,
    "scrolled": true
   },
   "outputs": [],
   "source": [
    "import keras\n",
    "from keras.models import Sequential,Input,Model\n",
    "from keras.layers import Dense, Dropout, Flatten\n",
    "from keras.layers import Conv2D, MaxPooling2D\n",
    "from keras.layers.normalization import BatchNormalization\n",
    "from keras.layers.advanced_activations import LeakyReLU"
   ]
  },
  {
   "cell_type": "code",
   "execution_count": 12,
   "metadata": {
    "collapsed": true
   },
   "outputs": [],
   "source": [
    "batch_size = 64\n",
    "epochs = 10\n",
    "num_classes = 26"
   ]
  },
  {
   "cell_type": "markdown",
   "metadata": {},
   "source": [
    "### Input\n",
    "The LeNet 1 model accepts a 28 x 28 input layer.\n",
    "\n",
    "### Architecture\n",
    "Conolutional Layer 1: Output should be 24 x 24 x 4\n",
    "\n",
    "Activation: Your choice of activation function\n",
    "\n",
    "Pooling Layer 1: Output should be 12 x 12 x 4\n",
    "\n",
    "Convolution Layer 2: Output should be 8 x 8 x 12\n",
    "\n",
    "Activation: Your choice of activation function\n",
    "\n",
    "Pooling Layer 2: Output should be 4 x 4 x 12\n",
    "\n",
    "Conolution Layer 3: Output should be 1 x 1 x 10"
   ]
  },
  {
   "cell_type": "code",
   "execution_count": 13,
   "metadata": {},
   "outputs": [],
   "source": [
    "lenet1_model = Sequential()\n",
    "# Convolutional Layer 1\n",
    "lenet1_model.add(Conv2D(4, kernel_size=(5,5), activation=\"linear\", \n",
    "                     input_shape=(28, 28, 1), padding=\"valid\", data_format=\"channels_last\"))\n",
    "# Activiation Layer\n",
    "lenet1_model.add(LeakyReLU(alpha=0.1))\n",
    "# Pooling Layer 1\n",
    "lenet1_model.add(MaxPooling2D(pool_size=(2,2), padding=\"same\"))\n",
    "# Convolution Layer 2\n",
    "lenet1_model.add(Conv2D(12, kernel_size=(5,5), activation=\"linear\", padding=\"valid\"))\n",
    "# Activation Layer\n",
    "lenet1_model.add(LeakyReLU(alpha=0.1))\n",
    "# Pooling Layer 2\n",
    "lenet1_model.add(MaxPooling2D(pool_size=(2,2), padding=\"same\"))\n",
    "# Convolution Layer 3\n",
    "lenet1_model.add(Conv2D(num_classes, kernel_size=(4,4), activation=\"linear\", padding=\"valid\"))\n",
    "lenet1_model.add(Flatten())\n"
   ]
  },
  {
   "cell_type": "code",
   "execution_count": 14,
   "metadata": {},
   "outputs": [],
   "source": [
    "lenet1_model.compile(loss=keras.losses.categorical_crossentropy, optimizer=keras.optimizers.Adam(),metrics=['accuracy'])"
   ]
  },
  {
   "cell_type": "code",
   "execution_count": 15,
   "metadata": {},
   "outputs": [
    {
     "name": "stdout",
     "output_type": "stream",
     "text": [
      "_________________________________________________________________\n",
      "Layer (type)                 Output Shape              Param #   \n",
      "=================================================================\n",
      "conv2d_1 (Conv2D)            (None, 24, 24, 4)         104       \n",
      "_________________________________________________________________\n",
      "leaky_re_lu_1 (LeakyReLU)    (None, 24, 24, 4)         0         \n",
      "_________________________________________________________________\n",
      "max_pooling2d_1 (MaxPooling2 (None, 12, 12, 4)         0         \n",
      "_________________________________________________________________\n",
      "conv2d_2 (Conv2D)            (None, 8, 8, 12)          1212      \n",
      "_________________________________________________________________\n",
      "leaky_re_lu_2 (LeakyReLU)    (None, 8, 8, 12)          0         \n",
      "_________________________________________________________________\n",
      "max_pooling2d_2 (MaxPooling2 (None, 4, 4, 12)          0         \n",
      "_________________________________________________________________\n",
      "conv2d_3 (Conv2D)            (None, 1, 1, 26)          5018      \n",
      "_________________________________________________________________\n",
      "flatten_1 (Flatten)          (None, 26)                0         \n",
      "=================================================================\n",
      "Total params: 6,334\n",
      "Trainable params: 6,334\n",
      "Non-trainable params: 0\n",
      "_________________________________________________________________\n"
     ]
    }
   ],
   "source": [
    "lenet1_model.summary()"
   ]
  },
  {
   "cell_type": "code",
   "execution_count": 16,
   "metadata": {},
   "outputs": [
    {
     "name": "stdout",
     "output_type": "stream",
     "text": [
      "(238103, 28, 28, 1)\n",
      "(238103, 26)\n",
      "Train on 238103 samples, validate on 59526 samples\n",
      "Epoch 1/10\n",
      "238103/238103 [==============================] - 106s 444us/step - loss: 10.4453 - acc: 0.0752 - val_loss: 10.6206 - val_acc: 0.0783\n",
      "Epoch 2/10\n",
      "238103/238103 [==============================] - 103s 435us/step - loss: 10.6010 - acc: 0.0782 - val_loss: 10.6206 - val_acc: 0.0783\n",
      "Epoch 3/10\n",
      "238103/238103 [==============================] - 107s 450us/step - loss: 10.6010 - acc: 0.0782 - val_loss: 10.6206 - val_acc: 0.0783\n",
      "Epoch 4/10\n",
      "238103/238103 [==============================] - 138s 580us/step - loss: 10.6010 - acc: 0.0782 - val_loss: 10.6206 - val_acc: 0.0783\n",
      "Epoch 5/10\n",
      "238103/238103 [==============================] - 180s 756us/step - loss: 10.6010 - acc: 0.0782 - val_loss: 10.6206 - val_acc: 0.0783\n",
      "Epoch 6/10\n",
      "238103/238103 [==============================] - 179s 751us/step - loss: 10.6010 - acc: 0.0782 - val_loss: 10.6206 - val_acc: 0.0783\n",
      "Epoch 7/10\n",
      "238103/238103 [==============================] - 182s 765us/step - loss: 10.6010 - acc: 0.0782 - val_loss: 10.6206 - val_acc: 0.0783\n",
      "Epoch 8/10\n",
      "238103/238103 [==============================] - 183s 767us/step - loss: 10.6010 - acc: 0.0782 - val_loss: 10.6206 - val_acc: 0.0783\n",
      "Epoch 9/10\n",
      "238103/238103 [==============================] - 183s 769us/step - loss: 10.6010 - acc: 0.0782 - val_loss: 10.6206 - val_acc: 0.0783\n",
      "Epoch 10/10\n",
      "238103/238103 [==============================] - 134s 563us/step - loss: 10.6010 - acc: 0.0782 - val_loss: 10.6206 - val_acc: 0.0783\n"
     ]
    }
   ],
   "source": [
    "print(X_train.shape)\n",
    "print(Y_train.shape)\n",
    "lenet1_train = lenet1_model.fit(X_train, Y_train, batch_size=batch_size,\n",
    "                                epochs=epochs,verbose=1,validation_data=(X_valid, Y_valid))"
   ]
  },
  {
   "cell_type": "code",
   "execution_count": 17,
   "metadata": {},
   "outputs": [
    {
     "name": "stdout",
     "output_type": "stream",
     "text": [
      "Test loss: 10.524374575502653\n",
      "Test accuracy: 0.07836522954521019\n"
     ]
    }
   ],
   "source": [
    "test_eval = lenet1_model.evaluate(X_test, Y_test_onehot, verbose=0)\n",
    "print('Test loss:', test_eval[0])\n",
    "print('Test accuracy:', test_eval[1])"
   ]
  },
  {
   "cell_type": "code",
   "execution_count": 18,
   "metadata": {},
   "outputs": [
    {
     "data": {
      "image/png": "[encoded data removed]",
      "text/plain": [
       "<Figure size 432x288 with 1 Axes>"
      ]
     },
     "metadata": {},
     "output_type": "display_data"
    },
    {
     "data": {
      "image/png": "[encoded data removed]",
      "text/plain": [
       "<Figure size 432x288 with 1 Axes>"
      ]
     },
     "metadata": {},
     "output_type": "display_data"
    }
   ],
   "source": [
    "accuracy = lenet1_train.history['acc']\n",
    "val_accuracy = lenet1_train.history['val_acc']\n",
    "loss = lenet1_train.history['loss']\n",
    "val_loss = lenet1_train.history['val_loss']\n",
    "epochs = range(len(accuracy))\n",
    "plt.plot(epochs, accuracy, 'bo', label='Training accuracy')\n",
    "plt.plot(epochs, val_accuracy, 'b', label='Validation accuracy')\n",
    "plt.title('Training and Validation accuracy')\n",
    "plt.legend()\n",
    "plt.figure()\n",
    "plt.plot(epochs, loss, 'bo', label='Training loss')\n",
    "plt.plot(epochs, val_loss, 'b', label='Validation loss')\n",
    "plt.title('Training and Validation loss')\n",
    "plt.legend()\n",
    "plt.show()"
   ]
  },
  {
   "cell_type": "code",
   "execution_count": null,
   "metadata": {
    "collapsed": true
   },
   "outputs": [],
   "source": []
  }
 ],
 "metadata": {
  "kernelspec": {
   "display_name": "Python 3",
   "language": "python",
   "name": "python3"
  },
  "language_info": {
   "codemirror_mode": {
    "name": "ipython",
    "version": 3
   },
   "file_extension": ".py",
   "mimetype": "text/x-python",
   "name": "python",
   "nbconvert_exporter": "python",
   "pygments_lexer": "ipython3",
   "version": "3.6.1"
  }
 },
 "nbformat": 4,
 "nbformat_minor": 2
}
