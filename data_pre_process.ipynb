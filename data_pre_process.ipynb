{
 "cells": [
  {
   "cell_type": "markdown",
   "metadata": {},
   "source": [
    "# Data Preperation"
   ]
  },
  {
   "cell_type": "code",
   "execution_count": 1,
   "metadata": {
    "collapsed": true
   },
   "outputs": [],
   "source": [
    "import numpy as np\n",
    "import pandas as pd\n",
    "import matplotlib.pyplot as plt\n",
    "import matplotlib.image as mpimg\n",
    "from sklearn.model_selection import train_test_split"
   ]
  },
  {
   "cell_type": "markdown",
   "metadata": {},
   "source": [
    "Extract data from csv file and display the shape and size. Shape of the data set should be (372037, 785)."
   ]
  },
  {
   "cell_type": "code",
   "execution_count": 2,
   "metadata": {},
   "outputs": [
    {
     "name": "stdout",
     "output_type": "stream",
     "text": [
      "(372037, 785)\n"
     ]
    }
   ],
   "source": [
    "data = pd.read_csv(\"./data/handwritten_data_785.csv\", encoding = \"utf8\")\n",
    "print(data.shape)"
   ]
  },
  {
   "cell_type": "markdown",
   "metadata": {},
   "source": [
    "Have to shuffle data before doing anything."
   ]
  },
  {
   "cell_type": "code",
   "execution_count": 3,
   "metadata": {},
   "outputs": [
    {
     "name": "stdout",
     "output_type": "stream",
     "text": [
      "(372037, 785)\n"
     ]
    }
   ],
   "source": [
    "data = data.values\n",
    "np.random.shuffle(data)\n",
    "print(data.shape)"
   ]
  },
  {
   "cell_type": "code",
   "execution_count": 4,
   "metadata": {},
   "outputs": [
    {
     "name": "stdout",
     "output_type": "stream",
     "text": [
      "X Shape:\n",
      "(372037, 784)\n",
      "y Shape:\n",
      "(372037,)\n"
     ]
    }
   ],
   "source": [
    "X, y = data[:,1:], data[:,0]\n",
    "print(\"X Shape:\")\n",
    "print(X.shape)\n",
    "print(\"y Shape:\")\n",
    "print(y.shape)"
   ]
  },
  {
   "cell_type": "markdown",
   "metadata": {},
   "source": [
    "Perform 80/20 Training/Test split."
   ]
  },
  {
   "cell_type": "code",
   "execution_count": 16,
   "metadata": {},
   "outputs": [
    {
     "name": "stdout",
     "output_type": "stream",
     "text": [
      "('X_train shape: ', (297629, 784))\n",
      "('y_train shape: ', (297629,))\n",
      "('X_test shape: ', (74408, 784))\n",
      "('y_test shape: ', (74408,))\n"
     ]
    }
   ],
   "source": [
    "X_train, X_test, y_train, y_test = train_test_split(X, y, test_size=0.2)\n",
    "print(\"X_train shape: \", X_train.shape)\n",
    "print(\"y_train shape: \", y_train.shape)\n",
    "print(\"X_test shape: \", X_test.shape)\n",
    "print(\"y_test shape: \", y_test.shape)"
   ]
  },
  {
   "cell_type": "markdown",
   "metadata": {},
   "source": [
    "Experiment with different data pre-processing procedures, namely mean centering, and normalization of the data. Plot 4 images to get an idea of what the images might look like. First image is the original image, second image is the normalized image, third image is the mean centering image, and the last image is the image produced when combining mean centering, and normalization. "
   ]
  },
  {
   "cell_type": "code",
   "execution_count": 7,
   "metadata": {},
   "outputs": [
    {
     "data": {
      "image/png": "[encoded data removed]",
      "text/plain": [
       "<Figure size 576x576 with 4 Axes>"
      ]
     },
     "metadata": {},
     "output_type": "display_data"
    }
   ],
   "source": [
    "X_example = X_train[10]\n",
    "\n",
    "fig= plt.figure(figsize=(8,8))\n",
    "# Original image\n",
    "X_example_orig_2d = X_example.reshape(28,28)\n",
    "fig.add_subplot(1,4,1)\n",
    "plt.imshow(X_example_orig_2d)\n",
    "\n",
    "# Normalized Image\n",
    "X_example_norm_2d = (X_example / 255).reshape(28,28)\n",
    "fig.add_subplot(1,4,2)\n",
    "plt.imshow(X_example_norm_2d)\n",
    "\n",
    "# Mean Image\n",
    "mean_image = np.mean(X_train, axis=0).astype(np.int64)\n",
    "X_example_mean_2d = (X_example - mean_image).reshape(28,28)\n",
    "fig.add_subplot(1,4,3)\n",
    "plt.imshow(X_example_mean_2d)\n",
    "\n",
    "# Combo Image\n",
    "X_example_combo_2d = ((X_example - mean_image)/255).reshape(28,28)\n",
    "fig.add_subplot(1,4,4)\n",
    "plt.imshow(X_example_combo_2d)\n",
    "\n",
    "plt.show()"
   ]
  },
  {
   "cell_type": "markdown",
   "metadata": {},
   "source": [
    "After tinkering around with the data pre-processing, decided to go with the combination since it reduces the data adaquetly, while still maintaining the ability to identify the letter in the image. So now subtract the mean from every image, and divide the data by 255 to perform data preperation."
   ]
  },
  {
   "cell_type": "code",
   "execution_count": 19,
   "metadata": {},
   "outputs": [],
   "source": [
    "mean_image = np.mean(X_train, axis=0).astype(np.int64)\n",
    "X_train = (X_train - mean_image)/255\n",
    "X_test = (X_test - mean_image)/255"
   ]
  },
  {
   "cell_type": "markdown",
   "metadata": {},
   "source": [
    "Display 16 different images from the training set to get an idea what our data set will look like."
   ]
  },
  {
   "cell_type": "code",
   "execution_count": 20,
   "metadata": {},
   "outputs": [
    {
     "data": {
      "image/png": "[encoded data removed]",
      "text/plain": [
       "<Figure size 576x576 with 16 Axes>"
      ]
     },
     "metadata": {},
     "output_type": "display_data"
    }
   ],
   "source": [
    "fig = plt.figure(figsize=(8,8))\n",
    "columns = 4\n",
    "rows = 4\n",
    "for i in range(1, columns*rows + 1):\n",
    "    img = np.random.randint(X_train.shape[0])\n",
    "    fig.add_subplot(rows, columns, i)\n",
    "    plt.imshow(X_train[img].reshape(28,28))\n",
    "plt.show()"
   ]
  },
  {
   "cell_type": "markdown",
   "metadata": {},
   "source": [
    "Display all the values in the first training data set to see the type of data that is stored to represent each image. Matrix should be full of -1s, and 0s to represent the image now."
   ]
  },
  {
   "cell_type": "code",
   "execution_count": 21,
   "metadata": {},
   "outputs": [
    {
     "name": "stdout",
     "output_type": "stream",
     "text": [
      "[ 0  0  0  0  0  0  0  0  0  0  0  0  0  0  0  0  0  0  0  0  0  0  0  0  0\n",
      "  0  0  0  0  0  0  0  0  0  0  0  0  0  0  0  0  0  0  0  0  0  0  0  0  0\n",
      "  0  0  0  0  0  0  0  0  0  0  0  0  0  0  0  0  0  0  0  0  0  0  0  0  0\n",
      "  0  0  0  0  0  0  0  0  0  0  0  0  0  0  0  0  0  0  0  0  0  0  0  0  0\n",
      "  0  0  0  0  0  0  0  0  0  0  0  0  0  0  0  0 -1 -1 -1 -1 -1 -1 -1 -1 -1\n",
      " -1 -1 -1  0  0  0 -1 -1 -1 -1 -1  0  0  0  0  0  0  0  0 -1 -1 -1 -1 -1 -1\n",
      " -1 -1 -1 -1 -1 -1  0  0  0  0  0 -1 -1 -1  0  0  0  0  0  0  0  0 -1 -1 -1\n",
      " -1 -1 -1 -1 -1 -1 -1 -1  0  0  0  0  0  0 -1 -1 -1  0  0  0  0  0  0  0  0\n",
      " -1  0  0  0 -1 -1 -1 -1 -1 -1 -1  0  0  0  0  0  0  0 -1 -1  0  0  0  0  0\n",
      "  0  0  0 -1  0  0  0  0 -1 -1 -1 -1 -1 -1 -1  0  0  0  0  0  0 -1 -1  0  0\n",
      "  0  0  0  0  0  0 -1  0  0  0  0  0 -1 -1 -1 -1 -1 -1  0  0  0  0  0  0 -1\n",
      " -1  0  0  0  0  0  0  0  0 -1  0  0  0  0  0 -1 -1 -1 -1 -1 -1  0  0  0  0\n",
      "  0  0  0 -1  0  0  0  0  0  0  0  0 -1  0  0  0  0  0 -1 -1 -1 -1 -1 -1  0\n",
      "  0  0  0  0  0  0 -1  0  0  0  0  0  0  0  0 -1  0  0  0  0  0  0 -1 -1 -1\n",
      " -1 -1  0  0  0  0  0  0  0 -1  0  0  0  0  0  0  0  0 -1  0  0  0  0  0  0\n",
      " -1 -1 -1 -1 -1  0  0  0  0  0  0  0 -1  0  0  0  0  0  0  0  0 -1  0  0  0\n",
      "  0  0  0  0 -1 -1 -1 -1  0  0  0  0  0  0  0 -1  0  0  0  0  0  0  0  0 -1\n",
      " -1  0  0  0  0  0  0 -1 -1 -1 -1  0  0  0  0  0  0  0 -1  0  0  0  0  0  0\n",
      "  0  0 -1 -1  0  0  0  0  0  0  0 -1 -1 -1  0  0  0  0  0  0  0 -1  0  0  0\n",
      "  0  0  0  0  0 -1 -1 -1  0  0  0  0  0  0 -1 -1 -1  0  0  0  0  0  0 -1 -1\n",
      "  0  0  0  0  0  0  0  0 -1 -1 -1  0  0  0  0  0  0  0  0  0  0  0  0  0  0\n",
      "  0 -1 -1  0  0  0  0  0  0  0  0 -1 -1 -1  0  0  0  0  0  0  0  0  0  0  0\n",
      "  0  0  0 -1 -1 -1  0  0  0  0  0  0  0  0 -1 -1 -1  0  0  0  0  0  0  0  0\n",
      "  0  0  0  0  0 -1 -1 -1 -1  0  0  0  0  0  0  0  0 -1 -1 -1 -1  0  0  0  0\n",
      "  0  0  0  0  0  0  0 -1 -1 -1 -1 -1  0  0  0  0  0  0  0  0 -1 -1 -1 -1 -1\n",
      "  0  0  0  0  0  0  0  0  0 -1 -1 -1 -1 -1 -1  0  0  0  0  0  0  0  0 -1 -1\n",
      " -1 -1 -1 -1  0  0  0  0  0  0  0 -1 -1 -1 -1 -1 -1 -1  0  0  0  0  0  0  0\n",
      "  0  0  0  0  0  0  0  0  0  0  0  0  0  0  0  0  0  0  0  0  0  0  0  0  0\n",
      "  0  0  0  0  0  0  0  0  0  0  0  0  0  0  0  0  0  0  0  0  0  0  0  0  0\n",
      "  0  0  0  0  0  0  0  0  0  0  0  0  0  0  0  0  0  0  0  0  0  0  0  0  0\n",
      "  0  0  0  0  0  0  0  0  0  0  0  0  0  0  0  0  0  0  0  0  0  0  0  0  0\n",
      "  0  0  0  0  0  0  0  0  0]\n"
     ]
    }
   ],
   "source": [
    "print(X_train[0])"
   ]
  },
  {
   "cell_type": "markdown",
   "metadata": {},
   "source": [
    "Make sure that there are only 26 different classifications in the output set. Examine the distribution of the labels by plotting the data. See which letters are the most common occurrences in the data set."
   ]
  },
  {
   "cell_type": "code",
   "execution_count": 9,
   "metadata": {
    "scrolled": true
   },
   "outputs": [
    {
     "name": "stdout",
     "output_type": "stream",
     "text": [
      "Class 14: 58154\n",
      "Class 18: 48463\n",
      "Class 20: 29117\n",
      "Class 2: 23555\n",
      "Class 19: 22668\n",
      "Class 15: 19378\n",
      "Class 13: 19093\n",
      "Class 0: 14780\n",
      "Class 12: 12454\n",
      "Class 17: 11669\n",
      "Class 11: 11641\n",
      "Class 4: 11493\n",
      "Class 24: 10909\n",
      "Class 22: 10884\n",
      "Class 3: 10599\n",
      "Class 1: 8977\n",
      "Class 9: 8615\n",
      "Class 7: 7265\n",
      "Class 23: 6298\n",
      "Class 25: 6097\n",
      "Class 16: 5890\n",
      "Class 6: 5795\n",
      "Class 10: 5621\n",
      "Class 5: 1164\n",
      "Class 8: 1118\n",
      "Class 21: 340\n"
     ]
    },
    {
     "data": {
      "image/png": "[encoded data removed]",
      "text/plain": [
       "<Figure size 432x288 with 1 Axes>"
      ]
     },
     "metadata": {},
     "output_type": "display_data"
    }
   ],
   "source": [
    "unique, counts = np.unique(y, return_counts=True)\n",
    "label_dist = sorted(zip(unique, counts), key= lambda (k,v):(v,k), reverse=True)\n",
    "for label,count in label_dist:\n",
    "    print(\"Class {}: {}\".format(label,count))\n",
    "plt.bar(unique, counts)\n",
    "plt.show()"
   ]
  }
 ],
 "metadata": {
  "kernelspec": {
   "display_name": "Python 2",
   "language": "python",
   "name": "python2"
  },
  "language_info": {
   "codemirror_mode": {
    "name": "ipython",
    "version": 2
   },
   "file_extension": ".py",
   "mimetype": "text/x-python",
   "name": "python",
   "nbconvert_exporter": "python",
   "pygments_lexer": "ipython2",
   "version": "2.7.14"
  }
 },
 "nbformat": 4,
 "nbformat_minor": 2
}
