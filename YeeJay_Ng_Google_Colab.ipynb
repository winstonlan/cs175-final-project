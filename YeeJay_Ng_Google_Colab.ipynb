{
  "nbformat": 4,
  "nbformat_minor": 0,
  "metadata": {
    "colab": {
      "name": "YeeJay_Ng_Google_Colab.ipynb",
      "version": "0.3.2",
      "views": {},
      "default_view": {},
      "provenance": [],
      "collapsed_sections": [
        "s8xlqFtYT2OX"
      ]
    },
    "kernelspec": {
      "name": "python3",
      "display_name": "Python 3"
    },
    "accelerator": "GPU"
  },
  "cells": [
    {
      "metadata": {
        "id": "eyH5hI6oau6y",
        "colab_type": "code",
        "colab": {
          "autoexec": {
            "startup": false,
            "wait_interval": 0
          }
        },
        "cellView": "code"
      },
      "cell_type": "code",
      "source": [
        "\n",
        "# Code to read csv file into colaboratory:# Code  \n",
        "!pip install -U -q PyDrive\n",
        "from pydrive.auth import GoogleAuth\n",
        "from pydrive.drive import GoogleDrive\n",
        "from google.colab import auth\n",
        "from oauth2client.client import GoogleCredentials\n",
        "\n",
        "# 1. Authenticate and create the PyDrive client.\n",
        "auth.authenticate_user()\n",
        "gauth = GoogleAuth()\n",
        "gauth.credentials = GoogleCredentials.get_application_default()\n",
        "drive = GoogleDrive(gauth)\n",
        "\n",
        "#2. Get the file\n",
        "downloaded = drive.CreateFile({'id':'10Xf2Xv_pfnIycH2HpNZR3SwWHiHdrqzX'}) # replace the id with id of file you want to access\n",
        "downloaded.GetContentFile('handwritten.csv')  \n",
        "\n",
        "#3. Read file as panda dataframe\n",
        "import pandas as pd\n",
        "data = pd.read_csv('handwritten.csv')"
      ],
      "execution_count": 0,
      "outputs": []
    },
    {
      "metadata": {
        "id": "N1uqQrJPg-0u",
        "colab_type": "code",
        "colab": {
          "autoexec": {
            "startup": false,
            "wait_interval": 0
          }
        }
      },
      "cell_type": "code",
      "source": [
        "!pip install -q keras\n",
        "!pip install -q numpy\n",
        "!pip install -q sklearn\n",
        "!pip install -q matplotlib\n",
        "!pip install -q pandas"
      ],
      "execution_count": 0,
      "outputs": []
    },
    {
      "metadata": {
        "id": "BJBMcr0zhF1T",
        "colab_type": "code",
        "colab": {
          "autoexec": {
            "startup": false,
            "wait_interval": 0
          }
        }
      },
      "cell_type": "code",
      "source": [
        "import numpy as np\n",
        "import pandas as pd\n",
        "import matplotlib.pyplot as plt\n",
        "import matplotlib.image as mpimg\n",
        "%matplotlib inline\n",
        "\n",
        "from sklearn.model_selection import train_test_split"
      ],
      "execution_count": 0,
      "outputs": []
    },
    {
      "metadata": {
        "id": "iCa7dnCLiheo",
        "colab_type": "text"
      },
      "cell_type": "markdown",
      "source": [
        "# Load the Data"
      ]
    },
    {
      "metadata": {
        "id": "UgzKpobdhNdt",
        "colab_type": "code",
        "colab": {
          "autoexec": {
            "startup": false,
            "wait_interval": 0
          },
          "base_uri": "https://localhost:8080/",
          "height": 51
        },
        "outputId": "f23a8233-faa8-4418-f042-57c703c553d8",
        "executionInfo": {
          "status": "ok",
          "timestamp": 1528758840508,
          "user_tz": 420,
          "elapsed": 27687,
          "user": {
            "displayName": "YeeJay Ng",
            "photoUrl": "//lh6.googleusercontent.com/-RF8GVunHxUU/AAAAAAAAAAI/AAAAAAAAAVY/-iRhkzqefyU/s50-c-k-no/photo.jpg",
            "userId": "113615214030775264970"
          }
        }
      },
      "cell_type": "code",
      "source": [
        "# Get the data from the csv file\n",
        "data = data.values\n",
        "np.random.shuffle(data)\n",
        "\n",
        "# Split the data into X, Y, and parition the values into the training and test splits\n",
        "# Reshape X to be in the shape (N, 28, 28)\n",
        "X, Y = data[:,1:], data[:,0]\n",
        "# X = X.reshape(X.shape[0], 28, 28)\n",
        "X_train, X_test, Y_train, Y_test = train_test_split(X, Y, test_size=0.2)\n",
        "\n",
        "print(\"Train {} {}\".format(X_train.shape, Y_train.shape))\n",
        "print(\"Test {} {}\".format(X_test.shape, Y_test.shape))"
      ],
      "execution_count": 4,
      "outputs": [
        {
          "output_type": "stream",
          "text": [
            "Train (297629, 784) (297629,)\n",
            "Test (74408, 784) (74408,)\n"
          ],
          "name": "stdout"
        }
      ]
    },
    {
      "metadata": {
        "id": "k76bX7OXi19z",
        "colab_type": "text"
      },
      "cell_type": "markdown",
      "source": [
        "# Data Prep"
      ]
    },
    {
      "metadata": {
        "id": "-TNOU6YPiKUY",
        "colab_type": "code",
        "colab": {
          "autoexec": {
            "startup": false,
            "wait_interval": 0
          },
          "base_uri": "https://localhost:8080/",
          "height": 68
        },
        "outputId": "558bb433-53ab-49c6-90b8-3d1fc0650b4e",
        "executionInfo": {
          "status": "ok",
          "timestamp": 1528758840914,
          "user_tz": 420,
          "elapsed": 336,
          "user": {
            "displayName": "YeeJay Ng",
            "photoUrl": "//lh6.googleusercontent.com/-RF8GVunHxUU/AAAAAAAAAAI/AAAAAAAAAVY/-iRhkzqefyU/s50-c-k-no/photo.jpg",
            "userId": "113615214030775264970"
          }
        }
      },
      "cell_type": "code",
      "source": [
        "classes = np.unique(Y_train)\n",
        "n_classes = len(classes)\n",
        "print('Total number of outputs : ', n_classes)\n",
        "print('Output classes : ', classes)"
      ],
      "execution_count": 5,
      "outputs": [
        {
          "output_type": "stream",
          "text": [
            "Total number of outputs :  26\n",
            "Output classes :  [ 0  1  2  3  4  5  6  7  8  9 10 11 12 13 14 15 16 17 18 19 20 21 22 23\n",
            " 24 25]\n"
          ],
          "name": "stdout"
        }
      ]
    },
    {
      "metadata": {
        "id": "ssmBxWcVi50N",
        "colab_type": "code",
        "colab": {
          "autoexec": {
            "startup": false,
            "wait_interval": 0
          }
        }
      },
      "cell_type": "code",
      "source": [
        "img_size = 28\n",
        "img_size_flat = img_size * img_size\n",
        "img_shape = (img_size, img_size)\n",
        "\n",
        "classes = np.unique(Y_train)\n",
        "num_classes = len(classes)\n",
        "\n",
        "X_train = X_train.reshape(-1, img_size, img_size, 1)\n",
        "X_test = X_test.reshape(-1, img_size, img_size, 1)\n",
        "X_train = X_train.astype(\"float32\")\n",
        "X_test = X_test.astype(\"float32\")"
      ],
      "execution_count": 0,
      "outputs": []
    },
    {
      "metadata": {
        "id": "ZBxFnXS9jE7o",
        "colab_type": "text"
      },
      "cell_type": "markdown",
      "source": [
        "## Normalize Images"
      ]
    },
    {
      "metadata": {
        "id": "0fuGMF9BjAoo",
        "colab_type": "code",
        "colab": {
          "autoexec": {
            "startup": false,
            "wait_interval": 0
          }
        }
      },
      "cell_type": "code",
      "source": [
        "mean_image = np.mean(X_train, axis=0).astype(np.int64)\n",
        "X_train = (X_train - mean_image)/255\n",
        "X_test = (X_test - mean_image)/255"
      ],
      "execution_count": 0,
      "outputs": []
    },
    {
      "metadata": {
        "id": "JeZ_u9brmE1z",
        "colab_type": "code",
        "colab": {
          "autoexec": {
            "startup": false,
            "wait_interval": 0
          },
          "base_uri": "https://localhost:8080/",
          "height": 85
        },
        "outputId": "753f9b52-6afc-4069-8383-e66d99c19262",
        "executionInfo": {
          "status": "ok",
          "timestamp": 1528758845739,
          "user_tz": 420,
          "elapsed": 1742,
          "user": {
            "displayName": "YeeJay Ng",
            "photoUrl": "//lh6.googleusercontent.com/-RF8GVunHxUU/AAAAAAAAAAI/AAAAAAAAAVY/-iRhkzqefyU/s50-c-k-no/photo.jpg",
            "userId": "113615214030775264970"
          }
        }
      },
      "cell_type": "code",
      "source": [
        "from keras.utils import to_categorical\n",
        "\n",
        "Y_train_onehot = to_categorical(Y_train)\n",
        "Y_test_onehot = to_categorical(Y_test)\n",
        "print(\"Original Label: {}\".format(Y_train[0]))\n",
        "print(\"One Hot Label: {}\".format(Y_train_onehot[0]))"
      ],
      "execution_count": 8,
      "outputs": [
        {
          "output_type": "stream",
          "text": [
            "Using TensorFlow backend.\n"
          ],
          "name": "stderr"
        },
        {
          "output_type": "stream",
          "text": [
            "Original Label: 17\n",
            "One Hot Label: [0. 0. 0. 0. 0. 0. 0. 0. 0. 0. 0. 0. 0. 0. 0. 0. 0. 1. 0. 0. 0. 0. 0. 0.\n",
            " 0. 0.]\n"
          ],
          "name": "stdout"
        }
      ]
    },
    {
      "metadata": {
        "id": "vCnfaqNBmOhe",
        "colab_type": "code",
        "colab": {
          "autoexec": {
            "startup": false,
            "wait_interval": 0
          },
          "base_uri": "https://localhost:8080/",
          "height": 51
        },
        "outputId": "0ecff3a9-72cb-443f-85a7-b5e4d2268bd4",
        "executionInfo": {
          "status": "ok",
          "timestamp": 1528758846665,
          "user_tz": 420,
          "elapsed": 889,
          "user": {
            "displayName": "YeeJay Ng",
            "photoUrl": "//lh6.googleusercontent.com/-RF8GVunHxUU/AAAAAAAAAAI/AAAAAAAAAVY/-iRhkzqefyU/s50-c-k-no/photo.jpg",
            "userId": "113615214030775264970"
          }
        }
      },
      "cell_type": "code",
      "source": [
        "X_train, X_valid, Y_train, Y_valid = train_test_split(X_train, Y_train_onehot, test_size=0.2)\n",
        "\n",
        "print(\"Train: {} {}\".format(X_train.shape, Y_train.shape))\n",
        "print(\"Valid: {} {}\".format(X_valid.shape, Y_valid.shape))"
      ],
      "execution_count": 9,
      "outputs": [
        {
          "output_type": "stream",
          "text": [
            "Train: (238103, 28, 28, 1) (238103, 26)\n",
            "Valid: (59526, 28, 28, 1) (59526, 26)\n"
          ],
          "name": "stdout"
        }
      ]
    },
    {
      "metadata": {
        "id": "cw8UstbUjMT7",
        "colab_type": "text"
      },
      "cell_type": "markdown",
      "source": [
        "# Testing Layers"
      ]
    },
    {
      "metadata": {
        "id": "5bxqiVF4jPiy",
        "colab_type": "code",
        "colab": {
          "autoexec": {
            "startup": false,
            "wait_interval": 0
          }
        }
      },
      "cell_type": "code",
      "source": [
        "from tensorflow.python.keras.optimizers import Adam\n",
        "from tensorflow.python.keras.layers import LeakyReLU, ELU\n",
        "from tensorflow.python.keras.models import Sequential\n",
        "from tensorflow.python.keras.layers import InputLayer, Input\n",
        "from tensorflow.python.keras.layers import Reshape, MaxPooling2D\n",
        "from tensorflow.python.keras.layers import Conv2D, Dense, Flatten\n",
        "\n",
        "from tensorflow.python.keras import initializers\n",
        "\n",
        "optimizer = Adam(lr=1e-3)"
      ],
      "execution_count": 0,
      "outputs": []
    },
    {
      "metadata": {
        "id": "6dvoC3e3jUDR",
        "colab_type": "code",
        "colab": {
          "autoexec": {
            "startup": false,
            "wait_interval": 0
          },
          "base_uri": "https://localhost:8080/",
          "height": 374
        },
        "outputId": "1f86611a-32ea-4819-adea-5e72ac2c032c",
        "executionInfo": {
          "status": "ok",
          "timestamp": 1528758847783,
          "user_tz": 420,
          "elapsed": 534,
          "user": {
            "displayName": "YeeJay Ng",
            "photoUrl": "//lh6.googleusercontent.com/-RF8GVunHxUU/AAAAAAAAAAI/AAAAAAAAAVY/-iRhkzqefyU/s50-c-k-no/photo.jpg",
            "userId": "113615214030775264970"
          }
        }
      },
      "cell_type": "code",
      "source": [
        "model = Sequential()\n",
        "\n",
        "#conv\n",
        "#keras.layers.Conv2D(filters, kernel_size, strides=(1, 1), padding='valid', data_format=None, \n",
        "    #dilation_rate=(1, 1), activation=None, use_bias=True, kernel_initializer='glorot_uniform', \n",
        "    #bias_initializer='zeros', kernel_regularizer=None, bias_regularizer=None, \n",
        "    #activity_regularizer=None, kernel_constraint=None, bias_constraint=None)\n",
        "model.add(Conv2D(filters=16, kernel_size=8, strides = 1, padding='same', activation='linear',\n",
        "                 bias_initializer='zeros', input_shape=(img_size,img_size,1)))\n",
        "\n",
        "#ReLu\n",
        "model.add(LeakyReLU(alpha=0.1))\n",
        "\n",
        "#conv2\n",
        "model.add(Conv2D(filters=16, kernel_size=8, strides = 2, padding='same', activation='linear',\n",
        "                 bias_initializer='zeros', input_shape=(img_size,img_size,1)))\n",
        "\n",
        "#ReLu\n",
        "model.add(LeakyReLU(alpha=0.1))\n",
        "\n",
        "#MaxPool\n",
        "#keras.layers.MaxPooling2D(pool_size=(2, 2), strides=None, padding='valid', data_format=None)\n",
        "model.add(MaxPooling2D(strides=2, padding='same'))\n",
        "\n",
        "#Affine\n",
        "model.add(Flatten())\n",
        "\n",
        "#keras.layers.Dense(units, activation=None, use_bias=True, kernel_initializer='glorot_uniform', \n",
        "    #bias_initializer='zeros', kernel_regularizer=None, bias_regularizer=None, \n",
        "    #activity_regularizer=None, kernel_constraint=None, bias_constraint=None)\n",
        "#model.add(Dense(56, activation=\"relu\"))\n",
        "    \n",
        "model.add(Dense(num_classes, activation='softmax'))\n",
        "\n",
        "model.compile(optimizer=optimizer,\n",
        "              loss='categorical_crossentropy',\n",
        "              metrics=['accuracy'])\n",
        "model.summary()"
      ],
      "execution_count": 11,
      "outputs": [
        {
          "output_type": "stream",
          "text": [
            "_________________________________________________________________\n",
            "Layer (type)                 Output Shape              Param #   \n",
            "=================================================================\n",
            "conv2d_1 (Conv2D)            (None, 28, 28, 16)        1040      \n",
            "_________________________________________________________________\n",
            "leaky_re_lu_1 (LeakyReLU)    (None, 28, 28, 16)        0         \n",
            "_________________________________________________________________\n",
            "conv2d_2 (Conv2D)            (None, 14, 14, 16)        16400     \n",
            "_________________________________________________________________\n",
            "leaky_re_lu_2 (LeakyReLU)    (None, 14, 14, 16)        0         \n",
            "_________________________________________________________________\n",
            "max_pooling2d_1 (MaxPooling2 (None, 7, 7, 16)          0         \n",
            "_________________________________________________________________\n",
            "flatten_1 (Flatten)          (None, 784)               0         \n",
            "_________________________________________________________________\n",
            "dense_1 (Dense)              (None, 26)                20410     \n",
            "=================================================================\n",
            "Total params: 37,850\n",
            "Trainable params: 37,850\n",
            "Non-trainable params: 0\n",
            "_________________________________________________________________\n"
          ],
          "name": "stdout"
        }
      ]
    },
    {
      "metadata": {
        "id": "s8xlqFtYT2OX",
        "colab_type": "text"
      },
      "cell_type": "markdown",
      "source": [
        "# Cross Validation"
      ]
    },
    {
      "metadata": {
        "id": "dE7a221pT318",
        "colab_type": "code",
        "colab": {
          "autoexec": {
            "startup": false,
            "wait_interval": 0
          }
        }
      },
      "cell_type": "code",
      "source": [
        "# from sklearn.model_selection import KFold\n",
        "\n",
        "# k_fold = KFold(n_splits=3)\n",
        "# best_acc = 0\n",
        "# best_model = None\n",
        "\n",
        "# for train_indices, val_indices in k_fold.split(X_train):\n",
        "#   print(\"Starting new fold\")\n",
        "#   print(train_indices, val_indices)\n",
        "  \n",
        "#   model_train = model.fit(x=X_train[train_indices], y=Y_train_onehot[train_indices],\n",
        "#                           epochs=3, batch_size=128,verbose=1, \n",
        "#                           validation_data=(X_train[val_indices], Y_train_onehot[val_indices]))\n",
        "  \n",
        "#   test_eval = model.evaluate(X_test, Y_test_onehot, verbose=0)\n",
        "#   print('Test loss:', test_eval[0])\n",
        "#   print('Test accuracy:', test_eval[1])\n",
        "#   if test_eval[1] > best_acc:\n",
        "#     best_acc = test_eval[1]\n",
        "#     best_model = model_train\n",
        "\n",
        "# print(\"Best accuracy:\", best_acc )\n",
        "  \n",
        "\n",
        "#X_train, X_valid, Y_train, Y_valid = train_test_split(X_train, Y_train_onehot, test_size=0.2)\n",
        "\n",
        "#   print(\"Train: {} {}\".format(X_train[train_indices].shape, Y_train[train_indices].shape))\n",
        "#   print(\"Valid: {} {}\".format(X_train[val_indices].shape, Y_train_onehot.shape))"
      ],
      "execution_count": 0,
      "outputs": []
    },
    {
      "metadata": {
        "id": "UNJ21b_HcFAa",
        "colab_type": "text"
      },
      "cell_type": "markdown",
      "source": [
        "# Training and Testing"
      ]
    },
    {
      "metadata": {
        "id": "sP38mYpsjp6w",
        "colab_type": "code",
        "colab": {
          "autoexec": {
            "startup": false,
            "wait_interval": 0
          },
          "base_uri": "https://localhost:8080/",
          "height": 734
        },
        "outputId": "19d5658f-5854-4e05-ebbc-a6ec06a8d737",
        "executionInfo": {
          "status": "ok",
          "timestamp": 1528759453472,
          "user_tz": 420,
          "elapsed": 604929,
          "user": {
            "displayName": "YeeJay Ng",
            "photoUrl": "//lh6.googleusercontent.com/-RF8GVunHxUU/AAAAAAAAAAI/AAAAAAAAAVY/-iRhkzqefyU/s50-c-k-no/photo.jpg",
            "userId": "113615214030775264970"
          }
        }
      },
      "cell_type": "code",
      "source": [
        "model_train = model.fit(x=X_train,\n",
        "          y=Y_train,\n",
        "          epochs=20, batch_size=128,verbose=1, validation_data=(X_valid, Y_valid))"
      ],
      "execution_count": 13,
      "outputs": [
        {
          "output_type": "stream",
          "text": [
            "Train on 238103 samples, validate on 59526 samples\n",
            "Epoch 1/20\n",
            "238103/238103 [==============================] - 32s 135us/step - loss: 0.2476 - acc: 0.9327 - val_loss: 0.1182 - val_acc: 0.9688\n",
            "Epoch 2/20\n",
            " 50432/238103 [=====>........................] - ETA: 22s - loss: 0.1099 - acc: 0.9703"
          ],
          "name": "stdout"
        },
        {
          "output_type": "stream",
          "text": [
            "238103/238103 [==============================] - 30s 126us/step - loss: 0.1039 - acc: 0.9726 - val_loss: 0.0960 - val_acc: 0.9750\n",
            "Epoch 3/20\n",
            "147456/238103 [=================>............] - ETA: 10s - loss: 0.0848 - acc: 0.9779"
          ],
          "name": "stdout"
        },
        {
          "output_type": "stream",
          "text": [
            "238103/238103 [==============================] - 30s 126us/step - loss: 0.0841 - acc: 0.9781 - val_loss: 0.0847 - val_acc: 0.9779\n",
            "Epoch 4/20\n",
            "184576/238103 [======================>.......] - ETA: 6s - loss: 0.0717 - acc: 0.9813"
          ],
          "name": "stdout"
        },
        {
          "output_type": "stream",
          "text": [
            "238103/238103 [==============================] - 30s 127us/step - loss: 0.0729 - acc: 0.9810 - val_loss: 0.0801 - val_acc: 0.9786\n",
            "Epoch 5/20\n",
            "199680/238103 [========================>.....] - ETA: 4s - loss: 0.0653 - acc: 0.9828"
          ],
          "name": "stdout"
        },
        {
          "output_type": "stream",
          "text": [
            "238103/238103 [==============================] - 30s 126us/step - loss: 0.0651 - acc: 0.9828 - val_loss: 0.0805 - val_acc: 0.9792\n",
            "Epoch 6/20\n",
            "205952/238103 [========================>.....] - ETA: 3s - loss: 0.0582 - acc: 0.9849"
          ],
          "name": "stdout"
        },
        {
          "output_type": "stream",
          "text": [
            "238103/238103 [==============================] - 30s 126us/step - loss: 0.0592 - acc: 0.9846 - val_loss: 0.0820 - val_acc: 0.9795\n",
            "Epoch 7/20\n",
            "208768/238103 [=========================>....] - ETA: 3s - loss: 0.0540 - acc: 0.9859"
          ],
          "name": "stdout"
        },
        {
          "output_type": "stream",
          "text": [
            "238103/238103 [==============================] - 30s 126us/step - loss: 0.0539 - acc: 0.9859 - val_loss: 0.0725 - val_acc: 0.9824\n",
            "Epoch 8/20\n",
            "207616/238103 [=========================>....] - ETA: 3s - loss: 0.0498 - acc: 0.9866"
          ],
          "name": "stdout"
        },
        {
          "output_type": "stream",
          "text": [
            "238103/238103 [==============================] - 30s 126us/step - loss: 0.0501 - acc: 0.9866 - val_loss: 0.0709 - val_acc: 0.9828\n",
            "Epoch 9/20\n",
            "209152/238103 [=========================>....] - ETA: 3s - loss: 0.0455 - acc: 0.9880"
          ],
          "name": "stdout"
        },
        {
          "output_type": "stream",
          "text": [
            "238103/238103 [==============================] - 30s 126us/step - loss: 0.0462 - acc: 0.9878 - val_loss: 0.0677 - val_acc: 0.9835\n",
            "Epoch 10/20\n",
            "206976/238103 [=========================>....] - ETA: 3s - loss: 0.0432 - acc: 0.9885"
          ],
          "name": "stdout"
        },
        {
          "output_type": "stream",
          "text": [
            "238103/238103 [==============================] - 30s 127us/step - loss: 0.0438 - acc: 0.9883 - val_loss: 0.0690 - val_acc: 0.9837\n",
            "Epoch 11/20\n",
            "206336/238103 [========================>.....] - ETA: 3s - loss: 0.0394 - acc: 0.9895"
          ],
          "name": "stdout"
        },
        {
          "output_type": "stream",
          "text": [
            "238103/238103 [==============================] - 30s 126us/step - loss: 0.0404 - acc: 0.9893 - val_loss: 0.0730 - val_acc: 0.9826\n",
            "Epoch 12/20\n",
            "207232/238103 [=========================>....] - ETA: 3s - loss: 0.0376 - acc: 0.9899"
          ],
          "name": "stdout"
        },
        {
          "output_type": "stream",
          "text": [
            "238103/238103 [==============================] - 30s 126us/step - loss: 0.0380 - acc: 0.9899 - val_loss: 0.0687 - val_acc: 0.9840\n",
            "Epoch 13/20\n",
            "206336/238103 [========================>.....] - ETA: 3s - loss: 0.0350 - acc: 0.9905"
          ],
          "name": "stdout"
        },
        {
          "output_type": "stream",
          "text": [
            "238103/238103 [==============================] - 30s 127us/step - loss: 0.0357 - acc: 0.9904 - val_loss: 0.0691 - val_acc: 0.9843\n",
            "Epoch 14/20\n",
            "207104/238103 [=========================>....] - ETA: 3s - loss: 0.0339 - acc: 0.9908"
          ],
          "name": "stdout"
        },
        {
          "output_type": "stream",
          "text": [
            "238103/238103 [==============================] - 30s 126us/step - loss: 0.0342 - acc: 0.9907 - val_loss: 0.0685 - val_acc: 0.9845\n",
            "Epoch 15/20\n",
            "206592/238103 [=========================>....] - ETA: 3s - loss: 0.0318 - acc: 0.9915"
          ],
          "name": "stdout"
        },
        {
          "output_type": "stream",
          "text": [
            "238103/238103 [==============================] - 30s 126us/step - loss: 0.0323 - acc: 0.9915 - val_loss: 0.0717 - val_acc: 0.9837\n",
            "Epoch 16/20\n",
            "205056/238103 [========================>.....] - ETA: 3s - loss: 0.0296 - acc: 0.9920"
          ],
          "name": "stdout"
        },
        {
          "output_type": "stream",
          "text": [
            "238103/238103 [==============================] - 30s 127us/step - loss: 0.0304 - acc: 0.9918 - val_loss: 0.0693 - val_acc: 0.9851\n",
            "Epoch 17/20\n",
            "207232/238103 [=========================>....] - ETA: 3s - loss: 0.0298 - acc: 0.9919"
          ],
          "name": "stdout"
        },
        {
          "output_type": "stream",
          "text": [
            "238103/238103 [==============================] - 30s 126us/step - loss: 0.0297 - acc: 0.9920 - val_loss: 0.0708 - val_acc: 0.9850\n",
            "Epoch 18/20\n",
            "208384/238103 [=========================>....] - ETA: 3s - loss: 0.0278 - acc: 0.9923"
          ],
          "name": "stdout"
        },
        {
          "output_type": "stream",
          "text": [
            "238103/238103 [==============================] - 30s 126us/step - loss: 0.0285 - acc: 0.9922 - val_loss: 0.0730 - val_acc: 0.9848\n",
            "Epoch 19/20\n",
            "208384/238103 [=========================>....] - ETA: 3s - loss: 0.0274 - acc: 0.9925"
          ],
          "name": "stdout"
        },
        {
          "output_type": "stream",
          "text": [
            "238103/238103 [==============================] - 30s 126us/step - loss: 0.0270 - acc: 0.9925 - val_loss: 0.0716 - val_acc: 0.9856\n",
            "Epoch 20/20\n",
            "207360/238103 [=========================>....] - ETA: 3s - loss: 0.0260 - acc: 0.9933"
          ],
          "name": "stdout"
        },
        {
          "output_type": "stream",
          "text": [
            "238103/238103 [==============================] - 30s 126us/step - loss: 0.0262 - acc: 0.9932 - val_loss: 0.0741 - val_acc: 0.9845\n"
          ],
          "name": "stdout"
        }
      ]
    },
    {
      "metadata": {
        "id": "vbFizJchsxBy",
        "colab_type": "code",
        "colab": {
          "autoexec": {
            "startup": false,
            "wait_interval": 0
          },
          "base_uri": "https://localhost:8080/",
          "height": 51
        },
        "outputId": "6212a1f4-c1ba-41e8-c4c2-6418385c6e15",
        "executionInfo": {
          "status": "ok",
          "timestamp": 1528759459564,
          "user_tz": 420,
          "elapsed": 6028,
          "user": {
            "displayName": "YeeJay Ng",
            "photoUrl": "//lh6.googleusercontent.com/-RF8GVunHxUU/AAAAAAAAAAI/AAAAAAAAAVY/-iRhkzqefyU/s50-c-k-no/photo.jpg",
            "userId": "113615214030775264970"
          }
        }
      },
      "cell_type": "code",
      "source": [
        "test_eval = model.evaluate(X_test, Y_test_onehot, verbose=0)\n",
        "print('Test loss:', test_eval[0])\n",
        "print('Test accuracy:', test_eval[1])"
      ],
      "execution_count": 14,
      "outputs": [
        {
          "output_type": "stream",
          "text": [
            "Test loss: 0.07262620935827856\n",
            "Test accuracy: 0.9841549295774648\n"
          ],
          "name": "stdout"
        }
      ]
    },
    {
      "metadata": {
        "id": "Oo9T_Qhrs3Z0",
        "colab_type": "code",
        "colab": {
          "autoexec": {
            "startup": false,
            "wait_interval": 0
          },
          "base_uri": "https://localhost:8080/",
          "height": 543
        },
        "outputId": "0e16bd82-a36c-49cf-8113-fddaa9ac73d4",
        "executionInfo": {
          "status": "ok",
          "timestamp": 1528759460583,
          "user_tz": 420,
          "elapsed": 912,
          "user": {
            "displayName": "YeeJay Ng",
            "photoUrl": "//lh6.googleusercontent.com/-RF8GVunHxUU/AAAAAAAAAAI/AAAAAAAAAVY/-iRhkzqefyU/s50-c-k-no/photo.jpg",
            "userId": "113615214030775264970"
          }
        }
      },
      "cell_type": "code",
      "source": [
        "\n",
        "accuracy = model_train.history['acc']\n",
        "val_accuracy = model_train.history['val_acc']\n",
        "loss = model_train.history['loss']\n",
        "val_loss = model_train.history['val_loss']\n",
        "epochs = range(len(accuracy))\n",
        "plt.plot(epochs, accuracy, 'bo', label='Training accuracy')\n",
        "plt.plot(epochs, val_accuracy, 'b', label='Validation accuracy')\n",
        "plt.title('Training and Validation accuracy')\n",
        "plt.legend()\n",
        "plt.figure()\n",
        "plt.plot(epochs, loss, 'bo', label='Training loss')\n",
        "plt.plot(epochs, val_loss, 'b', label='Validation loss')\n",
        "plt.title('Training and Validation loss')\n",
        "plt.legend()\n",
        "plt.show()"
      ],
      "execution_count": 15,
      "outputs": [
        {
          "output_type": "display_data",
          "data": {
            "image/png": "[encoded data removed]",
            "text/plain": [
              "<matplotlib.figure.Figure at 0x7fddf38a9b00>"
            ]
          },
          "metadata": {
            "tags": []
          }
        },
        {
          "output_type": "display_data",
          "data": {
            "image/png": "[encoded data removed]",
            "text/plain": [
              "<matplotlib.figure.Figure at 0x7fddf38da828>"
            ]
          },
          "metadata": {
            "tags": []
          }
        }
      ]
    }
  ]
}