{
 "cells": [
  {
   "cell_type": "code",
   "execution_count": 0,
   "metadata": {
    "cellView": "code",
    "colab": {
     "autoexec": {
      "startup": false,
      "wait_interval": 0
     }
    },
    "colab_type": "code",
    "id": "eyH5hI6oau6y"
   },
   "outputs": [],
   "source": [
    "\n",
    "# Code to read csv file into colaboratory:# Code  \n",
    "!pip install -U -q PyDrive\n",
    "from pydrive.auth import GoogleAuth\n",
    "from pydrive.drive import GoogleDrive\n",
    "from google.colab import auth\n",
    "from oauth2client.client import GoogleCredentials\n",
    "\n",
    "# 1. Authenticate and create the PyDrive client.\n",
    "auth.authenticate_user()\n",
    "gauth = GoogleAuth()\n",
    "gauth.credentials = GoogleCredentials.get_application_default()\n",
    "drive = GoogleDrive(gauth)\n",
    "\n",
    "#2. Get the file\n",
    "downloaded = drive.CreateFile({'id':'10Xf2Xv_pfnIycH2HpNZR3SwWHiHdrqzX'}) # replace the id with id of file you want to access\n",
    "downloaded.GetContentFile('handwritten.csv')  \n",
    "\n",
    "#3. Read file as panda dataframe\n",
    "import pandas as pd\n",
    "data = pd.read_csv('handwritten.csv')"
   ]
  },
  {
   "cell_type": "code",
   "execution_count": 0,
   "metadata": {
    "colab": {
     "autoexec": {
      "startup": false,
      "wait_interval": 0
     }
    },
    "colab_type": "code",
    "id": "N1uqQrJPg-0u"
   },
   "outputs": [],
   "source": [
    "!pip install -q keras\n",
    "!pip install -q numpy\n",
    "!pip install -q sklearn\n",
    "!pip install -q matplotlib\n",
    "!pip install -q pandas"
   ]
  },
  {
   "cell_type": "code",
   "execution_count": 0,
   "metadata": {
    "colab": {
     "autoexec": {
      "startup": false,
      "wait_interval": 0
     }
    },
    "colab_type": "code",
    "id": "BJBMcr0zhF1T"
   },
   "outputs": [],
   "source": [
    "import numpy as np\n",
    "import pandas as pd\n",
    "import matplotlib.pyplot as plt\n",
    "import matplotlib.image as mpimg\n",
    "%matplotlib inline\n",
    "\n",
    "from sklearn.model_selection import train_test_split"
   ]
  },
  {
   "cell_type": "markdown",
   "metadata": {
    "colab_type": "text",
    "id": "iCa7dnCLiheo"
   },
   "source": [
    "# Load the Data"
   ]
  },
  {
   "cell_type": "code",
   "execution_count": 4,
   "metadata": {
    "colab": {
     "autoexec": {
      "startup": false,
      "wait_interval": 0
     },
     "base_uri": "https://localhost:8080/",
     "height": 51
    },
    "colab_type": "code",
    "executionInfo": {
     "elapsed": 27510,
     "status": "ok",
     "timestamp": 1527807754626,
     "user": {
      "displayName": "YeeJay Ng",
      "photoUrl": "//lh6.googleusercontent.com/-RF8GVunHxUU/AAAAAAAAAAI/AAAAAAAAAVY/-iRhkzqefyU/s50-c-k-no/photo.jpg",
      "userId": "113615214030775264970"
     },
     "user_tz": 420
    },
    "id": "UgzKpobdhNdt",
    "outputId": "3c44b389-ff4f-4e4b-ac6f-b5884c9b59eb"
   },
   "outputs": [
    {
     "name": "stdout",
     "output_type": "stream",
     "text": [
      "Train (297629, 784) (297629,)\n",
      "Test (74408, 784) (74408,)\n"
     ]
    }
   ],
   "source": [
    "# Get the data from the csv file\n",
    "data = data.values\n",
    "np.random.shuffle(data)\n",
    "\n",
    "# Split the data into X, Y, and parition the values into the training and test splits\n",
    "# Reshape X to be in the shape (N, 28, 28)\n",
    "X, Y = data[:,1:], data[:,0]\n",
    "# X = X.reshape(X.shape[0], 28, 28)\n",
    "X_train, X_test, Y_train, Y_test = train_test_split(X, Y, test_size=0.2)\n",
    "\n",
    "print(\"Train {} {}\".format(X_train.shape, Y_train.shape))\n",
    "print(\"Test {} {}\".format(X_test.shape, Y_test.shape))"
   ]
  },
  {
   "cell_type": "markdown",
   "metadata": {
    "colab_type": "text",
    "id": "k76bX7OXi19z"
   },
   "source": [
    "# Data Prep"
   ]
  },
  {
   "cell_type": "code",
   "execution_count": 5,
   "metadata": {
    "colab": {
     "autoexec": {
      "startup": false,
      "wait_interval": 0
     },
     "base_uri": "https://localhost:8080/",
     "height": 68
    },
    "colab_type": "code",
    "executionInfo": {
     "elapsed": 588,
     "status": "ok",
     "timestamp": 1527807755370,
     "user": {
      "displayName": "YeeJay Ng",
      "photoUrl": "//lh6.googleusercontent.com/-RF8GVunHxUU/AAAAAAAAAAI/AAAAAAAAAVY/-iRhkzqefyU/s50-c-k-no/photo.jpg",
      "userId": "113615214030775264970"
     },
     "user_tz": 420
    },
    "id": "-TNOU6YPiKUY",
    "outputId": "2ada9505-226f-41f6-e938-f829f02133ad"
   },
   "outputs": [
    {
     "name": "stdout",
     "output_type": "stream",
     "text": [
      "Total number of outputs :  26\n",
      "Output classes :  [ 0  1  2  3  4  5  6  7  8  9 10 11 12 13 14 15 16 17 18 19 20 21 22 23\n",
      " 24 25]\n"
     ]
    }
   ],
   "source": [
    "classes = np.unique(Y_train)\n",
    "n_classes = len(classes)\n",
    "print('Total number of outputs : ', n_classes)\n",
    "print('Output classes : ', classes)"
   ]
  },
  {
   "cell_type": "code",
   "execution_count": 0,
   "metadata": {
    "colab": {
     "autoexec": {
      "startup": false,
      "wait_interval": 0
     }
    },
    "colab_type": "code",
    "id": "ssmBxWcVi50N"
   },
   "outputs": [],
   "source": [
    "img_size = 28\n",
    "img_size_flat = img_size * img_size\n",
    "img_shape = (img_size, img_size)\n",
    "\n",
    "classes = np.unique(Y_train)\n",
    "num_classes = len(classes)\n",
    "\n",
    "X_train = X_train.reshape(-1, img_size, img_size, 1)\n",
    "X_test = X_test.reshape(-1, img_size, img_size, 1)\n",
    "X_train = X_train.astype(\"float32\")\n",
    "X_test = X_test.astype(\"float32\")"
   ]
  },
  {
   "cell_type": "markdown",
   "metadata": {
    "colab_type": "text",
    "id": "ZBxFnXS9jE7o"
   },
   "source": [
    "## Normalize Images"
   ]
  },
  {
   "cell_type": "code",
   "execution_count": 0,
   "metadata": {
    "colab": {
     "autoexec": {
      "startup": false,
      "wait_interval": 0
     }
    },
    "colab_type": "code",
    "id": "0fuGMF9BjAoo"
   },
   "outputs": [],
   "source": [
    "mean_image = np.mean(X_train, axis=0).astype(np.int64)\n",
    "X_train = (X_train - mean_image)/255\n",
    "X_test = (X_test - mean_image)/255"
   ]
  },
  {
   "cell_type": "code",
   "execution_count": 8,
   "metadata": {
    "colab": {
     "autoexec": {
      "startup": false,
      "wait_interval": 0
     },
     "base_uri": "https://localhost:8080/",
     "height": 85
    },
    "colab_type": "code",
    "executionInfo": {
     "elapsed": 2335,
     "status": "ok",
     "timestamp": 1527807761321,
     "user": {
      "displayName": "YeeJay Ng",
      "photoUrl": "//lh6.googleusercontent.com/-RF8GVunHxUU/AAAAAAAAAAI/AAAAAAAAAVY/-iRhkzqefyU/s50-c-k-no/photo.jpg",
      "userId": "113615214030775264970"
     },
     "user_tz": 420
    },
    "id": "JeZ_u9brmE1z",
    "outputId": "c77ca02e-f74a-4caf-dde8-722b756e7cc3"
   },
   "outputs": [
    {
     "name": "stderr",
     "output_type": "stream",
     "text": [
      "Using TensorFlow backend.\n"
     ]
    },
    {
     "name": "stdout",
     "output_type": "stream",
     "text": [
      "Original Label: 12\n",
      "One Hot Label: [0. 0. 0. 0. 0. 0. 0. 0. 0. 0. 0. 0. 1. 0. 0. 0. 0. 0. 0. 0. 0. 0. 0. 0.\n",
      " 0. 0.]\n"
     ]
    }
   ],
   "source": [
    "from keras.utils import to_categorical\n",
    "\n",
    "Y_train_onehot = to_categorical(Y_train)\n",
    "Y_test_onehot = to_categorical(Y_test)\n",
    "print(\"Original Label: {}\".format(Y_train[0]))\n",
    "print(\"One Hot Label: {}\".format(Y_train_onehot[0]))"
   ]
  },
  {
   "cell_type": "code",
   "execution_count": 0,
   "metadata": {
    "colab": {
     "autoexec": {
      "startup": false,
      "wait_interval": 0
     }
    },
    "colab_type": "code",
    "id": "vCnfaqNBmOhe"
   },
   "outputs": [],
   "source": [
    "# X_train, X_valid, Y_train, Y_valid = train_test_split(X_train, Y_train_onehot, test_size=0.2)\n",
    "\n",
    "# print(\"Train: {} {}\".format(X_train.shape, Y_train.shape))\n",
    "# print(\"Valid: {} {}\".format(X_valid.shape, Y_valid.shape))"
   ]
  },
  {
   "cell_type": "markdown",
   "metadata": {
    "colab_type": "text",
    "id": "cw8UstbUjMT7"
   },
   "source": [
    "# Testing Layers"
   ]
  },
  {
   "cell_type": "code",
   "execution_count": 0,
   "metadata": {
    "colab": {
     "autoexec": {
      "startup": false,
      "wait_interval": 0
     }
    },
    "colab_type": "code",
    "id": "5bxqiVF4jPiy"
   },
   "outputs": [],
   "source": [
    "from tensorflow.python.keras.optimizers import Adam\n",
    "from tensorflow.python.keras.layers import LeakyReLU, ELU\n",
    "from tensorflow.python.keras.models import Sequential\n",
    "from tensorflow.python.keras.layers import InputLayer, Input\n",
    "from tensorflow.python.keras.layers import Reshape, MaxPooling2D\n",
    "from tensorflow.python.keras.layers import Conv2D, Dense, Flatten\n",
    "\n",
    "from tensorflow.python.keras import initializers\n",
    "\n",
    "optimizer = Adam(lr=1e-3)"
   ]
  },
  {
   "cell_type": "code",
   "execution_count": 0,
   "metadata": {
    "colab": {
     "autoexec": {
      "startup": false,
      "wait_interval": 0
     }
    },
    "colab_type": "code",
    "id": "6dvoC3e3jUDR"
   },
   "outputs": [],
   "source": [
    "model = Sequential()\n",
    "\n",
    "#conv\n",
    "#keras.layers.Conv2D(filters, kernel_size, strides=(1, 1), padding='valid', data_format=None, \n",
    "    #dilation_rate=(1, 1), activation=None, use_bias=True, kernel_initializer='glorot_uniform', \n",
    "    #bias_initializer='zeros', kernel_regularizer=None, bias_regularizer=None, \n",
    "    #activity_regularizer=None, kernel_constraint=None, bias_constraint=None)\n",
    "model.add(Conv2D(filters=16, kernel_size=8, strides = 1, padding='same', activation='linear',\n",
    "                 bias_initializer='RandomNormal', input_shape=(img_size,img_size,1)))\n",
    "\n",
    "#ReLu\n",
    "model.add(LeakyReLU(alpha=0.1))\n",
    "\n",
    "#conv2\n",
    "model.add(Conv2D(filters=8, kernel_size=8, strides = 2, padding='same', activation='linear',\n",
    "                 bias_initializer='RandomNormal', input_shape=(img_size,img_size,1)))\n",
    "\n",
    "#ReLu\n",
    "model.add(LeakyReLU(alpha=0.1))\n",
    "\n",
    "#MaxPool\n",
    "#keras.layers.MaxPooling2D(pool_size=(2, 2), strides=None, padding='valid', data_format=None)\n",
    "model.add(MaxPooling2D(strides=2, padding='same'))\n",
    "\n",
    "#Affine\n",
    "model.add(Flatten())\n",
    "\n",
    "#keras.layers.Dense(units, activation=None, use_bias=True, kernel_initializer='glorot_uniform', \n",
    "    #bias_initializer='zeros', kernel_regularizer=None, bias_regularizer=None, \n",
    "    #activity_regularizer=None, kernel_constraint=None, bias_constraint=None)\n",
    "#model.add(Dense(56, activation=\"relu\"))\n",
    "    \n",
    "model.add(Dense(num_classes, activation='softmax'))\n",
    "\n",
    "model.compile(optimizer=optimizer,\n",
    "              loss='categorical_crossentropy',\n",
    "              metrics=['accuracy'])\n",
    "#model.summary()"
   ]
  },
  {
   "cell_type": "markdown",
   "metadata": {
    "colab_type": "text",
    "id": "s8xlqFtYT2OX"
   },
   "source": [
    "# Cross Validation"
   ]
  },
  {
   "cell_type": "code",
   "execution_count": 12,
   "metadata": {
    "colab": {
     "autoexec": {
      "startup": false,
      "wait_interval": 0
     },
     "base_uri": "https://localhost:8080/",
     "height": 615
    },
    "colab_type": "code",
    "executionInfo": {
     "elapsed": 255764,
     "status": "ok",
     "timestamp": 1527808019743,
     "user": {
      "displayName": "YeeJay Ng",
      "photoUrl": "//lh6.googleusercontent.com/-RF8GVunHxUU/AAAAAAAAAAI/AAAAAAAAAVY/-iRhkzqefyU/s50-c-k-no/photo.jpg",
      "userId": "113615214030775264970"
     },
     "user_tz": 420
    },
    "id": "dE7a221pT318",
    "outputId": "dcb1cd00-286a-45e6-b615-808a05263e8f"
   },
   "outputs": [
    {
     "name": "stdout",
     "output_type": "stream",
     "text": [
      "Starting new fold\n",
      "[ 99210  99211  99212 ... 297626 297627 297628] [    0     1     2 ... 99207 99208 99209]\n",
      "Train on 198419 samples, validate on 99210 samples\n",
      "Epoch 1/3\n",
      "196864/198419 [============================>.] - ETA: 0s - loss: 0.4220 - acc: 0.8814198419/198419 [==============================] - 29s 146us/step - loss: 0.4199 - acc: 0.8819 - val_loss: 0.1597 - val_acc: 0.9567\n",
      "Epoch 2/3\n",
      "198419/198419 [==============================] - 26s 131us/step - loss: 0.1424 - acc: 0.9620 - val_loss: 0.1207 - val_acc: 0.9685\n",
      "Epoch 3/3\n",
      " 14464/198419 [=>............................] - ETA: 20s - loss: 0.1137 - acc: 0.9681198419/198419 [==============================] - 26s 129us/step - loss: 0.1188 - acc: 0.9684 - val_loss: 0.1168 - val_acc: 0.9686\n",
      "Test loss: 0.12055748531663162\n",
      "Test accuracy: 0.9666030534351145\n",
      "Starting new fold\n",
      "[     0      1      2 ... 297626 297627 297628] [ 99210  99211  99212 ... 198417 198418 198419]\n",
      "Train on 198419 samples, validate on 99210 samples\n",
      "Epoch 1/3\n",
      " 75008/198419 [==========>...................] - ETA: 14s - loss: 0.1108 - acc: 0.9705198419/198419 [==============================] - 26s 131us/step - loss: 0.1078 - acc: 0.9712 - val_loss: 0.1084 - val_acc: 0.9710\n",
      "Epoch 2/3\n",
      "177536/198419 [=========================>....] - ETA: 2s - loss: 0.0970 - acc: 0.9737198419/198419 [==============================] - 26s 131us/step - loss: 0.0970 - acc: 0.9737 - val_loss: 0.1004 - val_acc: 0.9740\n",
      "Epoch 3/3\n",
      "198419/198419 [==============================] - 26s 130us/step - loss: 0.0891 - acc: 0.9760 - val_loss: 0.0951 - val_acc: 0.9758\n",
      "Test loss: 0.09886918967411402\n",
      "Test accuracy: 0.9743844747876572\n",
      "Starting new fold\n",
      "[     0      1      2 ... 198417 198418 198419] [198420 198421 198422 ... 297626 297627 297628]\n",
      "Train on 198420 samples, validate on 99209 samples\n",
      "Epoch 1/3\n",
      "  5248/198420 [..............................] - ETA: 24s - loss: 0.0774 - acc: 0.9781198420/198420 [==============================] - 26s 132us/step - loss: 0.0874 - acc: 0.9767 - val_loss: 0.0839 - val_acc: 0.9778\n",
      "Epoch 2/3\n",
      "150528/198420 [=====================>........] - ETA: 5s - loss: 0.0794 - acc: 0.9787198420/198420 [==============================] - 26s 130us/step - loss: 0.0795 - acc: 0.9786 - val_loss: 0.0843 - val_acc: 0.9775\n",
      "Epoch 3/3\n",
      "198420/198420 [==============================] - 26s 131us/step - loss: 0.0748 - acc: 0.9803 - val_loss: 0.0829 - val_acc: 0.9785\n",
      "Test loss: 0.09015759026737652\n",
      "Test accuracy: 0.9765750994516719\n",
      "Best accuracy: 0.9765750994516719\n"
     ]
    }
   ],
   "source": [
    "from sklearn.model_selection import KFold\n",
    "\n",
    "k_fold = KFold(n_splits=3)\n",
    "best_acc = 0\n",
    "best_model = None\n",
    "\n",
    "for train_indices, val_indices in k_fold.split(X_train):\n",
    "  print(\"Starting new fold\")\n",
    "  print(train_indices, val_indices)\n",
    "  \n",
    "  model_train = model.fit(x=X_train[train_indices], y=Y_train_onehot[train_indices],\n",
    "                          epochs=3, batch_size=128,verbose=1, \n",
    "                          validation_data=(X_train[val_indices], Y_train_onehot[val_indices]))\n",
    "  \n",
    "  test_eval = model.evaluate(X_test, Y_test_onehot, verbose=0)\n",
    "  print('Test loss:', test_eval[0])\n",
    "  print('Test accuracy:', test_eval[1])\n",
    "  if test_eval[1] > best_acc:\n",
    "    best_acc = test_eval[1]\n",
    "    best_model = model_train\n",
    "\n",
    "print(\"Best accuracy:\", best_acc )\n",
    "  \n",
    "\n",
    "#X_train, X_valid, Y_train, Y_valid = train_test_split(X_train, Y_train_onehot, test_size=0.2)\n",
    "\n",
    "#   print(\"Train: {} {}\".format(X_train[train_indices].shape, Y_train[train_indices].shape))\n",
    "#   print(\"Valid: {} {}\".format(X_train[val_indices].shape, Y_train_onehot.shape))"
   ]
  },
  {
   "cell_type": "markdown",
   "metadata": {
    "colab_type": "text",
    "id": "UNJ21b_HcFAa"
   },
   "source": [
    "# Ignore Below"
   ]
  },
  {
   "cell_type": "code",
   "execution_count": 12,
   "metadata": {
    "colab": {
     "autoexec": {
      "startup": false,
      "wait_interval": 0
     },
     "base_uri": "https://localhost:8080/",
     "height": 394
    },
    "colab_type": "code",
    "executionInfo": {
     "elapsed": 294503,
     "status": "ok",
     "timestamp": 1527805766665,
     "user": {
      "displayName": "YeeJay Ng",
      "photoUrl": "//lh6.googleusercontent.com/-RF8GVunHxUU/AAAAAAAAAAI/AAAAAAAAAVY/-iRhkzqefyU/s50-c-k-no/photo.jpg",
      "userId": "113615214030775264970"
     },
     "user_tz": 420
    },
    "id": "sP38mYpsjp6w",
    "outputId": "236934fd-cced-4ff5-99cd-42b675557c04"
   },
   "outputs": [
    {
     "name": "stdout",
     "output_type": "stream",
     "text": [
      "Train on 238103 samples, validate on 59526 samples\n",
      "Epoch 1/10\n",
      "238103/238103 [==============================] - 32s 134us/step - loss: 0.3429 - acc: 0.9038 - val_loss: 0.1575 - val_acc: 0.9571\n",
      "Epoch 2/10\n",
      " 52096/238103 [=====>........................] - ETA: 21s - loss: 0.1444 - acc: 0.9602238103/238103 [==============================] - 29s 123us/step - loss: 0.1363 - acc: 0.9634 - val_loss: 0.1225 - val_acc: 0.9673\n",
      "Epoch 3/10\n",
      "152192/238103 [==================>...........] - ETA: 9s - loss: 0.1128 - acc: 0.9697238103/238103 [==============================] - 29s 122us/step - loss: 0.1122 - acc: 0.9700 - val_loss: 0.1094 - val_acc: 0.9700\n",
      "Epoch 4/10\n",
      "191872/238103 [=======================>......] - ETA: 5s - loss: 0.1023 - acc: 0.9732238103/238103 [==============================] - 29s 121us/step - loss: 0.1016 - acc: 0.9732 - val_loss: 0.1016 - val_acc: 0.9726\n",
      "Epoch 5/10\n",
      "205824/238103 [========================>.....] - ETA: 3s - loss: 0.0919 - acc: 0.9753238103/238103 [==============================] - 29s 123us/step - loss: 0.0926 - acc: 0.9753 - val_loss: 0.0982 - val_acc: 0.9725\n",
      "Epoch 6/10\n",
      "211456/238103 [=========================>....] - ETA: 3s - loss: 0.0863 - acc: 0.9769238103/238103 [==============================] - 29s 121us/step - loss: 0.0859 - acc: 0.9771 - val_loss: 0.1018 - val_acc: 0.9732\n",
      "Epoch 7/10\n",
      "213888/238103 [=========================>....] - ETA: 2s - loss: 0.0804 - acc: 0.9781238103/238103 [==============================] - 29s 122us/step - loss: 0.0810 - acc: 0.9780 - val_loss: 0.0938 - val_acc: 0.9752\n",
      "Epoch 8/10\n",
      "214656/238103 [==========================>...] - ETA: 2s - loss: 0.0769 - acc: 0.9795238103/238103 [==============================] - 29s 122us/step - loss: 0.0773 - acc: 0.9795 - val_loss: 0.0958 - val_acc: 0.9737\n",
      "Epoch 9/10\n",
      "215168/238103 [==========================>...] - ETA: 2s - loss: 0.0728 - acc: 0.9801238103/238103 [==============================] - 29s 122us/step - loss: 0.0730 - acc: 0.9801 - val_loss: 0.0847 - val_acc: 0.9767\n",
      "Epoch 10/10\n",
      "213248/238103 [=========================>....] - ETA: 2s - loss: 0.0702 - acc: 0.9813238103/238103 [==============================] - 29s 122us/step - loss: 0.0703 - acc: 0.9813 - val_loss: 0.0850 - val_acc: 0.9776\n"
     ]
    }
   ],
   "source": [
    "model_train = model.fit(x=X_train,\n",
    "          y=Y_train,\n",
    "          epochs=10, batch_size=128,verbose=1, validation_data=(X_valid, Y_valid))"
   ]
  },
  {
   "cell_type": "code",
   "execution_count": 13,
   "metadata": {
    "colab": {
     "autoexec": {
      "startup": false,
      "wait_interval": 0
     },
     "base_uri": "https://localhost:8080/",
     "height": 51
    },
    "colab_type": "code",
    "executionInfo": {
     "elapsed": 5970,
     "status": "ok",
     "timestamp": 1527805772720,
     "user": {
      "displayName": "YeeJay Ng",
      "photoUrl": "//lh6.googleusercontent.com/-RF8GVunHxUU/AAAAAAAAAAI/AAAAAAAAAVY/-iRhkzqefyU/s50-c-k-no/photo.jpg",
      "userId": "113615214030775264970"
     },
     "user_tz": 420
    },
    "id": "vbFizJchsxBy",
    "outputId": "a6c4d9f3-8b5d-4b7c-b2bd-027f9dde29ca"
   },
   "outputs": [
    {
     "name": "stdout",
     "output_type": "stream",
     "text": [
      "Test loss: 0.08747778082487966\n",
      "Test accuracy: 0.977771207397054\n"
     ]
    }
   ],
   "source": [
    "test_eval = model.evaluate(X_test, Y_test_onehot, verbose=0)\n",
    "print('Test loss:', test_eval[0])\n",
    "print('Test accuracy:', test_eval[1])"
   ]
  },
  {
   "cell_type": "code",
   "execution_count": 14,
   "metadata": {
    "colab": {
     "autoexec": {
      "startup": false,
      "wait_interval": 0
     },
     "base_uri": "https://localhost:8080/",
     "height": 543
    },
    "colab_type": "code",
    "executionInfo": {
     "elapsed": 722,
     "status": "ok",
     "timestamp": 1527805773563,
     "user": {
      "displayName": "YeeJay Ng",
      "photoUrl": "//lh6.googleusercontent.com/-RF8GVunHxUU/AAAAAAAAAAI/AAAAAAAAAVY/-iRhkzqefyU/s50-c-k-no/photo.jpg",
      "userId": "113615214030775264970"
     },
     "user_tz": 420
    },
    "id": "Oo9T_Qhrs3Z0",
    "outputId": "e23f9694-ec71-4dec-a0a0-862e6549380e"
   },
   "outputs": [
    {
     "data": {
      "image/png": "[encoded data removed]",
      "text/plain": [
       "<matplotlib.figure.Figure at 0x7f234aaa6eb8>"
      ]
     },
     "metadata": {
      "tags": []
     },
     "output_type": "display_data"
    },
    {
     "data": {
      "image/png": "[encoded data removed]",
      "text/plain": [
       "<matplotlib.figure.Figure at 0x7f234aad3c88>"
      ]
     },
     "metadata": {
      "tags": []
     },
     "output_type": "display_data"
    }
   ],
   "source": [
    "\n",
    "accuracy = model_train.history['acc']\n",
    "val_accuracy = model_train.history['val_acc']\n",
    "loss = model_train.history['loss']\n",
    "val_loss = model_train.history['val_loss']\n",
    "epochs = range(len(accuracy))\n",
    "plt.plot(epochs, accuracy, 'bo', label='Training accuracy')\n",
    "plt.plot(epochs, val_accuracy, 'b', label='Validation accuracy')\n",
    "plt.title('Training and Validation accuracy')\n",
    "plt.legend()\n",
    "plt.figure()\n",
    "plt.plot(epochs, loss, 'bo', label='Training loss')\n",
    "plt.plot(epochs, val_loss, 'b', label='Validation loss')\n",
    "plt.title('Training and Validation loss')\n",
    "plt.legend()\n",
    "plt.show()"
   ]
  }
 ],
 "metadata": {
  "accelerator": "GPU",
  "colab": {
   "collapsed_sections": [],
   "default_view": {},
   "name": "YeeJay_Ng_Google_Colab.ipynb",
   "provenance": [],
   "version": "0.3.2",
   "views": {}
  },
  "kernelspec": {
   "display_name": "Python 3",
   "language": "python",
   "name": "python3"
  },
  "language_info": {
   "codemirror_mode": {
    "name": "ipython",
    "version": 3
   },
   "file_extension": ".py",
   "mimetype": "text/x-python",
   "name": "python",
   "nbconvert_exporter": "python",
   "pygments_lexer": "ipython3",
   "version": "3.6.1"
  }
 },
 "nbformat": 4,
 "nbformat_minor": 1
}
