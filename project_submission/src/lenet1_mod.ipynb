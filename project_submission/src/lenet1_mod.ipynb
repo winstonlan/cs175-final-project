{
  "nbformat": 4,
  "nbformat_minor": 0,
  "metadata": {
    "colab": {
      "name": "lenet1_mod.ipynb",
      "version": "0.3.2",
      "views": {},
      "default_view": {},
      "provenance": []
    },
    "kernelspec": {
      "name": "python3",
      "display_name": "Python 3"
    },
    "accelerator": "GPU"
  },
  "cells": [
    {
      "metadata": {
        "id": "QsR9EE34Ihlt",
        "colab_type": "text"
      },
      "cell_type": "markdown",
      "source": [
        "# LeNet 1 Mod"
      ]
    },
    {
      "metadata": {
        "id": "vItJiT3CIlaC",
        "colab_type": "text"
      },
      "cell_type": "markdown",
      "source": [
        "## Google Colab Stuff"
      ]
    },
    {
      "metadata": {
        "id": "W_Ik5paa-5QB",
        "colab_type": "code",
        "colab": {
          "autoexec": {
            "startup": false,
            "wait_interval": 0
          }
        }
      },
      "cell_type": "code",
      "source": [
        "# Code to read csv file into colaboratory:\n",
        "!pip install -U -q PyDrive\n",
        "from pydrive.auth import GoogleAuth\n",
        "from pydrive.drive import GoogleDrive\n",
        "from google.colab import auth\n",
        "from oauth2client.client import GoogleCredentials\n",
        "\n",
        "# 1. Authenticate and create the PyDrive client.\n",
        "auth.authenticate_user()\n",
        "gauth = GoogleAuth()\n",
        "gauth.credentials = GoogleCredentials.get_application_default()\n",
        "drive = GoogleDrive(gauth)\n",
        "\n",
        "#2. Get the file\n",
        "downloaded = drive.CreateFile({'id':'1meytppCXQ0WRmngIB5_ORuOWsusRHBch'}) # replace the id with id of file you want to access\n",
        "downloaded.GetContentFile('handwritten.csv')  \n",
        "\n",
        "#3. Read file as panda dataframe\n",
        "import pandas as pd\n",
        "data = pd.read_csv('handwritten.csv') "
      ],
      "execution_count": 0,
      "outputs": []
    },
    {
      "metadata": {
        "id": "tPYacHom_zLB",
        "colab_type": "code",
        "colab": {
          "autoexec": {
            "startup": false,
            "wait_interval": 0
          }
        }
      },
      "cell_type": "code",
      "source": [
        "!pip install -q keras\n",
        "!pip install -q numpy\n",
        "!pip install -q sklearn\n",
        "!pip install -q matplotlib\n",
        "!pip install -q pandas\n"
      ],
      "execution_count": 0,
      "outputs": []
    },
    {
      "metadata": {
        "id": "6Ho2zSr2A7Bl",
        "colab_type": "code",
        "colab": {
          "autoexec": {
            "startup": false,
            "wait_interval": 0
          }
        }
      },
      "cell_type": "code",
      "source": [
        "import numpy as np\n",
        "import pandas as pd\n",
        "import matplotlib.pyplot as plt\n",
        "import matplotlib.image as mpimg\n",
        "%matplotlib inline\n",
        "\n",
        "from sklearn.model_selection import train_test_split"
      ],
      "execution_count": 0,
      "outputs": []
    },
    {
      "metadata": {
        "id": "gf0gwbHLIre7",
        "colab_type": "text"
      },
      "cell_type": "markdown",
      "source": [
        "## Load the Data"
      ]
    },
    {
      "metadata": {
        "id": "VYE2JbxQCFdN",
        "colab_type": "code",
        "colab": {
          "autoexec": {
            "startup": false,
            "wait_interval": 0
          },
          "base_uri": "https://localhost:8080/",
          "height": 51
        },
        "outputId": "fca973d6-ab4e-4b3b-bce1-666086cebf68",
        "executionInfo": {
          "status": "ok",
          "timestamp": 1528745157863,
          "user_tz": 420,
          "elapsed": 27694,
          "user": {
            "displayName": "Winston Lan",
            "photoUrl": "https://lh3.googleusercontent.com/a/default-user=s128",
            "userId": "104495917744035597997"
          }
        }
      },
      "cell_type": "code",
      "source": [
        "# Get the data from the csv file\n",
        "data = data.values\n",
        "np.random.shuffle(data)\n",
        "\n",
        "# Split the data into X, Y, and parition the values into the training and test splits\n",
        "# Reshape X to be in the shape (N, 28, 28)\n",
        "X, Y = data[:,1:], data[:,0]\n",
        "# X = X.reshape(X.shape[0], 28, 28)\n",
        "X_train, X_test, Y_train, Y_test = train_test_split(X, Y, test_size=0.2)\n",
        "\n",
        "print(\"Train {} {}\".format(X_train.shape, Y_train.shape))\n",
        "print(\"Test {} {}\".format(X_test.shape, Y_test.shape))"
      ],
      "execution_count": 5,
      "outputs": [
        {
          "output_type": "stream",
          "text": [
            "Train (297629, 784) (297629,)\n",
            "Test (74408, 784) (74408,)\n"
          ],
          "name": "stdout"
        }
      ]
    },
    {
      "metadata": {
        "id": "3wOWMb1tIvgn",
        "colab_type": "text"
      },
      "cell_type": "markdown",
      "source": [
        "## Analyze the Data"
      ]
    },
    {
      "metadata": {
        "id": "njw7HOtsCO1P",
        "colab_type": "code",
        "colab": {
          "autoexec": {
            "startup": false,
            "wait_interval": 0
          },
          "base_uri": "https://localhost:8080/",
          "height": 68
        },
        "outputId": "a1487ce6-a243-435c-e55f-32db645df096",
        "executionInfo": {
          "status": "ok",
          "timestamp": 1528745158294,
          "user_tz": 420,
          "elapsed": 310,
          "user": {
            "displayName": "Winston Lan",
            "photoUrl": "https://lh3.googleusercontent.com/a/default-user=s128",
            "userId": "104495917744035597997"
          }
        }
      },
      "cell_type": "code",
      "source": [
        "classes = np.unique(Y_train)\n",
        "n_classes = len(classes)\n",
        "print('Total number of outputs : ', n_classes)\n",
        "print('Output classes : ', classes)"
      ],
      "execution_count": 6,
      "outputs": [
        {
          "output_type": "stream",
          "text": [
            "Total number of outputs :  26\n",
            "Output classes :  [ 0  1  2  3  4  5  6  7  8  9 10 11 12 13 14 15 16 17 18 19 20 21 22 23\n",
            " 24 25]\n"
          ],
          "name": "stdout"
        }
      ]
    },
    {
      "metadata": {
        "id": "Ubimh9F1I0I1",
        "colab_type": "code",
        "colab": {
          "autoexec": {
            "startup": false,
            "wait_interval": 0
          },
          "base_uri": "https://localhost:8080/",
          "height": 266
        },
        "outputId": "4c04528b-6835-417b-ed27-eafeca049212",
        "executionInfo": {
          "status": "ok",
          "timestamp": 1528745159753,
          "user_tz": 420,
          "elapsed": 656,
          "user": {
            "displayName": "Winston Lan",
            "photoUrl": "https://lh3.googleusercontent.com/a/default-user=s128",
            "userId": "104495917744035597997"
          }
        }
      },
      "cell_type": "code",
      "source": [
        "X_example1 = X_train[0]\n",
        "X_example2 = X_test[0]\n",
        "\n",
        "fig= plt.figure(figsize=(8,8))\n",
        "\n",
        "X_example1_2d = X_example1.reshape(28,28)\n",
        "fig.add_subplot(1,2,1)\n",
        "plt.imshow(X_example1_2d)\n",
        "plt.title(\"Ground Truth: {}\".format(Y_train[0]))\n",
        "\n",
        "X_example2_2d = X_example2.reshape(28,28)\n",
        "fig.add_subplot(1,2,2)\n",
        "plt.imshow(X_example2_2d)\n",
        "plt.title(\"Ground Truth: {}\".format(Y_test[0]))\n",
        "\n",
        "plt.show()\n"
      ],
      "execution_count": 7,
      "outputs": [
        {
          "output_type": "display_data",
          "data": {
            "image/png": "[encoded data removed]",
            "text/plain": [
              "<matplotlib.figure.Figure at 0x7f032235b978>"
            ]
          },
          "metadata": {
            "tags": []
          }
        }
      ]
    },
    {
      "metadata": {
        "id": "aIH_aoQlI544",
        "colab_type": "text"
      },
      "cell_type": "markdown",
      "source": [
        "## Data Preprocessing"
      ]
    },
    {
      "metadata": {
        "id": "tw6XZF4BI1Jt",
        "colab_type": "code",
        "colab": {
          "autoexec": {
            "startup": false,
            "wait_interval": 0
          },
          "base_uri": "https://localhost:8080/",
          "height": 34
        },
        "outputId": "0eba5036-6c19-4ff6-afb5-7a9d83284057",
        "executionInfo": {
          "status": "ok",
          "timestamp": 1528745169213,
          "user_tz": 420,
          "elapsed": 9229,
          "user": {
            "displayName": "Winston Lan",
            "photoUrl": "https://lh3.googleusercontent.com/a/default-user=s128",
            "userId": "104495917744035597997"
          }
        }
      },
      "cell_type": "code",
      "source": [
        "from keras.utils import to_categorical"
      ],
      "execution_count": 8,
      "outputs": [
        {
          "output_type": "stream",
          "text": [
            "Using TensorFlow backend.\n"
          ],
          "name": "stderr"
        }
      ]
    },
    {
      "metadata": {
        "id": "RGhe57HUI9fM",
        "colab_type": "code",
        "colab": {
          "autoexec": {
            "startup": false,
            "wait_interval": 0
          },
          "base_uri": "https://localhost:8080/",
          "height": 51
        },
        "outputId": "3d27cbe3-cb24-4a80-ff42-ce37a0822d1a",
        "executionInfo": {
          "status": "ok",
          "timestamp": 1528745169525,
          "user_tz": 420,
          "elapsed": 288,
          "user": {
            "displayName": "Winston Lan",
            "photoUrl": "https://lh3.googleusercontent.com/a/default-user=s128",
            "userId": "104495917744035597997"
          }
        }
      },
      "cell_type": "code",
      "source": [
        "X_train = X_train.reshape(-1, 28, 28, 1)\n",
        "X_test = X_test.reshape(-1, 28, 28, 1)\n",
        "print(\"Train {}\".format(X_train.shape))\n",
        "print(\"Test {}\".format(X_test.shape))"
      ],
      "execution_count": 9,
      "outputs": [
        {
          "output_type": "stream",
          "text": [
            "Train (297629, 28, 28, 1)\n",
            "Test (74408, 28, 28, 1)\n"
          ],
          "name": "stdout"
        }
      ]
    },
    {
      "metadata": {
        "id": "G0rsqt6yI-Yq",
        "colab_type": "code",
        "colab": {
          "autoexec": {
            "startup": false,
            "wait_interval": 0
          }
        }
      },
      "cell_type": "code",
      "source": [
        "X_train = X_train.astype(\"float32\")\n",
        "X_test = X_test.astype(\"float32\")\n",
        "\n",
        "# Normalize and standardize the data\n",
        "mean_image = np.mean(X_train, axis=0)\n",
        "X_train = (X_train - mean_image) / 255\n",
        "X_test = (X_test - mean_image) / 255"
      ],
      "execution_count": 0,
      "outputs": []
    },
    {
      "metadata": {
        "id": "EMytigGwI_gk",
        "colab_type": "code",
        "colab": {
          "autoexec": {
            "startup": false,
            "wait_interval": 0
          },
          "base_uri": "https://localhost:8080/",
          "height": 266
        },
        "outputId": "06f5a3da-7d13-4137-a7b0-e5f9c2ce352f",
        "executionInfo": {
          "status": "ok",
          "timestamp": 1528745172032,
          "user_tz": 420,
          "elapsed": 918,
          "user": {
            "displayName": "Winston Lan",
            "photoUrl": "https://lh3.googleusercontent.com/a/default-user=s128",
            "userId": "104495917744035597997"
          }
        }
      },
      "cell_type": "code",
      "source": [
        "X_example1 = X_train[0]\n",
        "X_example2 = X_test[0]\n",
        "\n",
        "fig= plt.figure(figsize=(8,8))\n",
        "\n",
        "X_example1_2d = X_example1.reshape(28,28)\n",
        "fig.add_subplot(1,2,1)\n",
        "plt.imshow(X_example1_2d)\n",
        "plt.title(\"Ground Truth: {}\".format(Y_train[0]))\n",
        "\n",
        "X_example2_2d = X_example2.reshape(28,28)\n",
        "fig.add_subplot(1,2,2)\n",
        "plt.imshow(X_example2_2d)\n",
        "plt.title(\"Ground Truth: {}\".format(Y_test[0]))\n",
        "\n",
        "plt.show()"
      ],
      "execution_count": 11,
      "outputs": [
        {
          "output_type": "display_data",
          "data": {
            "image/png": "[encoded data removed]",
            "text/plain": [
              "<matplotlib.figure.Figure at 0x7f02e1032ba8>"
            ]
          },
          "metadata": {
            "tags": []
          }
        }
      ]
    },
    {
      "metadata": {
        "id": "gMe2B92BJAi2",
        "colab_type": "code",
        "colab": {
          "autoexec": {
            "startup": false,
            "wait_interval": 0
          },
          "base_uri": "https://localhost:8080/",
          "height": 68
        },
        "outputId": "c3914a15-f3e6-481f-8738-c59c55fca634",
        "executionInfo": {
          "status": "ok",
          "timestamp": 1528745173310,
          "user_tz": 420,
          "elapsed": 282,
          "user": {
            "displayName": "Winston Lan",
            "photoUrl": "https://lh3.googleusercontent.com/a/default-user=s128",
            "userId": "104495917744035597997"
          }
        }
      },
      "cell_type": "code",
      "source": [
        "Y_train_onehot = to_categorical(Y_train)\n",
        "Y_test_onehot = to_categorical(Y_test)\n",
        "\n",
        "print(\"Original Label: {}\".format(Y_train[0]))\n",
        "print(\"One Hot Label: {}\".format(Y_train_onehot[0]))"
      ],
      "execution_count": 12,
      "outputs": [
        {
          "output_type": "stream",
          "text": [
            "Original Label: 11\n",
            "One Hot Label: [0. 0. 0. 0. 0. 0. 0. 0. 0. 0. 0. 1. 0. 0. 0. 0. 0. 0. 0. 0. 0. 0. 0. 0.\n",
            " 0. 0.]\n"
          ],
          "name": "stdout"
        }
      ]
    },
    {
      "metadata": {
        "id": "qmyKSquJJB22",
        "colab_type": "code",
        "colab": {
          "autoexec": {
            "startup": false,
            "wait_interval": 0
          },
          "base_uri": "https://localhost:8080/",
          "height": 51
        },
        "outputId": "0249860b-0fc8-4e0c-8495-24bdc16618f5",
        "executionInfo": {
          "status": "ok",
          "timestamp": 1528745174771,
          "user_tz": 420,
          "elapsed": 681,
          "user": {
            "displayName": "Winston Lan",
            "photoUrl": "https://lh3.googleusercontent.com/a/default-user=s128",
            "userId": "104495917744035597997"
          }
        }
      },
      "cell_type": "code",
      "source": [
        "X_train, X_valid, Y_train, Y_valid = train_test_split(X_train, Y_train_onehot, test_size=0.2)\n",
        "\n",
        "print(\"Train: {} {}\".format(X_train.shape, Y_train.shape))\n",
        "print(\"Valid: {} {}\".format(X_valid.shape, Y_valid.shape))"
      ],
      "execution_count": 13,
      "outputs": [
        {
          "output_type": "stream",
          "text": [
            "Train: (238103, 28, 28, 1) (238103, 26)\n",
            "Valid: (59526, 28, 28, 1) (59526, 26)\n"
          ],
          "name": "stdout"
        }
      ]
    },
    {
      "metadata": {
        "id": "U9vfH6o7TreA",
        "colab_type": "text"
      },
      "cell_type": "markdown",
      "source": [
        "## Lenet 1 Model\n"
      ]
    },
    {
      "metadata": {
        "id": "RPTMQwMOJDU7",
        "colab_type": "code",
        "colab": {
          "autoexec": {
            "startup": false,
            "wait_interval": 0
          }
        }
      },
      "cell_type": "code",
      "source": [
        "import keras\n",
        "from keras.models import Sequential,Input,Model\n",
        "from keras.layers import Dense, Dropout, Flatten\n",
        "from keras.layers import Conv2D, MaxPooling2D\n",
        "from keras.layers.normalization import BatchNormalization\n",
        "from keras.layers.advanced_activations import LeakyReLU"
      ],
      "execution_count": 0,
      "outputs": []
    },
    {
      "metadata": {
        "id": "oiQXhyMsTlcW",
        "colab_type": "code",
        "colab": {
          "autoexec": {
            "startup": false,
            "wait_interval": 0
          }
        }
      },
      "cell_type": "code",
      "source": [
        "batch_size = 64\n",
        "epochs = 20\n",
        "num_classes = 26\n"
      ],
      "execution_count": 0,
      "outputs": []
    },
    {
      "metadata": {
        "id": "Fh1sz78YTz62",
        "colab_type": "text"
      },
      "cell_type": "markdown",
      "source": [
        "### Input\n",
        "The LeNet 1 model accepts a 28 x 28 input layer.\n",
        "\n",
        "### Architecture\n",
        "Conolutional Layer 1: Output should be 24 x 24 x 4\n",
        "\n",
        "Activation: Your choice of activation function\n",
        "\n",
        "Pooling Layer 1: Output should be 12 x 12 x 4\n",
        "\n",
        "Convolution Layer 2: Output should be 8 x 8 x 12\n",
        "\n",
        "Activation: Your choice of activation function\n",
        "\n",
        "Pooling Layer 2: Output should be 4 x 4 x 12\n",
        "\n",
        "Conolution Layer 3: Output should be 1 x 1 x 10"
      ]
    },
    {
      "metadata": {
        "id": "mZnk8sXXT5q7",
        "colab_type": "code",
        "colab": {
          "autoexec": {
            "startup": false,
            "wait_interval": 0
          }
        }
      },
      "cell_type": "code",
      "source": [
        "lenet1_model = Sequential()\n",
        "# Convolutional Layer 1\n",
        "lenet1_model.add(Conv2D(4, kernel_size=(5,5), activation=\"linear\", \n",
        "                     input_shape=(28, 28, 1), padding=\"valid\", data_format=\"channels_last\"))\n",
        "# Activiation Layer\n",
        "lenet1_model.add(LeakyReLU(alpha=0.1))\n",
        "# Pooling Layer 1\n",
        "lenet1_model.add(MaxPooling2D(pool_size=(2,2), padding=\"same\"))\n",
        "# Convolution Layer 2\n",
        "lenet1_model.add(Conv2D(12, kernel_size=(5,5), activation=\"linear\", padding=\"valid\"))\n",
        "# Activation Layer\n",
        "lenet1_model.add(LeakyReLU(alpha=0.1))\n",
        "# Pooling Layer 2\n",
        "lenet1_model.add(MaxPooling2D(pool_size=(2,2), padding=\"same\"))\n",
        "# Convolution Layer 3\n",
        "lenet1_model.add(Conv2D(num_classes, kernel_size=(4,4), activation=\"linear\", padding=\"valid\"))\n",
        "lenet1_model.add(Flatten())\n"
      ],
      "execution_count": 0,
      "outputs": []
    },
    {
      "metadata": {
        "id": "Wpu-x_auT7aC",
        "colab_type": "code",
        "colab": {
          "autoexec": {
            "startup": false,
            "wait_interval": 0
          },
          "base_uri": "https://localhost:8080/",
          "height": 408
        },
        "outputId": "35b9cde4-728f-4294-f0d2-b450e9eb8761",
        "executionInfo": {
          "status": "ok",
          "timestamp": 1528745266533,
          "user_tz": 420,
          "elapsed": 325,
          "user": {
            "displayName": "Winston Lan",
            "photoUrl": "https://lh3.googleusercontent.com/a/default-user=s128",
            "userId": "104495917744035597997"
          }
        }
      },
      "cell_type": "code",
      "source": [
        "lenet1_model.compile(loss=keras.losses.categorical_crossentropy, \n",
        "                     optimizer=keras.optimizers.Adam(),\n",
        "                     metrics=['accuracy'])\n",
        "lenet1_model.summary()"
      ],
      "execution_count": 21,
      "outputs": [
        {
          "output_type": "stream",
          "text": [
            "_________________________________________________________________\n",
            "Layer (type)                 Output Shape              Param #   \n",
            "=================================================================\n",
            "conv2d_4 (Conv2D)            (None, 24, 24, 4)         104       \n",
            "_________________________________________________________________\n",
            "leaky_re_lu_3 (LeakyReLU)    (None, 24, 24, 4)         0         \n",
            "_________________________________________________________________\n",
            "max_pooling2d_3 (MaxPooling2 (None, 12, 12, 4)         0         \n",
            "_________________________________________________________________\n",
            "conv2d_5 (Conv2D)            (None, 8, 8, 12)          1212      \n",
            "_________________________________________________________________\n",
            "leaky_re_lu_4 (LeakyReLU)    (None, 8, 8, 12)          0         \n",
            "_________________________________________________________________\n",
            "max_pooling2d_4 (MaxPooling2 (None, 4, 4, 12)          0         \n",
            "_________________________________________________________________\n",
            "conv2d_6 (Conv2D)            (None, 1, 1, 26)          5018      \n",
            "_________________________________________________________________\n",
            "flatten_2 (Flatten)          (None, 26)                0         \n",
            "=================================================================\n",
            "Total params: 6,334\n",
            "Trainable params: 6,334\n",
            "Non-trainable params: 0\n",
            "_________________________________________________________________\n"
          ],
          "name": "stdout"
        }
      ]
    },
    {
      "metadata": {
        "id": "tQ9CZnLkUDFc",
        "colab_type": "code",
        "colab": {
          "autoexec": {
            "startup": false,
            "wait_interval": 0
          },
          "base_uri": "https://localhost:8080/",
          "height": 768
        },
        "outputId": "c76eec7c-a5d3-4639-d5a7-d7618508c8a3",
        "executionInfo": {
          "status": "ok",
          "timestamp": 1528746016130,
          "user_tz": 420,
          "elapsed": 748940,
          "user": {
            "displayName": "Winston Lan",
            "photoUrl": "https://lh3.googleusercontent.com/a/default-user=s128",
            "userId": "104495917744035597997"
          }
        }
      },
      "cell_type": "code",
      "source": [
        "print(X_train.shape)\n",
        "print(Y_train.shape)\n",
        "lenet1_train = lenet1_model.fit(X_train, \n",
        "                                Y_train, \n",
        "                                batch_size=batch_size,\n",
        "                                epochs=epochs,\n",
        "                                verbose=1,\n",
        "                                validation_data=(X_valid, Y_valid))"
      ],
      "execution_count": 22,
      "outputs": [
        {
          "output_type": "stream",
          "text": [
            "(238103, 28, 28, 1)\n",
            "(238103, 26)\n",
            "Train on 238103 samples, validate on 59526 samples\n",
            "Epoch 1/20\n",
            "201216/238103 [========================>.....] - ETA: 5s - loss: 9.6576 - acc: 0.0588"
          ],
          "name": "stdout"
        },
        {
          "output_type": "stream",
          "text": [
            "238103/238103 [==============================] - 38s 159us/step - loss: 9.6714 - acc: 0.0598 - val_loss: 9.7425 - val_acc: 0.0669\n",
            "Epoch 2/20\n",
            "146048/238103 [=================>............] - ETA: 13s - loss: 9.7103 - acc: 0.0669"
          ],
          "name": "stdout"
        },
        {
          "output_type": "stream",
          "text": [
            "238103/238103 [==============================] - 38s 158us/step - loss: 9.7040 - acc: 0.0665 - val_loss: 9.7425 - val_acc: 0.0669\n",
            "Epoch 3/20\n",
            "126400/238103 [==============>...............] - ETA: 16s - loss: 9.6956 - acc: 0.0664"
          ],
          "name": "stdout"
        },
        {
          "output_type": "stream",
          "text": [
            "238103/238103 [==============================] - 38s 159us/step - loss: 9.7040 - acc: 0.0665 - val_loss: 9.7425 - val_acc: 0.0669\n",
            "Epoch 4/20\n",
            "117376/238103 [=============>................] - ETA: 18s - loss: 9.7070 - acc: 0.0672"
          ],
          "name": "stdout"
        },
        {
          "output_type": "stream",
          "text": [
            "238103/238103 [==============================] - 37s 155us/step - loss: 9.7040 - acc: 0.0665 - val_loss: 9.7425 - val_acc: 0.0669\n",
            "Epoch 5/20\n",
            "122304/238103 [==============>...............] - ETA: 16s - loss: 9.7052 - acc: 0.0668"
          ],
          "name": "stdout"
        },
        {
          "output_type": "stream",
          "text": [
            "238103/238103 [==============================] - 36s 153us/step - loss: 9.7040 - acc: 0.0665 - val_loss: 9.7425 - val_acc: 0.0669\n",
            "Epoch 6/20\n",
            "116288/238103 [=============>................] - ETA: 18s - loss: 9.6974 - acc: 0.0657"
          ],
          "name": "stdout"
        },
        {
          "output_type": "stream",
          "text": [
            "238103/238103 [==============================] - 38s 159us/step - loss: 9.7040 - acc: 0.0665 - val_loss: 9.7425 - val_acc: 0.0669\n",
            "Epoch 7/20\n",
            "115456/238103 [=============>................] - ETA: 17s - loss: 9.7325 - acc: 0.0671"
          ],
          "name": "stdout"
        },
        {
          "output_type": "stream",
          "text": [
            "238103/238103 [==============================] - 37s 156us/step - loss: 9.7040 - acc: 0.0665 - val_loss: 9.7425 - val_acc: 0.0669\n",
            "Epoch 8/20\n",
            "114240/238103 [=============>................] - ETA: 18s - loss: 9.7226 - acc: 0.0665"
          ],
          "name": "stdout"
        },
        {
          "output_type": "stream",
          "text": [
            "238103/238103 [==============================] - 38s 159us/step - loss: 9.7040 - acc: 0.0665 - val_loss: 9.7425 - val_acc: 0.0669\n",
            "Epoch 9/20\n",
            "114816/238103 [=============>................] - ETA: 17s - loss: 9.6931 - acc: 0.0670"
          ],
          "name": "stdout"
        },
        {
          "output_type": "stream",
          "text": [
            "238103/238103 [==============================] - 37s 155us/step - loss: 9.7040 - acc: 0.0665 - val_loss: 9.7425 - val_acc: 0.0669\n",
            "Epoch 10/20\n",
            "113728/238103 [=============>................] - ETA: 18s - loss: 9.7031 - acc: 0.0653"
          ],
          "name": "stdout"
        },
        {
          "output_type": "stream",
          "text": [
            "238103/238103 [==============================] - 38s 159us/step - loss: 9.7040 - acc: 0.0665 - val_loss: 9.7425 - val_acc: 0.0669\n",
            "Epoch 11/20\n",
            "112512/238103 [=============>................] - ETA: 18s - loss: 9.6880 - acc: 0.0658"
          ],
          "name": "stdout"
        },
        {
          "output_type": "stream",
          "text": [
            "238103/238103 [==============================] - 37s 156us/step - loss: 9.7040 - acc: 0.0665 - val_loss: 9.7425 - val_acc: 0.0669\n",
            "Epoch 12/20\n",
            "113344/238103 [=============>................] - ETA: 18s - loss: 9.7025 - acc: 0.0661"
          ],
          "name": "stdout"
        },
        {
          "output_type": "stream",
          "text": [
            "238103/238103 [==============================] - 38s 158us/step - loss: 9.7040 - acc: 0.0665 - val_loss: 9.7425 - val_acc: 0.0669\n",
            "Epoch 13/20\n",
            "113728/238103 [=============>................] - ETA: 18s - loss: 9.6999 - acc: 0.0667"
          ],
          "name": "stdout"
        },
        {
          "output_type": "stream",
          "text": [
            "238103/238103 [==============================] - 37s 156us/step - loss: 9.7040 - acc: 0.0665 - val_loss: 9.7425 - val_acc: 0.0669\n",
            "Epoch 14/20\n",
            "112512/238103 [=============>................] - ETA: 18s - loss: 9.7254 - acc: 0.0671"
          ],
          "name": "stdout"
        },
        {
          "output_type": "stream",
          "text": [
            "238103/238103 [==============================] - 38s 159us/step - loss: 9.7040 - acc: 0.0665 - val_loss: 9.7425 - val_acc: 0.0669\n",
            "Epoch 15/20\n",
            "112640/238103 [=============>................] - ETA: 18s - loss: 9.7146 - acc: 0.0657"
          ],
          "name": "stdout"
        },
        {
          "output_type": "stream",
          "text": [
            "238103/238103 [==============================] - 37s 156us/step - loss: 9.7040 - acc: 0.0665 - val_loss: 9.7425 - val_acc: 0.0669\n",
            "Epoch 16/20\n",
            "112576/238103 [=============>................] - ETA: 18s - loss: 9.6825 - acc: 0.0676"
          ],
          "name": "stdout"
        },
        {
          "output_type": "stream",
          "text": [
            "238103/238103 [==============================] - 38s 159us/step - loss: 9.7040 - acc: 0.0665 - val_loss: 9.7425 - val_acc: 0.0669\n",
            "Epoch 17/20\n",
            "113280/238103 [=============>................] - ETA: 18s - loss: 9.7086 - acc: 0.0672"
          ],
          "name": "stdout"
        },
        {
          "output_type": "stream",
          "text": [
            "238103/238103 [==============================] - 37s 155us/step - loss: 9.7040 - acc: 0.0665 - val_loss: 9.7425 - val_acc: 0.0669\n",
            "Epoch 18/20\n",
            "113856/238103 [=============>................] - ETA: 18s - loss: 9.6960 - acc: 0.0659"
          ],
          "name": "stdout"
        },
        {
          "output_type": "stream",
          "text": [
            "238103/238103 [==============================] - 38s 158us/step - loss: 9.7040 - acc: 0.0665 - val_loss: 9.7425 - val_acc: 0.0669\n",
            "Epoch 19/20\n",
            "113408/238103 [=============>................] - ETA: 18s - loss: 9.7171 - acc: 0.0672"
          ],
          "name": "stdout"
        },
        {
          "output_type": "stream",
          "text": [
            "238103/238103 [==============================] - 37s 155us/step - loss: 9.7040 - acc: 0.0665 - val_loss: 9.7425 - val_acc: 0.0669\n",
            "Epoch 20/20\n",
            "113984/238103 [=============>................] - ETA: 18s - loss: 9.7097 - acc: 0.0665"
          ],
          "name": "stdout"
        },
        {
          "output_type": "stream",
          "text": [
            "238103/238103 [==============================] - 38s 158us/step - loss: 9.7040 - acc: 0.0665 - val_loss: 9.7425 - val_acc: 0.0669\n"
          ],
          "name": "stdout"
        }
      ]
    },
    {
      "metadata": {
        "id": "Nm6N-7hXUDsh",
        "colab_type": "code",
        "colab": {
          "autoexec": {
            "startup": false,
            "wait_interval": 0
          },
          "base_uri": "https://localhost:8080/",
          "height": 51
        },
        "outputId": "7441c77e-0024-4817-8f67-d67c3d730f95",
        "executionInfo": {
          "status": "ok",
          "timestamp": 1528746233805,
          "user_tz": 420,
          "elapsed": 6718,
          "user": {
            "displayName": "Winston Lan",
            "photoUrl": "https://lh3.googleusercontent.com/a/default-user=s128",
            "userId": "104495917744035597997"
          }
        }
      },
      "cell_type": "code",
      "source": [
        "test_eval = lenet1_model.evaluate(X_test, Y_test_onehot, verbose=0)\n",
        "print('Test loss:', test_eval[0])\n",
        "print('Test accuracy:', test_eval[1])"
      ],
      "execution_count": 23,
      "outputs": [
        {
          "output_type": "stream",
          "text": [
            "Test loss: 9.701666349339853\n",
            "Test accuracy: 0.06782872809375336\n"
          ],
          "name": "stdout"
        }
      ]
    },
    {
      "metadata": {
        "id": "EnyZwBtnUF8c",
        "colab_type": "code",
        "colab": {
          "autoexec": {
            "startup": false,
            "wait_interval": 0
          },
          "base_uri": "https://localhost:8080/",
          "height": 543
        },
        "outputId": "308da31d-eaab-44da-f6e0-6d28023b73b2",
        "executionInfo": {
          "status": "ok",
          "timestamp": 1528746234868,
          "user_tz": 420,
          "elapsed": 868,
          "user": {
            "displayName": "Winston Lan",
            "photoUrl": "https://lh3.googleusercontent.com/a/default-user=s128",
            "userId": "104495917744035597997"
          }
        }
      },
      "cell_type": "code",
      "source": [
        "accuracy = lenet1_train.history['acc']\n",
        "val_accuracy = lenet1_train.history['val_acc']\n",
        "loss = lenet1_train.history['loss']\n",
        "val_loss = lenet1_train.history['val_loss']\n",
        "epochs = range(len(accuracy))\n",
        "plt.plot(epochs, accuracy, 'bo', label='Training accuracy')\n",
        "plt.plot(epochs, val_accuracy, 'b', label='Validation accuracy')\n",
        "plt.title('Training and Validation accuracy')\n",
        "plt.legend()\n",
        "plt.figure()\n",
        "plt.plot(epochs, loss, 'bo', label='Training loss')\n",
        "plt.plot(epochs, val_loss, 'b', label='Validation loss')\n",
        "plt.title('Training and Validation loss')\n",
        "plt.legend()\n",
        "plt.show()"
      ],
      "execution_count": 24,
      "outputs": [
        {
          "output_type": "display_data",
          "data": {
            "image/png": "[encoded data removed]",
            "text/plain": [
              "<matplotlib.figure.Figure at 0x7f02dba49dd8>"
            ]
          },
          "metadata": {
            "tags": []
          }
        },
        {
          "output_type": "display_data",
          "data": {
            "image/png": "[encoded data removed]",
            "text/plain": [
              "<matplotlib.figure.Figure at 0x7f02e036a748>"
            ]
          },
          "metadata": {
            "tags": []
          }
        }
      ]
    },
    {
      "metadata": {
        "id": "usceIaubJEWm",
        "colab_type": "text"
      },
      "cell_type": "markdown",
      "source": [
        "## LeNet 1 Mod Model"
      ]
    },
    {
      "metadata": {
        "id": "2rSMGnakJHoM",
        "colab_type": "code",
        "colab": {
          "autoexec": {
            "startup": false,
            "wait_interval": 0
          }
        }
      },
      "cell_type": "code",
      "source": [
        "batch_size = 128\n",
        "epochs = 20\n",
        "num_classes = 26"
      ],
      "execution_count": 0,
      "outputs": []
    },
    {
      "metadata": {
        "id": "PxS79bRgJIqo",
        "colab_type": "code",
        "colab": {
          "autoexec": {
            "startup": false,
            "wait_interval": 0
          }
        }
      },
      "cell_type": "code",
      "source": [
        "lenet1_mod_model = Sequential()\n",
        "# Convolutional Layer 1\n",
        "lenet1_mod_model.add(Conv2D(32, \n",
        "                            kernel_size=(5,5), \n",
        "                            padding=\"same\", \n",
        "                            activation=\"relu\",\n",
        "                            input_shape=(28, 28, 1), \n",
        "                            data_format=\"channels_last\"))\n",
        "\n",
        "# Pooling Layer 1\n",
        "lenet1_mod_model.add(MaxPooling2D(pool_size=(2,2), \n",
        "                                  padding=\"same\"))\n",
        "\n",
        "# Convolution Layer 2\n",
        "lenet1_mod_model.add(Conv2D(32, \n",
        "                            kernel_size=(5,5), \n",
        "                            activation=\"relu\", \n",
        "                            padding=\"same\"))\n",
        "\n",
        "# Pooling Layer 2\n",
        "lenet1_mod_model.add(MaxPooling2D(pool_size=(2,2), \n",
        "                                  padding=\"same\"))\n",
        "\n",
        "# Convolution Layer 3\n",
        "lenet1_mod_model.add(Conv2D(32, \n",
        "                            kernel_size=(5,5), \n",
        "                            activation=\"linear\", \n",
        "                            padding=\"same\"))\n",
        "\n",
        "lenet1_mod_model.add(Flatten())\n",
        "\n",
        "lenet1_mod_model.add(Dense(128, \n",
        "                           activation=\"relu\"))\n",
        "\n",
        "lenet1_mod_model.add(Dense(num_classes, \n",
        "                           activation=\"softmax\"))\n"
      ],
      "execution_count": 0,
      "outputs": []
    },
    {
      "metadata": {
        "id": "QcDKdcwPJJ1s",
        "colab_type": "code",
        "colab": {
          "autoexec": {
            "startup": false,
            "wait_interval": 0
          }
        }
      },
      "cell_type": "code",
      "source": [
        "lenet1_mod_model.compile(loss=keras.losses.categorical_crossentropy, optimizer=keras.optimizers.Adam(),metrics=['accuracy'])"
      ],
      "execution_count": 0,
      "outputs": []
    },
    {
      "metadata": {
        "id": "RyIz3MwnJLBd",
        "colab_type": "code",
        "colab": {
          "autoexec": {
            "startup": false,
            "wait_interval": 0
          },
          "base_uri": "https://localhost:8080/",
          "height": 408
        },
        "outputId": "b7c4cfbd-1706-4129-df0c-239cdf274315",
        "executionInfo": {
          "status": "ok",
          "timestamp": 1528746252942,
          "user_tz": 420,
          "elapsed": 275,
          "user": {
            "displayName": "Winston Lan",
            "photoUrl": "https://lh3.googleusercontent.com/a/default-user=s128",
            "userId": "104495917744035597997"
          }
        }
      },
      "cell_type": "code",
      "source": [
        "lenet1_mod_model.summary()"
      ],
      "execution_count": 28,
      "outputs": [
        {
          "output_type": "stream",
          "text": [
            "_________________________________________________________________\n",
            "Layer (type)                 Output Shape              Param #   \n",
            "=================================================================\n",
            "conv2d_7 (Conv2D)            (None, 28, 28, 32)        832       \n",
            "_________________________________________________________________\n",
            "max_pooling2d_5 (MaxPooling2 (None, 14, 14, 32)        0         \n",
            "_________________________________________________________________\n",
            "conv2d_8 (Conv2D)            (None, 14, 14, 32)        25632     \n",
            "_________________________________________________________________\n",
            "max_pooling2d_6 (MaxPooling2 (None, 7, 7, 32)          0         \n",
            "_________________________________________________________________\n",
            "conv2d_9 (Conv2D)            (None, 7, 7, 32)          25632     \n",
            "_________________________________________________________________\n",
            "flatten_3 (Flatten)          (None, 1568)              0         \n",
            "_________________________________________________________________\n",
            "dense_1 (Dense)              (None, 128)               200832    \n",
            "_________________________________________________________________\n",
            "dense_2 (Dense)              (None, 26)                3354      \n",
            "=================================================================\n",
            "Total params: 256,282\n",
            "Trainable params: 256,282\n",
            "Non-trainable params: 0\n",
            "_________________________________________________________________\n"
          ],
          "name": "stdout"
        }
      ]
    },
    {
      "metadata": {
        "id": "cKHyCXyxJLzB",
        "colab_type": "code",
        "colab": {
          "autoexec": {
            "startup": false,
            "wait_interval": 0
          },
          "base_uri": "https://localhost:8080/",
          "height": 734
        },
        "outputId": "00f9678f-d7ae-4ad8-890a-29afc26f1bd7",
        "executionInfo": {
          "status": "ok",
          "timestamp": 1528746931874,
          "user_tz": 420,
          "elapsed": 662442,
          "user": {
            "displayName": "Winston Lan",
            "photoUrl": "https://lh3.googleusercontent.com/a/default-user=s128",
            "userId": "104495917744035597997"
          }
        }
      },
      "cell_type": "code",
      "source": [
        "lenet1_mod_train = lenet1_mod_model.fit(X_train, Y_train, batch_size=batch_size,\n",
        "                                epochs=epochs,verbose=1,validation_data=(X_valid, Y_valid))"
      ],
      "execution_count": 29,
      "outputs": [
        {
          "output_type": "stream",
          "text": [
            "Train on 238103 samples, validate on 59526 samples\n",
            "Epoch 1/20\n",
            "238103/238103 [==============================] - 37s 153us/step - loss: 0.1747 - acc: 0.9521 - val_loss: 0.0869 - val_acc: 0.9770\n",
            "Epoch 2/20\n",
            " 17024/238103 [=>............................] - ETA: 29s - loss: 0.0765 - acc: 0.9800"
          ],
          "name": "stdout"
        },
        {
          "output_type": "stream",
          "text": [
            "238103/238103 [==============================] - 35s 146us/step - loss: 0.0727 - acc: 0.9801 - val_loss: 0.0909 - val_acc: 0.9755\n",
            "Epoch 3/20\n",
            "103936/238103 [============>.................] - ETA: 17s - loss: 0.0585 - acc: 0.9834"
          ],
          "name": "stdout"
        },
        {
          "output_type": "stream",
          "text": [
            "238103/238103 [==============================] - 34s 141us/step - loss: 0.0578 - acc: 0.9839 - val_loss: 0.0727 - val_acc: 0.9806\n",
            "Epoch 4/20\n",
            "142208/238103 [================>.............] - ETA: 12s - loss: 0.0490 - acc: 0.9863"
          ],
          "name": "stdout"
        },
        {
          "output_type": "stream",
          "text": [
            "238103/238103 [==============================] - 34s 141us/step - loss: 0.0486 - acc: 0.9865 - val_loss: 0.0630 - val_acc: 0.9838\n",
            "Epoch 5/20\n",
            "166016/238103 [===================>..........] - ETA: 9s - loss: 0.0414 - acc: 0.9885"
          ],
          "name": "stdout"
        },
        {
          "output_type": "stream",
          "text": [
            "238103/238103 [==============================] - 33s 138us/step - loss: 0.0415 - acc: 0.9884 - val_loss: 0.0561 - val_acc: 0.9854\n",
            "Epoch 6/20\n",
            "170880/238103 [====================>.........] - ETA: 8s - loss: 0.0354 - acc: 0.9895"
          ],
          "name": "stdout"
        },
        {
          "output_type": "stream",
          "text": [
            "238103/238103 [==============================] - 33s 138us/step - loss: 0.0356 - acc: 0.9896 - val_loss: 0.0540 - val_acc: 0.9864\n",
            "Epoch 7/20\n",
            "173952/238103 [====================>.........] - ETA: 8s - loss: 0.0306 - acc: 0.9913"
          ],
          "name": "stdout"
        },
        {
          "output_type": "stream",
          "text": [
            "238103/238103 [==============================] - 33s 139us/step - loss: 0.0319 - acc: 0.9910 - val_loss: 0.0580 - val_acc: 0.9839\n",
            "Epoch 8/20\n",
            "175616/238103 [=====================>........] - ETA: 8s - loss: 0.0277 - acc: 0.9921"
          ],
          "name": "stdout"
        },
        {
          "output_type": "stream",
          "text": [
            "238103/238103 [==============================] - 33s 140us/step - loss: 0.0280 - acc: 0.9919 - val_loss: 0.0627 - val_acc: 0.9857\n",
            "Epoch 9/20\n",
            "175232/238103 [=====================>........] - ETA: 8s - loss: 0.0250 - acc: 0.9928"
          ],
          "name": "stdout"
        },
        {
          "output_type": "stream",
          "text": [
            "238103/238103 [==============================] - 33s 140us/step - loss: 0.0261 - acc: 0.9925 - val_loss: 0.0627 - val_acc: 0.9855\n",
            "Epoch 10/20\n",
            "179712/238103 [=====================>........] - ETA: 7s - loss: 0.0241 - acc: 0.9931"
          ],
          "name": "stdout"
        },
        {
          "output_type": "stream",
          "text": [
            "238103/238103 [==============================] - 33s 138us/step - loss: 0.0244 - acc: 0.9930 - val_loss: 0.0597 - val_acc: 0.9880\n",
            "Epoch 11/20\n",
            "177664/238103 [=====================>........] - ETA: 7s - loss: 0.0221 - acc: 0.9934"
          ],
          "name": "stdout"
        },
        {
          "output_type": "stream",
          "text": [
            "238103/238103 [==============================] - 33s 139us/step - loss: 0.0231 - acc: 0.9931 - val_loss: 0.0632 - val_acc: 0.9873\n",
            "Epoch 12/20\n",
            "183296/238103 [======================>.......] - ETA: 6s - loss: 0.0204 - acc: 0.9941"
          ],
          "name": "stdout"
        },
        {
          "output_type": "stream",
          "text": [
            "238103/238103 [==============================] - 32s 136us/step - loss: 0.0215 - acc: 0.9938 - val_loss: 0.0678 - val_acc: 0.9856\n",
            "Epoch 13/20\n",
            "182912/238103 [======================>.......] - ETA: 7s - loss: 0.0213 - acc: 0.9939"
          ],
          "name": "stdout"
        },
        {
          "output_type": "stream",
          "text": [
            "238103/238103 [==============================] - 33s 137us/step - loss: 0.0214 - acc: 0.9938 - val_loss: 0.0639 - val_acc: 0.9883\n",
            "Epoch 14/20\n",
            "184448/238103 [======================>.......] - ETA: 6s - loss: 0.0190 - acc: 0.9946"
          ],
          "name": "stdout"
        },
        {
          "output_type": "stream",
          "text": [
            "238103/238103 [==============================] - 33s 137us/step - loss: 0.0201 - acc: 0.9943 - val_loss: 0.0643 - val_acc: 0.9869\n",
            "Epoch 15/20\n",
            "187392/238103 [======================>.......] - ETA: 6s - loss: 0.0193 - acc: 0.9946"
          ],
          "name": "stdout"
        },
        {
          "output_type": "stream",
          "text": [
            "238103/238103 [==============================] - 32s 136us/step - loss: 0.0200 - acc: 0.9944 - val_loss: 0.0724 - val_acc: 0.9870\n",
            "Epoch 16/20\n",
            "186496/238103 [======================>.......] - ETA: 6s - loss: 0.0181 - acc: 0.9950"
          ],
          "name": "stdout"
        },
        {
          "output_type": "stream",
          "text": [
            "238103/238103 [==============================] - 33s 137us/step - loss: 0.0189 - acc: 0.9949 - val_loss: 0.0679 - val_acc: 0.9875\n",
            "Epoch 17/20\n",
            "186112/238103 [======================>.......] - ETA: 6s - loss: 0.0169 - acc: 0.9954"
          ],
          "name": "stdout"
        },
        {
          "output_type": "stream",
          "text": [
            "238103/238103 [==============================] - 32s 136us/step - loss: 0.0174 - acc: 0.9952 - val_loss: 0.0659 - val_acc: 0.9890\n",
            "Epoch 18/20\n",
            "189824/238103 [======================>.......] - ETA: 6s - loss: 0.0187 - acc: 0.9950"
          ],
          "name": "stdout"
        },
        {
          "output_type": "stream",
          "text": [
            "238103/238103 [==============================] - 32s 136us/step - loss: 0.0188 - acc: 0.9950 - val_loss: 0.0697 - val_acc: 0.9886\n",
            "Epoch 19/20\n",
            "187648/238103 [======================>.......] - ETA: 6s - loss: 0.0173 - acc: 0.9954"
          ],
          "name": "stdout"
        },
        {
          "output_type": "stream",
          "text": [
            "238103/238103 [==============================] - 33s 137us/step - loss: 0.0176 - acc: 0.9953 - val_loss: 0.0704 - val_acc: 0.9890\n",
            "Epoch 20/20\n",
            "195328/238103 [=======================>......] - ETA: 5s - loss: 0.0178 - acc: 0.9952"
          ],
          "name": "stdout"
        },
        {
          "output_type": "stream",
          "text": [
            "238103/238103 [==============================] - 31s 132us/step - loss: 0.0181 - acc: 0.9952 - val_loss: 0.0654 - val_acc: 0.9905\n"
          ],
          "name": "stdout"
        }
      ]
    },
    {
      "metadata": {
        "id": "8qhpvCFTJNdj",
        "colab_type": "code",
        "colab": {
          "autoexec": {
            "startup": false,
            "wait_interval": 0
          },
          "base_uri": "https://localhost:8080/",
          "height": 51
        },
        "outputId": "e299b04b-cab2-49ae-867a-3601a4c68933",
        "executionInfo": {
          "status": "ok",
          "timestamp": 1528746940663,
          "user_tz": 420,
          "elapsed": 8757,
          "user": {
            "displayName": "Winston Lan",
            "photoUrl": "https://lh3.googleusercontent.com/a/default-user=s128",
            "userId": "104495917744035597997"
          }
        }
      },
      "cell_type": "code",
      "source": [
        "test_eval = lenet1_mod_model.evaluate(X_test, Y_test_onehot, verbose=0)\n",
        "print('Test loss:', test_eval[0])\n",
        "print('Test accuracy:', test_eval[1])"
      ],
      "execution_count": 30,
      "outputs": [
        {
          "output_type": "stream",
          "text": [
            "Test loss: 0.05716616718746086\n",
            "Test accuracy: 0.991143425438125\n"
          ],
          "name": "stdout"
        }
      ]
    },
    {
      "metadata": {
        "id": "VZ50Xmb5Jm1S",
        "colab_type": "code",
        "colab": {
          "autoexec": {
            "startup": false,
            "wait_interval": 0
          },
          "base_uri": "https://localhost:8080/",
          "height": 543
        },
        "outputId": "268882c4-857e-4b72-f7e0-dbe15e373baf",
        "executionInfo": {
          "status": "ok",
          "timestamp": 1528746941574,
          "user_tz": 420,
          "elapsed": 853,
          "user": {
            "displayName": "Winston Lan",
            "photoUrl": "https://lh3.googleusercontent.com/a/default-user=s128",
            "userId": "104495917744035597997"
          }
        }
      },
      "cell_type": "code",
      "source": [
        "accuracy = lenet1_mod_train.history['acc']\n",
        "val_accuracy = lenet1_mod_train.history['val_acc']\n",
        "loss = lenet1_mod_train.history['loss']\n",
        "val_loss = lenet1_mod_train.history['val_loss']\n",
        "epochs = range(len(accuracy))\n",
        "plt.plot(epochs, accuracy, 'bo', label='Training accuracy')\n",
        "plt.plot(epochs, val_accuracy, 'b', label='Validation accuracy')\n",
        "plt.title('Training and Validation accuracy')\n",
        "plt.legend()\n",
        "plt.figure()\n",
        "plt.plot(epochs, loss, 'bo', label='Training loss')\n",
        "plt.plot(epochs, val_loss, 'b', label='Validation loss')\n",
        "plt.title('Training and Validation loss')\n",
        "plt.legend()\n",
        "plt.show()"
      ],
      "execution_count": 31,
      "outputs": [
        {
          "output_type": "display_data",
          "data": {
            "image/png": "[encoded data removed]",
            "text/plain": [
              "<matplotlib.figure.Figure at 0x7f02d9223a58>"
            ]
          },
          "metadata": {
            "tags": []
          }
        },
        {
          "output_type": "display_data",
          "data": {
            "image/png": "[encoded data removed]",
            "text/plain": [
              "<matplotlib.figure.Figure at 0x7f02dbaaa438>"
            ]
          },
          "metadata": {
            "tags": []
          }
        }
      ]
    },
    {
      "metadata": {
        "id": "2lgg9X0eKbUJ",
        "colab_type": "code",
        "colab": {
          "autoexec": {
            "startup": false,
            "wait_interval": 0
          }
        }
      },
      "cell_type": "code",
      "source": [
        ""
      ],
      "execution_count": 0,
      "outputs": []
    }
  ]
}