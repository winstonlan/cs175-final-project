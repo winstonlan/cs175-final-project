{
  "nbformat": 4,
  "nbformat_minor": 0,
  "metadata": {
    "colab": {
      "name": "batch_relu_conv_model.ipynb",
      "version": "0.3.2",
      "views": {},
      "default_view": {},
      "provenance": []
    },
    "kernelspec": {
      "display_name": "Python 3",
      "language": "python",
      "name": "python3"
    },
    "accelerator": "GPU"
  },
  "cells": [
    {
      "metadata": {
        "id": "cK7u5NBYKGje",
        "colab_type": "text"
      },
      "cell_type": "markdown",
      "source": [
        "## Google Colab Stuff"
      ]
    },
    {
      "metadata": {
        "id": "CX0nwq5tKB_e",
        "colab_type": "code",
        "colab": {
          "autoexec": {
            "startup": false,
            "wait_interval": 0
          }
        }
      },
      "cell_type": "code",
      "source": [
        "# Code to read csv file into colaboratory:# Code  \n",
        "!pip install -U -q PyDrive\n",
        "from pydrive.auth import GoogleAuth\n",
        "from pydrive.drive import GoogleDrive\n",
        "from google.colab import auth\n",
        "from oauth2client.client import GoogleCredentials\n",
        "\n",
        "# 1. Authenticate and create the PyDrive client.\n",
        "auth.authenticate_user()\n",
        "gauth = GoogleAuth()\n",
        "gauth.credentials = GoogleCredentials.get_application_default()\n",
        "drive = GoogleDrive(gauth)\n",
        "\n",
        "#2. Get the file\n",
        "downloaded = drive.CreateFile({'id':'10Xf2Xv_pfnIycH2HpNZR3SwWHiHdrqzX'}) # replace the id with id of file you want to access\n",
        "downloaded.GetContentFile('handwritten.csv')  \n",
        "\n",
        "#3. Read file as panda dataframe\n",
        "import pandas as pd\n",
        "data = pd.read_csv('handwritten.csv')"
      ],
      "execution_count": 0,
      "outputs": []
    },
    {
      "metadata": {
        "id": "Em6APSTLKEIy",
        "colab_type": "code",
        "colab": {
          "autoexec": {
            "startup": false,
            "wait_interval": 0
          }
        }
      },
      "cell_type": "code",
      "source": [
        "!pip install -q keras\n",
        "!pip install -q numpy\n",
        "!pip install -q sklearn\n",
        "!pip install -q matplotlib\n",
        "!pip install -q pandas"
      ],
      "execution_count": 0,
      "outputs": []
    },
    {
      "metadata": {
        "id": "g1PJJ8FJJ95K",
        "colab_type": "text"
      },
      "cell_type": "markdown",
      "source": [
        "# [Batchnorm --> Relu --> Conv] Model Architecture"
      ]
    },
    {
      "metadata": {
        "id": "h91LSZcCJ95L",
        "colab_type": "text"
      },
      "cell_type": "markdown",
      "source": [
        "Goal of this notebook is to develop a neural network based off of the [batchnorm, relu, conv]xN ==> [affine]xM ==> [softmax or SVM]. Goal of the classifier developed by this model is to classify over 90% of the test data correctly.\n"
      ]
    },
    {
      "metadata": {
        "id": "EcgwrumIJ95M",
        "colab_type": "code",
        "colab": {
          "autoexec": {
            "startup": false,
            "wait_interval": 0
          }
        }
      },
      "cell_type": "code",
      "source": [
        "import numpy as np\n",
        "import pandas as pd\n",
        "import matplotlib.pyplot as plt\n",
        "import matplotlib.image as mpimg\n",
        "%matplotlib inline\n",
        "\n",
        "from sklearn.model_selection import train_test_split"
      ],
      "execution_count": 0,
      "outputs": []
    },
    {
      "metadata": {
        "id": "HmUUWbScJ95P",
        "colab_type": "text"
      },
      "cell_type": "markdown",
      "source": [
        "## Load the Data"
      ]
    },
    {
      "metadata": {
        "id": "HRTOMByEJ95Q",
        "colab_type": "code",
        "colab": {
          "autoexec": {
            "startup": false,
            "wait_interval": 0
          },
          "base_uri": "https://localhost:8080/",
          "height": 51
        },
        "outputId": "cb2a29df-645f-4773-b2d3-ab2f75671b46",
        "executionInfo": {
          "status": "ok",
          "timestamp": 1527887190170,
          "user_tz": 420,
          "elapsed": 27618,
          "user": {
            "displayName": "Winston Lan",
            "photoUrl": "https://lh3.googleusercontent.com/a/default-user=s128",
            "userId": "104495917744035597997"
          }
        }
      },
      "cell_type": "code",
      "source": [
        "# Get the data from the csv file\n",
        "# data = pd.read_csv(\"./data/handwritten_data_785.csv\", encoding = \"utf8\").values\n",
        "data = data.values\n",
        "np.random.shuffle(data)\n",
        "\n",
        "# Split the data into X, Y, and parition the values into the training and test splits\n",
        "# Reshape X to be in the shape (N, 28, 28)\n",
        "X, Y = data[:,1:], data[:,0]\n",
        "# X = X.reshape(X.shape[0], 28, 28)\n",
        "X_train, X_test, Y_train, Y_test = train_test_split(X, Y, test_size=0.2)\n",
        "\n",
        "print(\"Train {} {}\".format(X_train.shape, Y_train.shape))\n",
        "print(\"Test {} {}\".format(X_test.shape, Y_test.shape))"
      ],
      "execution_count": 5,
      "outputs": [
        {
          "output_type": "stream",
          "text": [
            "Train (297629, 784) (297629,)\n",
            "Test (74408, 784) (74408,)\n"
          ],
          "name": "stdout"
        }
      ]
    },
    {
      "metadata": {
        "id": "xwYIFXdcJ95X",
        "colab_type": "text"
      },
      "cell_type": "markdown",
      "source": [
        "## Analyze the Data"
      ]
    },
    {
      "metadata": {
        "id": "DcVKCmD1J95Y",
        "colab_type": "code",
        "colab": {
          "autoexec": {
            "startup": false,
            "wait_interval": 0
          },
          "base_uri": "https://localhost:8080/",
          "height": 68
        },
        "outputId": "b1c90893-3cc8-4ee6-a51d-a3290fb95e0e",
        "executionInfo": {
          "status": "ok",
          "timestamp": 1527887194274,
          "user_tz": 420,
          "elapsed": 374,
          "user": {
            "displayName": "Winston Lan",
            "photoUrl": "https://lh3.googleusercontent.com/a/default-user=s128",
            "userId": "104495917744035597997"
          }
        }
      },
      "cell_type": "code",
      "source": [
        "classes = np.unique(Y_train)\n",
        "n_classes = len(classes)\n",
        "print('Total number of outputs : ', n_classes)\n",
        "print('Output classes : ', classes)"
      ],
      "execution_count": 6,
      "outputs": [
        {
          "output_type": "stream",
          "text": [
            "Total number of outputs :  26\n",
            "Output classes :  [ 0  1  2  3  4  5  6  7  8  9 10 11 12 13 14 15 16 17 18 19 20 21 22 23\n",
            " 24 25]\n"
          ],
          "name": "stdout"
        }
      ]
    },
    {
      "metadata": {
        "id": "ZDKDarl2J95c",
        "colab_type": "code",
        "colab": {
          "autoexec": {
            "startup": false,
            "wait_interval": 0
          },
          "base_uri": "https://localhost:8080/",
          "height": 266
        },
        "outputId": "92e43da0-e47d-4bf8-bd8e-4b2f5f9279db",
        "executionInfo": {
          "status": "ok",
          "timestamp": 1527887195021,
          "user_tz": 420,
          "elapsed": 595,
          "user": {
            "displayName": "Winston Lan",
            "photoUrl": "https://lh3.googleusercontent.com/a/default-user=s128",
            "userId": "104495917744035597997"
          }
        }
      },
      "cell_type": "code",
      "source": [
        "X_example1 = X_train[0]\n",
        "X_example2 = X_test[0]\n",
        "\n",
        "fig= plt.figure(figsize=(8,8))\n",
        "\n",
        "X_example1_2d = X_example1.reshape(28,28)\n",
        "fig.add_subplot(1,2,1)\n",
        "plt.imshow(X_example1_2d)\n",
        "plt.title(\"Ground Truth: {}\".format(Y_train[0]))\n",
        "\n",
        "X_example2_2d = X_example2.reshape(28,28)\n",
        "fig.add_subplot(1,2,2)\n",
        "plt.imshow(X_example2_2d)\n",
        "plt.title(\"Ground Truth: {}\".format(Y_test[0]))\n",
        "\n",
        "plt.show()\n"
      ],
      "execution_count": 7,
      "outputs": [
        {
          "output_type": "display_data",
          "data": {
            "image/png": "[encoded data removed]",
            "text/plain": [
              "<matplotlib.figure.Figure at 0x7f057d14ac50>"
            ]
          },
          "metadata": {
            "tags": []
          }
        }
      ]
    },
    {
      "metadata": {
        "id": "dJ-IxlPAJ95g",
        "colab_type": "text"
      },
      "cell_type": "markdown",
      "source": [
        "## Data Preprocessing"
      ]
    },
    {
      "metadata": {
        "id": "iQ83LQGfJ95h",
        "colab_type": "code",
        "colab": {
          "autoexec": {
            "startup": false,
            "wait_interval": 0
          },
          "base_uri": "https://localhost:8080/",
          "height": 34
        },
        "outputId": "7299eab5-a034-4bd6-fd1f-f0ce96d4d170",
        "executionInfo": {
          "status": "ok",
          "timestamp": 1527887207184,
          "user_tz": 420,
          "elapsed": 11437,
          "user": {
            "displayName": "Winston Lan",
            "photoUrl": "https://lh3.googleusercontent.com/a/default-user=s128",
            "userId": "104495917744035597997"
          }
        }
      },
      "cell_type": "code",
      "source": [
        "from keras.utils import to_categorical"
      ],
      "execution_count": 8,
      "outputs": [
        {
          "output_type": "stream",
          "text": [
            "Using TensorFlow backend.\n"
          ],
          "name": "stderr"
        }
      ]
    },
    {
      "metadata": {
        "id": "XciB-O2sJ95m",
        "colab_type": "code",
        "colab": {
          "autoexec": {
            "startup": false,
            "wait_interval": 0
          },
          "base_uri": "https://localhost:8080/",
          "height": 51
        },
        "outputId": "1ca31615-9369-4ac9-eb21-d98cd5bc09f9",
        "executionInfo": {
          "status": "ok",
          "timestamp": 1527887211511,
          "user_tz": 420,
          "elapsed": 4295,
          "user": {
            "displayName": "Winston Lan",
            "photoUrl": "https://lh3.googleusercontent.com/a/default-user=s128",
            "userId": "104495917744035597997"
          }
        }
      },
      "cell_type": "code",
      "source": [
        "X_train = X_train.reshape(-1, 28, 28, 1)\n",
        "X_test = X_test.reshape(-1, 28, 28, 1)\n",
        "print(\"Train {}\".format(X_train.shape))\n",
        "print(\"Test {}\".format(X_test.shape))"
      ],
      "execution_count": 9,
      "outputs": [
        {
          "output_type": "stream",
          "text": [
            "Train (297629, 28, 28, 1)\n",
            "Test (74408, 28, 28, 1)\n"
          ],
          "name": "stdout"
        }
      ]
    },
    {
      "metadata": {
        "id": "iKk_YOLLJ95q",
        "colab_type": "code",
        "colab": {
          "autoexec": {
            "startup": false,
            "wait_interval": 0
          }
        }
      },
      "cell_type": "code",
      "source": [
        "X_train = X_train.astype(\"float32\")\n",
        "X_test = X_test.astype(\"float32\")\n",
        "\n",
        "# Normalize and standardize the data\n",
        "mean_image = np.mean(X_train, axis=0)\n",
        "X_train = (X_train - mean_image) / 255\n",
        "X_test = (X_test - mean_image) / 255"
      ],
      "execution_count": 0,
      "outputs": []
    },
    {
      "metadata": {
        "id": "bDU45av6J95v",
        "colab_type": "code",
        "colab": {
          "autoexec": {
            "startup": false,
            "wait_interval": 0
          },
          "base_uri": "https://localhost:8080/",
          "height": 266
        },
        "outputId": "017b459e-7ada-492b-91b1-b8fd165a9287",
        "executionInfo": {
          "status": "ok",
          "timestamp": 1527887214043,
          "user_tz": 420,
          "elapsed": 508,
          "user": {
            "displayName": "Winston Lan",
            "photoUrl": "https://lh3.googleusercontent.com/a/default-user=s128",
            "userId": "104495917744035597997"
          }
        }
      },
      "cell_type": "code",
      "source": [
        "X_example1 = X_train[0]\n",
        "X_example2 = X_test[0]\n",
        "\n",
        "fig= plt.figure(figsize=(8,8))\n",
        "\n",
        "X_example1_2d = X_example1.reshape(28,28)\n",
        "fig.add_subplot(1,2,1)\n",
        "plt.imshow(X_example1_2d)\n",
        "plt.title(\"Ground Truth: {}\".format(Y_train[0]))\n",
        "\n",
        "X_example2_2d = X_example2.reshape(28,28)\n",
        "fig.add_subplot(1,2,2)\n",
        "plt.imshow(X_example2_2d)\n",
        "plt.title(\"Ground Truth: {}\".format(Y_test[0]))\n",
        "\n",
        "plt.show()"
      ],
      "execution_count": 11,
      "outputs": [
        {
          "output_type": "display_data",
          "data": {
            "image/png": "[encoded data removed]",
            "text/plain": [
              "<matplotlib.figure.Figure at 0x7f053d09eb70>"
            ]
          },
          "metadata": {
            "tags": []
          }
        }
      ]
    },
    {
      "metadata": {
        "id": "Q6MlldO4J950",
        "colab_type": "code",
        "colab": {
          "autoexec": {
            "startup": false,
            "wait_interval": 0
          },
          "base_uri": "https://localhost:8080/",
          "height": 68
        },
        "outputId": "05b90847-a549-4d0e-ac8d-0afa337af485",
        "executionInfo": {
          "status": "ok",
          "timestamp": 1527887214482,
          "user_tz": 420,
          "elapsed": 340,
          "user": {
            "displayName": "Winston Lan",
            "photoUrl": "https://lh3.googleusercontent.com/a/default-user=s128",
            "userId": "104495917744035597997"
          }
        }
      },
      "cell_type": "code",
      "source": [
        "Y_train_onehot = to_categorical(Y_train)\n",
        "Y_test_onehot = to_categorical(Y_test)\n",
        "\n",
        "print(\"Original Label: {}\".format(Y_train[0]))\n",
        "print(\"One Hot Label: {}\".format(Y_train_onehot[0]))"
      ],
      "execution_count": 12,
      "outputs": [
        {
          "output_type": "stream",
          "text": [
            "Original Label: 4\n",
            "One Hot Label: [0. 0. 0. 0. 1. 0. 0. 0. 0. 0. 0. 0. 0. 0. 0. 0. 0. 0. 0. 0. 0. 0. 0. 0.\n",
            " 0. 0.]\n"
          ],
          "name": "stdout"
        }
      ]
    },
    {
      "metadata": {
        "id": "oq0jKDbeJ955",
        "colab_type": "code",
        "colab": {
          "autoexec": {
            "startup": false,
            "wait_interval": 0
          },
          "base_uri": "https://localhost:8080/",
          "height": 51
        },
        "outputId": "43430781-973c-4872-fda1-e86484c3381d",
        "executionInfo": {
          "status": "ok",
          "timestamp": 1527887215127,
          "user_tz": 420,
          "elapsed": 550,
          "user": {
            "displayName": "Winston Lan",
            "photoUrl": "https://lh3.googleusercontent.com/a/default-user=s128",
            "userId": "104495917744035597997"
          }
        }
      },
      "cell_type": "code",
      "source": [
        "X_train, X_valid, Y_train, Y_valid = train_test_split(X_train, Y_train_onehot, test_size=0.2)\n",
        "\n",
        "print(\"Train: {} {}\".format(X_train.shape, Y_train.shape))\n",
        "print(\"Valid: {} {}\".format(X_valid.shape, Y_valid.shape))"
      ],
      "execution_count": 13,
      "outputs": [
        {
          "output_type": "stream",
          "text": [
            "Train: (238103, 28, 28, 1) (238103, 26)\n",
            "Valid: (59526, 28, 28, 1) (59526, 26)\n"
          ],
          "name": "stdout"
        }
      ]
    },
    {
      "metadata": {
        "id": "aDHbMI81J95_",
        "colab_type": "text"
      },
      "cell_type": "markdown",
      "source": [
        "## [Batchnorm --> Relu --> Conv] Model"
      ]
    },
    {
      "metadata": {
        "id": "55O1njeOJ96B",
        "colab_type": "code",
        "colab": {
          "autoexec": {
            "startup": false,
            "wait_interval": 0
          }
        }
      },
      "cell_type": "code",
      "source": [
        "import keras\n",
        "from keras.models import Sequential,Input,Model\n",
        "from keras.layers import Dense, Dropout, Flatten\n",
        "from keras.layers import Conv2D, MaxPooling2D\n",
        "from keras.layers.normalization import BatchNormalization\n",
        "from keras.layers import Activation"
      ],
      "execution_count": 0,
      "outputs": []
    },
    {
      "metadata": {
        "id": "bgeJV5gxJ96E",
        "colab_type": "code",
        "colab": {
          "autoexec": {
            "startup": false,
            "wait_interval": 0
          }
        }
      },
      "cell_type": "code",
      "source": [
        "batch_size = 128\n",
        "epochs = 20\n",
        "num_classes = 26"
      ],
      "execution_count": 0,
      "outputs": []
    },
    {
      "metadata": {
        "id": "N_yJSbTvJ96H",
        "colab_type": "text"
      },
      "cell_type": "markdown",
      "source": [
        "### Input\n",
        "Accepts a 28 x 28 input layer.\n",
        "\n",
        "### Architecture\n",
        "Batchnorm Layer 1: \n",
        "\n",
        "Relu\n",
        "\n",
        "Convolutional Layer 1:\n",
        "\n",
        "Affine:\n",
        "\n",
        "Softmax:"
      ]
    },
    {
      "metadata": {
        "id": "lBpj-Kk7J96J",
        "colab_type": "code",
        "colab": {
          "autoexec": {
            "startup": false,
            "wait_interval": 0
          }
        }
      },
      "cell_type": "code",
      "source": [
        "brc_model = Sequential()\n",
        "\n",
        "brc_model.add(BatchNormalization(input_shape=(28, 28, 1)))\n",
        "brc_model.add(Activation(\"relu\"))\n",
        "brc_model.add(Conv2D(32, kernel_size=(5,5), activation=\"relu\", padding=\"same\"))\n",
        "\n",
        "brc_model.add(Flatten())\n",
        "\n",
        "brc_model.add(Dense(num_classes, activation='softmax'))"
      ],
      "execution_count": 0,
      "outputs": []
    },
    {
      "metadata": {
        "id": "uoBQR7u8J96N",
        "colab_type": "code",
        "colab": {
          "autoexec": {
            "startup": false,
            "wait_interval": 0
          },
          "base_uri": "https://localhost:8080/",
          "height": 306
        },
        "outputId": "82e96986-2874-4bd0-b43d-11b95dfcac65",
        "executionInfo": {
          "status": "ok",
          "timestamp": 1527887236923,
          "user_tz": 420,
          "elapsed": 3965,
          "user": {
            "displayName": "Winston Lan",
            "photoUrl": "https://lh3.googleusercontent.com/a/default-user=s128",
            "userId": "104495917744035597997"
          }
        }
      },
      "cell_type": "code",
      "source": [
        "brc_model.compile(loss=keras.losses.categorical_crossentropy, optimizer=keras.optimizers.Adam(),metrics=['accuracy'])\n",
        "brc_model.summary()"
      ],
      "execution_count": 18,
      "outputs": [
        {
          "output_type": "stream",
          "text": [
            "_________________________________________________________________\n",
            "Layer (type)                 Output Shape              Param #   \n",
            "=================================================================\n",
            "batch_normalization_1 (Batch (None, 28, 28, 1)         4         \n",
            "_________________________________________________________________\n",
            "activation_1 (Activation)    (None, 28, 28, 1)         0         \n",
            "_________________________________________________________________\n",
            "conv2d_1 (Conv2D)            (None, 28, 28, 32)        832       \n",
            "_________________________________________________________________\n",
            "flatten_1 (Flatten)          (None, 25088)             0         \n",
            "_________________________________________________________________\n",
            "dense_1 (Dense)              (None, 26)                652314    \n",
            "=================================================================\n",
            "Total params: 653,150\n",
            "Trainable params: 653,148\n",
            "Non-trainable params: 2\n",
            "_________________________________________________________________\n"
          ],
          "name": "stdout"
        }
      ]
    },
    {
      "metadata": {
        "id": "WUxVQTCnJ96Q",
        "colab_type": "code",
        "colab": {
          "autoexec": {
            "startup": false,
            "wait_interval": 0
          },
          "base_uri": "https://localhost:8080/",
          "height": 734
        },
        "outputId": "9b36ac7e-e0ed-4016-e4e3-ee578b9beacf",
        "executionInfo": {
          "status": "ok",
          "timestamp": 1527887754166,
          "user_tz": 420,
          "elapsed": 517135,
          "user": {
            "displayName": "Winston Lan",
            "photoUrl": "https://lh3.googleusercontent.com/a/default-user=s128",
            "userId": "104495917744035597997"
          }
        }
      },
      "cell_type": "code",
      "source": [
        "brc_model_train = brc_model.fit(X_train, Y_train, batch_size=batch_size,\n",
        "                                epochs=epochs,verbose=1,validation_data=(X_valid, Y_valid))"
      ],
      "execution_count": 19,
      "outputs": [
        {
          "output_type": "stream",
          "text": [
            "Train on 238103 samples, validate on 59526 samples\n",
            "Epoch 1/20\n",
            "238103/238103 [==============================] - 27s 114us/step - loss: 0.1989 - acc: 0.9469 - val_loss: 0.1074 - val_acc: 0.9722\n",
            "Epoch 2/20\n",
            " 82048/238103 [=========>....................] - ETA: 14s - loss: 0.0858 - acc: 0.9769"
          ],
          "name": "stdout"
        },
        {
          "output_type": "stream",
          "text": [
            "238103/238103 [==============================] - 26s 107us/step - loss: 0.0836 - acc: 0.9776 - val_loss: 0.0914 - val_acc: 0.9768\n",
            "Epoch 3/20\n",
            "200448/238103 [========================>.....] - ETA: 3s - loss: 0.0557 - acc: 0.9848"
          ],
          "name": "stdout"
        },
        {
          "output_type": "stream",
          "text": [
            "238103/238103 [==============================] - 26s 107us/step - loss: 0.0554 - acc: 0.9850 - val_loss: 0.0897 - val_acc: 0.9782\n",
            "Epoch 4/20\n",
            "238103/238103 [==============================] - 26s 108us/step - loss: 0.0385 - acc: 0.9895 - val_loss: 0.0826 - val_acc: 0.9812\n",
            "Epoch 5/20\n",
            "  1280/238103 [..............................] - ETA: 26s - loss: 0.0158 - acc: 0.9953"
          ],
          "name": "stdout"
        },
        {
          "output_type": "stream",
          "text": [
            "238103/238103 [==============================] - 26s 108us/step - loss: 0.0279 - acc: 0.9923 - val_loss: 0.0853 - val_acc: 0.9805\n",
            "Epoch 6/20\n",
            "167936/238103 [====================>.........] - ETA: 6s - loss: 0.0213 - acc: 0.9943"
          ],
          "name": "stdout"
        },
        {
          "output_type": "stream",
          "text": [
            "238103/238103 [==============================] - 26s 107us/step - loss: 0.0215 - acc: 0.9942 - val_loss: 0.0879 - val_acc: 0.9836\n",
            "Epoch 7/20\n",
            "230272/238103 [============================>.] - ETA: 0s - loss: 0.0179 - acc: 0.9954"
          ],
          "name": "stdout"
        },
        {
          "output_type": "stream",
          "text": [
            "238103/238103 [==============================] - 26s 108us/step - loss: 0.0183 - acc: 0.9952 - val_loss: 0.0939 - val_acc: 0.9821\n",
            "Epoch 8/20\n",
            "238103/238103 [==============================] - 25s 107us/step - loss: 0.0156 - acc: 0.9960 - val_loss: 0.0974 - val_acc: 0.9834\n",
            "Epoch 9/20\n",
            " 12032/238103 [>.............................] - ETA: 21s - loss: 0.0138 - acc: 0.9976"
          ],
          "name": "stdout"
        },
        {
          "output_type": "stream",
          "text": [
            "238103/238103 [==============================] - 26s 108us/step - loss: 0.0139 - acc: 0.9965 - val_loss: 0.1046 - val_acc: 0.9827\n",
            "Epoch 10/20\n",
            "173440/238103 [====================>.........] - ETA: 6s - loss: 0.0109 - acc: 0.9975"
          ],
          "name": "stdout"
        },
        {
          "output_type": "stream",
          "text": [
            "238103/238103 [==============================] - 26s 108us/step - loss: 0.0118 - acc: 0.9972 - val_loss: 0.0988 - val_acc: 0.9846\n",
            "Epoch 11/20\n",
            "234240/238103 [============================>.] - ETA: 0s - loss: 0.0119 - acc: 0.9972"
          ],
          "name": "stdout"
        },
        {
          "output_type": "stream",
          "text": [
            "238103/238103 [==============================] - 26s 107us/step - loss: 0.0120 - acc: 0.9972 - val_loss: 0.1052 - val_acc: 0.9840\n",
            "Epoch 12/20\n",
            "238103/238103 [==============================] - 26s 108us/step - loss: 0.0105 - acc: 0.9976 - val_loss: 0.1082 - val_acc: 0.9846\n",
            "Epoch 13/20\n",
            " 10240/238103 [>.............................] - ETA: 22s - loss: 0.0097 - acc: 0.9986"
          ],
          "name": "stdout"
        },
        {
          "output_type": "stream",
          "text": [
            "238103/238103 [==============================] - 26s 108us/step - loss: 0.0107 - acc: 0.9975 - val_loss: 0.1123 - val_acc: 0.9842\n",
            "Epoch 14/20\n",
            "172160/238103 [====================>.........] - ETA: 6s - loss: 0.0094 - acc: 0.9980"
          ],
          "name": "stdout"
        },
        {
          "output_type": "stream",
          "text": [
            "238103/238103 [==============================] - 26s 107us/step - loss: 0.0097 - acc: 0.9979 - val_loss: 0.1086 - val_acc: 0.9841\n",
            "Epoch 15/20\n",
            "229120/238103 [===========================>..] - ETA: 0s - loss: 0.0089 - acc: 0.9981"
          ],
          "name": "stdout"
        },
        {
          "output_type": "stream",
          "text": [
            "238103/238103 [==============================] - 26s 109us/step - loss: 0.0092 - acc: 0.9981 - val_loss: 0.1068 - val_acc: 0.9849\n",
            "Epoch 16/20\n",
            "238103/238103 [==============================] - 26s 108us/step - loss: 0.0089 - acc: 0.9984 - val_loss: 0.1147 - val_acc: 0.9847\n",
            "Epoch 17/20\n",
            "  6784/238103 [..............................] - ETA: 22s - loss: 0.0134 - acc: 0.9988"
          ],
          "name": "stdout"
        },
        {
          "output_type": "stream",
          "text": [
            "238103/238103 [==============================] - 26s 108us/step - loss: 0.0090 - acc: 0.9981 - val_loss: 0.1154 - val_acc: 0.9848\n",
            "Epoch 18/20\n",
            "173184/238103 [====================>.........] - ETA: 6s - loss: 0.0082 - acc: 0.9986"
          ],
          "name": "stdout"
        },
        {
          "output_type": "stream",
          "text": [
            "238103/238103 [==============================] - 26s 108us/step - loss: 0.0082 - acc: 0.9985 - val_loss: 0.1153 - val_acc: 0.9852\n",
            "Epoch 19/20\n",
            "235136/238103 [============================>.] - ETA: 0s - loss: 0.0073 - acc: 0.9989"
          ],
          "name": "stdout"
        },
        {
          "output_type": "stream",
          "text": [
            "238103/238103 [==============================] - 25s 107us/step - loss: 0.0072 - acc: 0.9989 - val_loss: 0.1167 - val_acc: 0.9850\n",
            "Epoch 20/20\n",
            "238103/238103 [==============================] - 26s 107us/step - loss: 0.0084 - acc: 0.9983 - val_loss: 0.1232 - val_acc: 0.9850\n"
          ],
          "name": "stdout"
        }
      ]
    },
    {
      "metadata": {
        "id": "wMP6LIf4J96b",
        "colab_type": "code",
        "colab": {
          "autoexec": {
            "startup": false,
            "wait_interval": 0
          },
          "base_uri": "https://localhost:8080/",
          "height": 51
        },
        "outputId": "b5bc31b9-c799-4c90-bb77-9627c37f0dfc",
        "executionInfo": {
          "status": "ok",
          "timestamp": 1527887765435,
          "user_tz": 420,
          "elapsed": 11226,
          "user": {
            "displayName": "Winston Lan",
            "photoUrl": "https://lh3.googleusercontent.com/a/default-user=s128",
            "userId": "104495917744035597997"
          }
        }
      },
      "cell_type": "code",
      "source": [
        "test_eval = brc_model.evaluate(X_test, Y_test_onehot, verbose=0)\n",
        "print('Test loss:', test_eval[0])\n",
        "print('Test accuracy:', test_eval[1])"
      ],
      "execution_count": 20,
      "outputs": [
        {
          "output_type": "stream",
          "text": [
            "Test loss: 0.11552578362394206\n",
            "Test accuracy: 0.9854182345984303\n"
          ],
          "name": "stdout"
        }
      ]
    },
    {
      "metadata": {
        "id": "pP2tXoDIJ96e",
        "colab_type": "code",
        "colab": {
          "autoexec": {
            "startup": false,
            "wait_interval": 0
          },
          "base_uri": "https://localhost:8080/",
          "height": 543
        },
        "outputId": "b0158d7f-e69d-4dd8-8c99-8f70e76101ee",
        "executionInfo": {
          "status": "ok",
          "timestamp": 1527887773664,
          "user_tz": 420,
          "elapsed": 8125,
          "user": {
            "displayName": "Winston Lan",
            "photoUrl": "https://lh3.googleusercontent.com/a/default-user=s128",
            "userId": "104495917744035597997"
          }
        }
      },
      "cell_type": "code",
      "source": [
        "accuracy = brc_model_train.history['acc']\n",
        "val_accuracy = brc_model_train.history['val_acc']\n",
        "loss = brc_model_train.history['loss']\n",
        "val_loss = brc_model_train.history['val_loss']\n",
        "epochs = range(len(accuracy))\n",
        "plt.plot(epochs, accuracy, 'bo', label='Training accuracy')\n",
        "plt.plot(epochs, val_accuracy, 'b', label='Validation accuracy')\n",
        "plt.title('Training and Validation accuracy')\n",
        "plt.legend()\n",
        "plt.figure()\n",
        "plt.plot(epochs, loss, 'bo', label='Training loss')\n",
        "plt.plot(epochs, val_loss, 'b', label='Validation loss')\n",
        "plt.title('Training and Validation loss')\n",
        "plt.legend()\n",
        "plt.show()"
      ],
      "execution_count": 21,
      "outputs": [
        {
          "output_type": "display_data",
          "data": {
            "image/png": "[encoded data removed]",
            "text/plain": [
              "<matplotlib.figure.Figure at 0x7f053d081ba8>"
            ]
          },
          "metadata": {
            "tags": []
          }
        },
        {
          "output_type": "display_data",
          "data": {
            "image/png": "[encoded data removed]",
            "text/plain": [
              "<matplotlib.figure.Figure at 0x7f0536ae0c18>"
            ]
          },
          "metadata": {
            "tags": []
          }
        }
      ]
    },
    {
      "metadata": {
        "id": "P4Aui7W3Mpss",
        "colab_type": "code",
        "colab": {
          "autoexec": {
            "startup": false,
            "wait_interval": 0
          }
        }
      },
      "cell_type": "code",
      "source": [
        ""
      ],
      "execution_count": 0,
      "outputs": []
    }
  ]
}