{
  "nbformat": 4,
  "nbformat_minor": 0,
  "metadata": {
    "colab": {
      "name": "Ensemble.ipynb",
      "version": "0.3.2",
      "views": {},
      "default_view": {},
      "provenance": [],
      "collapsed_sections": []
    },
    "kernelspec": {
      "display_name": "Python 3",
      "language": "python",
      "name": "python3"
    },
    "accelerator": "GPU"
  },
  "cells": [
    {
      "metadata": {
        "id": "aApvxtKxRPwm",
        "colab_type": "code",
        "colab": {
          "autoexec": {
            "startup": false,
            "wait_interval": 0
          }
        }
      },
      "cell_type": "code",
      "source": [
        "\n",
        "# Code to read csv file into colaboratory:# Code  \n",
        "!pip install -U -q PyDrive\n",
        "from pydrive.auth import GoogleAuth\n",
        "from pydrive.drive import GoogleDrive\n",
        "from google.colab import auth\n",
        "from oauth2client.client import GoogleCredentials\n",
        "\n",
        "# 1. Authenticate and create the PyDrive client.\n",
        "auth.authenticate_user()\n",
        "gauth = GoogleAuth()\n",
        "gauth.credentials = GoogleCredentials.get_application_default()\n",
        "drive = GoogleDrive(gauth)\n",
        "\n",
        "#2. Get the file\n",
        "downloaded = drive.CreateFile({'id':'10Xf2Xv_pfnIycH2HpNZR3SwWHiHdrqzX'}) # replace the id with id of file you want to access\n",
        "downloaded.GetContentFile('handwritten.csv')  \n",
        "\n",
        "#3. Read file as panda dataframe\n",
        "import pandas as pd\n",
        "data = pd.read_csv('handwritten.csv')"
      ],
      "execution_count": 0,
      "outputs": []
    },
    {
      "metadata": {
        "id": "wNge0YaORXfP",
        "colab_type": "code",
        "colab": {
          "autoexec": {
            "startup": false,
            "wait_interval": 0
          }
        }
      },
      "cell_type": "code",
      "source": [
        "!pip install -q keras\n",
        "!pip install -q numpy\n",
        "!pip install -q sklearn\n",
        "!pip install -q matplotlib\n",
        "!pip install -q pandas"
      ],
      "execution_count": 0,
      "outputs": []
    },
    {
      "metadata": {
        "id": "9glOPQgnRYRU",
        "colab_type": "code",
        "colab": {
          "autoexec": {
            "startup": false,
            "wait_interval": 0
          }
        }
      },
      "cell_type": "code",
      "source": [
        "import numpy as np\n",
        "import pandas as pd\n",
        "import matplotlib.pyplot as plt\n",
        "import matplotlib.image as mpimg\n",
        "import tensorflow as tf\n",
        "%matplotlib inline\n",
        "\n",
        "from sklearn.model_selection import train_test_split"
      ],
      "execution_count": 0,
      "outputs": []
    },
    {
      "metadata": {
        "id": "ZcbVL0YBRe2Y",
        "colab_type": "text"
      },
      "cell_type": "markdown",
      "source": [
        "# Load the Data"
      ]
    },
    {
      "metadata": {
        "id": "Qmg3cqTvRgjd",
        "colab_type": "code",
        "colab": {
          "autoexec": {
            "startup": false,
            "wait_interval": 0
          },
          "base_uri": "https://localhost:8080/",
          "height": 51
        },
        "outputId": "253979eb-690c-4bd5-98b2-20b5efaa7bf2",
        "executionInfo": {
          "status": "ok",
          "timestamp": 1528823990301,
          "user_tz": 420,
          "elapsed": 27101,
          "user": {
            "displayName": "Winston Lan",
            "photoUrl": "https://lh3.googleusercontent.com/a/default-user=s128",
            "userId": "104495917744035597997"
          }
        }
      },
      "cell_type": "code",
      "source": [
        "# Get the data from the csv file\n",
        "data = data.values\n",
        "np.random.shuffle(data)\n",
        "\n",
        "# Split the data into X, Y, and parition the values into the training and test splits\n",
        "# Reshape X to be in the shape (N, 28, 28)\n",
        "X, Y = data[:,1:], data[:,0]\n",
        "# X = X.reshape(X.shape[0], 28, 28)\n",
        "X_train, X_test, Y_train, Y_test = train_test_split(X, Y, test_size=0.2)\n",
        "\n",
        "print(\"Train {} {}\".format(X_train.shape, Y_train.shape))\n",
        "print(\"Test {} {}\".format(X_test.shape, Y_test.shape))"
      ],
      "execution_count": 4,
      "outputs": [
        {
          "output_type": "stream",
          "text": [
            "Train (297629, 784) (297629,)\n",
            "Test (74408, 784) (74408,)\n"
          ],
          "name": "stdout"
        }
      ]
    },
    {
      "metadata": {
        "id": "-JE3jBErRm9q",
        "colab_type": "text"
      },
      "cell_type": "markdown",
      "source": [
        "# Data Prep"
      ]
    },
    {
      "metadata": {
        "id": "NwCbFYbQRlSO",
        "colab_type": "code",
        "colab": {
          "autoexec": {
            "startup": false,
            "wait_interval": 0
          },
          "base_uri": "https://localhost:8080/",
          "height": 68
        },
        "outputId": "1c68bc20-38d4-4603-e5d7-106feea61ea6",
        "executionInfo": {
          "status": "ok",
          "timestamp": 1528823990699,
          "user_tz": 420,
          "elapsed": 334,
          "user": {
            "displayName": "Winston Lan",
            "photoUrl": "https://lh3.googleusercontent.com/a/default-user=s128",
            "userId": "104495917744035597997"
          }
        }
      },
      "cell_type": "code",
      "source": [
        "classes = np.unique(Y_train)\n",
        "n_classes = len(classes)\n",
        "print('Total number of outputs : ', n_classes)\n",
        "print('Output classes : ', classes)"
      ],
      "execution_count": 5,
      "outputs": [
        {
          "output_type": "stream",
          "text": [
            "Total number of outputs :  26\n",
            "Output classes :  [ 0  1  2  3  4  5  6  7  8  9 10 11 12 13 14 15 16 17 18 19 20 21 22 23\n",
            " 24 25]\n"
          ],
          "name": "stdout"
        }
      ]
    },
    {
      "metadata": {
        "id": "pJXDA8nDjIau",
        "colab_type": "code",
        "colab": {
          "autoexec": {
            "startup": false,
            "wait_interval": 0
          }
        }
      },
      "cell_type": "code",
      "source": [
        "img_size = 28\n",
        "img_size_flat = img_size * img_size\n",
        "img_shape = (img_size, img_size)\n",
        "\n",
        "classes = np.unique(Y_train)\n",
        "num_classes = len(classes)\n",
        "\n",
        "X_train = X_train.reshape(-1, img_size, img_size, 1)\n",
        "X_test = X_test.reshape(-1, img_size, img_size, 1)\n",
        "X_train = X_train.astype(\"float32\")\n",
        "X_test = X_test.astype(\"float32\")"
      ],
      "execution_count": 0,
      "outputs": []
    },
    {
      "metadata": {
        "id": "7cAnZg7iRqkD",
        "colab_type": "text"
      },
      "cell_type": "markdown",
      "source": [
        "## Normalization"
      ]
    },
    {
      "metadata": {
        "id": "0o5zJFqHRsY1",
        "colab_type": "code",
        "colab": {
          "autoexec": {
            "startup": false,
            "wait_interval": 0
          }
        }
      },
      "cell_type": "code",
      "source": [
        "mean_image = np.mean(X_train, axis=0).astype(np.int64)\n",
        "X_train = (X_train - mean_image)/255\n",
        "X_test = (X_test - mean_image)/255"
      ],
      "execution_count": 0,
      "outputs": []
    },
    {
      "metadata": {
        "id": "EZumZB90RwQ4",
        "colab_type": "code",
        "colab": {
          "autoexec": {
            "startup": false,
            "wait_interval": 0
          },
          "base_uri": "https://localhost:8080/",
          "height": 85
        },
        "outputId": "5bf2e0b4-089e-467f-82f3-ca46d1ed8094",
        "executionInfo": {
          "status": "ok",
          "timestamp": 1528823994077,
          "user_tz": 420,
          "elapsed": 351,
          "user": {
            "displayName": "Winston Lan",
            "photoUrl": "https://lh3.googleusercontent.com/a/default-user=s128",
            "userId": "104495917744035597997"
          }
        }
      },
      "cell_type": "code",
      "source": [
        "from keras.utils import to_categorical\n",
        "\n",
        "Y_train_onehot = to_categorical(Y_train)\n",
        "Y_test_onehot = to_categorical(Y_test)\n",
        "print(\"Original Label: {}\".format(Y_train[0]))\n",
        "print(\"One Hot Label: {}\".format(Y_train_onehot[0]))"
      ],
      "execution_count": 8,
      "outputs": [
        {
          "output_type": "stream",
          "text": [
            "Original Label: 2\n",
            "One Hot Label: [0. 0. 1. 0. 0. 0. 0. 0. 0. 0. 0. 0. 0. 0. 0. 0. 0. 0. 0. 0. 0. 0. 0. 0.\n",
            " 0. 0.]\n"
          ],
          "name": "stdout"
        },
        {
          "output_type": "stream",
          "text": [
            "Using TensorFlow backend.\n"
          ],
          "name": "stderr"
        }
      ]
    },
    {
      "metadata": {
        "id": "CE4szLSER3bm",
        "colab_type": "code",
        "colab": {
          "autoexec": {
            "startup": false,
            "wait_interval": 0
          },
          "base_uri": "https://localhost:8080/",
          "height": 51
        },
        "outputId": "8894d4d3-4874-49a0-a7a6-28aeee0f0f25",
        "executionInfo": {
          "status": "ok",
          "timestamp": 1528823995114,
          "user_tz": 420,
          "elapsed": 906,
          "user": {
            "displayName": "Winston Lan",
            "photoUrl": "https://lh3.googleusercontent.com/a/default-user=s128",
            "userId": "104495917744035597997"
          }
        }
      },
      "cell_type": "code",
      "source": [
        "X_train, X_valid, Y_train, Y_valid = train_test_split(X_train, Y_train_onehot, test_size=0.2)\n",
        "\n",
        "print(\"Train: {} {}\".format(X_train.shape, Y_train.shape))\n",
        "print(\"Valid: {} {}\".format(X_valid.shape, Y_valid.shape))"
      ],
      "execution_count": 9,
      "outputs": [
        {
          "output_type": "stream",
          "text": [
            "Train: (238103, 28, 28, 1) (238103, 26)\n",
            "Valid: (59526, 28, 28, 1) (59526, 26)\n"
          ],
          "name": "stdout"
        }
      ]
    },
    {
      "metadata": {
        "id": "i2b7YAsidG-Y",
        "colab_type": "code",
        "colab": {
          "autoexec": {
            "startup": false,
            "wait_interval": 0
          },
          "base_uri": "https://localhost:8080/",
          "height": 280
        },
        "outputId": "2b189a3c-eb99-4df5-fae1-cfc698ee2e74",
        "executionInfo": {
          "status": "ok",
          "timestamp": 1528823995827,
          "user_tz": 420,
          "elapsed": 671,
          "user": {
            "displayName": "Winston Lan",
            "photoUrl": "https://lh3.googleusercontent.com/a/default-user=s128",
            "userId": "104495917744035597997"
          }
        }
      },
      "cell_type": "code",
      "source": [
        "X_example1 = X_train[0]\n",
        "X_example2 = X_test[0]\n",
        "\n",
        "fig= plt.figure(figsize=(8,8))\n",
        "\n",
        "X_example1_2d = X_example1.reshape(28,28)\n",
        "fig.add_subplot(1,2,1)\n",
        "plt.imshow(X_example1_2d)\n",
        "plt.title(\"Ground Truth: {}\".format(Y_train[0]))\n",
        "\n",
        "X_example2_2d = X_example2.reshape(28,28)\n",
        "fig.add_subplot(1,2,2)\n",
        "plt.imshow(X_example2_2d)\n",
        "plt.title(\"Ground Truth: {}\".format(Y_test[0]))\n",
        "\n",
        "plt.show()"
      ],
      "execution_count": 10,
      "outputs": [
        {
          "output_type": "display_data",
          "data": {
            "image/png": "[encoded data removed]",
            "text/plain": [
              "<matplotlib.figure.Figure at 0x7f38850d2f98>"
            ]
          },
          "metadata": {
            "tags": []
          }
        }
      ]
    },
    {
      "metadata": {
        "id": "nYho84e7evEn",
        "colab_type": "text"
      },
      "cell_type": "markdown",
      "source": [
        "# Keras Inits"
      ]
    },
    {
      "metadata": {
        "id": "_X_vsIL-ew0b",
        "colab_type": "code",
        "colab": {
          "autoexec": {
            "startup": false,
            "wait_interval": 0
          }
        }
      },
      "cell_type": "code",
      "source": [
        "from tensorflow.python.keras.optimizers import Adam\n",
        "from tensorflow.python.keras.layers import LeakyReLU, ELU\n",
        "from tensorflow.python.keras.models import Sequential\n",
        "from tensorflow.python.keras.layers import InputLayer, Input\n",
        "from tensorflow.python.keras.layers import Reshape, MaxPooling2D\n",
        "from tensorflow.python.keras.layers import Conv2D, Dense, Flatten\n",
        "from tensorflow.python.keras import initializers\n",
        "from tensorflow.python.keras.losses import mean_absolute_error\n",
        "\n",
        "\n",
        "#Add whatever you need here"
      ],
      "execution_count": 0,
      "outputs": []
    },
    {
      "metadata": {
        "id": "1-twqHw3kGJm",
        "colab_type": "code",
        "colab": {
          "autoexec": {
            "startup": false,
            "wait_interval": 0
          }
        }
      },
      "cell_type": "code",
      "source": [
        "from tensorflow.python.keras.layers import BatchNormalization\n",
        "from tensorflow.python.keras.layers import Activation"
      ],
      "execution_count": 0,
      "outputs": []
    },
    {
      "metadata": {
        "id": "e-krwZ9khFEO",
        "colab_type": "text"
      },
      "cell_type": "markdown",
      "source": [
        "# Models"
      ]
    },
    {
      "metadata": {
        "id": "XftRrXHjdt6L",
        "colab_type": "code",
        "colab": {
          "autoexec": {
            "startup": false,
            "wait_interval": 0
          }
        }
      },
      "cell_type": "code",
      "source": [
        "batch_size = 128\n",
        "epochs = 20\n",
        "num_classes = 26"
      ],
      "execution_count": 0,
      "outputs": []
    },
    {
      "metadata": {
        "id": "uJHUv_1ge9Bq",
        "colab_type": "text"
      },
      "cell_type": "markdown",
      "source": [
        "### [conv-relu-pool]xN -> [affine]xM -> [softmax or SVM]"
      ]
    },
    {
      "metadata": {
        "id": "MNgdmXdxe-5y",
        "colab_type": "code",
        "colab": {
          "autoexec": {
            "startup": false,
            "wait_interval": 0
          }
        }
      },
      "cell_type": "code",
      "source": [
        "def model1():\n",
        "    model = Sequential()\n",
        "    '''\n",
        "    initializer: he_normal\n",
        "    A more recent paper on this topic, Delving Deep into Rectifiers: Surpassing Human-Level Performance on ImageNet Classification by He et al., \n",
        "    derives an initialization specifically for ReLU neurons, reaching the conclusion that the variance of neurons \n",
        "    in the network should be 2.0/n. This gives the initialization w = np.random.randn(n) * sqrt(2.0/n), \n",
        "    and is the current recommendation for use in practice in the specific case of neural networks with ReLU neurons.\n",
        "    '''\n",
        "    #convolutional layer\n",
        "    model.add(Conv2D(kernel_size=7, strides=1, filters=16, padding='same',\n",
        "                     activation='linear', name='layer_conv1', input_shape=(img_size,img_size,1)))\n",
        "    #reLU activation\n",
        "    model.add(LeakyReLU(alpha=0.1))\n",
        "    #Pooling Layer\n",
        "    model.add(MaxPooling2D(pool_size=2, strides=2, padding='same'))\n",
        "\n",
        "    model.add(Flatten())\n",
        "    #Fully-Connected Layer with 128 outputs Adding this in improved scores\n",
        "    model.add(Dense(128, activation='linear'))\n",
        "    model.add(LeakyReLU(alpha=0.1))\n",
        "    #Fully-Connected Layer with Softmax\n",
        "    model.add(Dense(num_classes, activation='softmax'))\n",
        "\n",
        "    '''\n",
        "    For multiclass classification problems like MNIST, cross entropy is typically used as the loss metric\n",
        "    '''\n",
        "    model.compile(optimizer=Adam(lr=1e-3),\n",
        "                  loss='categorical_crossentropy',\n",
        "                  metrics=['accuracy'])\n",
        "    return model\n",
        "# Insert model here"
      ],
      "execution_count": 0,
      "outputs": []
    },
    {
      "metadata": {
        "id": "jXEGJeOzfB8o",
        "colab_type": "text"
      },
      "cell_type": "markdown",
      "source": [
        "### [conv-relu-conv-relu-pool]xN -> [affine]xM -> [softmax or SVM]"
      ]
    },
    {
      "metadata": {
        "id": "YNidiKw6fGro",
        "colab_type": "code",
        "colab": {
          "autoexec": {
            "startup": false,
            "wait_interval": 0
          }
        }
      },
      "cell_type": "code",
      "source": [
        "def model2():\n",
        "  optimizer = Adam(lr=1e-3)\n",
        "\n",
        "  model = Sequential()\n",
        "\n",
        "  #conv\n",
        "  #keras.layers.Conv2D(filters, kernel_size, strides=(1, 1), padding='valid', data_format=None, \n",
        "      #dilation_rate=(1, 1), activation=None, use_bias=True, kernel_initializer='glorot_uniform', \n",
        "      #bias_initializer='zeros', kernel_regularizer=None, bias_regularizer=None, \n",
        "      #activity_regularizer=None, kernel_constraint=None, bias_constraint=None)\n",
        "  model.add(Conv2D(filters=16, kernel_size=8, strides = 1, padding='same', activation='linear',\n",
        "                   bias_initializer='zeros', input_shape=(img_size,img_size,1)))\n",
        "\n",
        "  #ReLu\n",
        "  model.add(LeakyReLU(alpha=0.1))\n",
        "\n",
        "  #conv2\n",
        "  model.add(Conv2D(filters=16, kernel_size=8, strides = 2, padding='same', activation='linear',\n",
        "                   bias_initializer='zeros', input_shape=(img_size,img_size,1)))\n",
        "\n",
        "  #ReLu\n",
        "  model.add(LeakyReLU(alpha=0.1))\n",
        "\n",
        "  #MaxPool\n",
        "  #keras.layers.MaxPooling2D(pool_size=(2, 2), strides=None, padding='valid', data_format=None)\n",
        "  model.add(MaxPooling2D(strides=2, padding='same'))\n",
        "\n",
        "  #Affine\n",
        "  model.add(Flatten())\n",
        "\n",
        "  #keras.layers.Dense(units, activation=None, use_bias=True, kernel_initializer='glorot_uniform', \n",
        "      #bias_initializer='zeros', kernel_regularizer=None, bias_regularizer=None, \n",
        "      #activity_regularizer=None, kernel_constraint=None, bias_constraint=None)\n",
        "  #model.add(Dense(56, activation=\"relu\"))\n",
        "\n",
        "  model.add(Dense(num_classes, activation='softmax'))\n",
        "\n",
        "  model.compile(optimizer=optimizer,\n",
        "                loss='categorical_crossentropy',\n",
        "                metrics=['accuracy'])\n",
        "  return model"
      ],
      "execution_count": 0,
      "outputs": []
    },
    {
      "metadata": {
        "id": "a13Nl1_pfLaO",
        "colab_type": "text"
      },
      "cell_type": "markdown",
      "source": [
        "### [batchnorm-relu-conv]xN -> [affine]xM -> [softmax or SVM]"
      ]
    },
    {
      "metadata": {
        "id": "aQoy4r-CfWPi",
        "colab_type": "code",
        "colab": {
          "autoexec": {
            "startup": false,
            "wait_interval": 0
          }
        }
      },
      "cell_type": "code",
      "source": [
        "def model3():\n",
        "  brc_model = Sequential()\n",
        "\n",
        "  brc_model.add(BatchNormalization(input_shape=(28, 28, 1)))\n",
        "  brc_model.add(Activation(\"relu\"))\n",
        "  brc_model.add(Conv2D(32, kernel_size=(5,5), activation=\"linear\", padding=\"same\"))\n",
        "\n",
        "  brc_model.add(BatchNormalization())\n",
        "  brc_model.add(Activation(\"relu\"))\n",
        "  brc_model.add(Conv2D(64, kernel_size=(5,5), activation=\"linear\", padding=\"same\"))\n",
        "\n",
        "  brc_model.add(Flatten())\n",
        "\n",
        "  brc_model.add(Dense(128, activation=\"relu\"))\n",
        "\n",
        "  brc_model.add(Dense(num_classes, activation='softmax'))\n",
        "  \n",
        "  brc_model.compile(optimizer=Adam(lr=1e-3),\n",
        "                  loss='categorical_crossentropy',\n",
        "                  metrics=['accuracy'])\n",
        "  return brc_model\n",
        "  "
      ],
      "execution_count": 0,
      "outputs": []
    },
    {
      "metadata": {
        "id": "rJ6juMoVhLNr",
        "colab_type": "text"
      },
      "cell_type": "markdown",
      "source": [
        "# Training"
      ]
    },
    {
      "metadata": {
        "id": "mbcpr6eknB0n",
        "colab_type": "code",
        "colab": {
          "autoexec": {
            "startup": false,
            "wait_interval": 0
          }
        }
      },
      "cell_type": "code",
      "source": [
        "models = []"
      ],
      "execution_count": 0,
      "outputs": []
    },
    {
      "metadata": {
        "id": "pBziSjFammXN",
        "colab_type": "code",
        "colab": {
          "autoexec": {
            "startup": false,
            "wait_interval": 0
          },
          "base_uri": "https://localhost:8080/",
          "height": 1091
        },
        "outputId": "7893d3b9-c170-4a1c-8e76-6e4c1c15be7b",
        "executionInfo": {
          "status": "ok",
          "timestamp": 1528824459488,
          "user_tz": 420,
          "elapsed": 453580,
          "user": {
            "displayName": "Winston Lan",
            "photoUrl": "https://lh3.googleusercontent.com/a/default-user=s128",
            "userId": "104495917744035597997"
          }
        }
      },
      "cell_type": "code",
      "source": [
        "mod1 = model1()\n",
        "mod1.summary()\n",
        "mod1.fit(x=X_train,\n",
        "          y=Y_train,\n",
        "          epochs=epochs, batch_size=128,verbose=1, validation_data=(X_valid, Y_valid))\n",
        "models.append(mod1)"
      ],
      "execution_count": 18,
      "outputs": [
        {
          "output_type": "stream",
          "text": [
            "_________________________________________________________________\n",
            "Layer (type)                 Output Shape              Param #   \n",
            "=================================================================\n",
            "layer_conv1 (Conv2D)         (None, 28, 28, 16)        800       \n",
            "_________________________________________________________________\n",
            "leaky_re_lu_1 (LeakyReLU)    (None, 28, 28, 16)        0         \n",
            "_________________________________________________________________\n",
            "max_pooling2d_1 (MaxPooling2 (None, 14, 14, 16)        0         \n",
            "_________________________________________________________________\n",
            "flatten_1 (Flatten)          (None, 3136)              0         \n",
            "_________________________________________________________________\n",
            "dense_1 (Dense)              (None, 128)               401536    \n",
            "_________________________________________________________________\n",
            "leaky_re_lu_2 (LeakyReLU)    (None, 128)               0         \n",
            "_________________________________________________________________\n",
            "dense_2 (Dense)              (None, 26)                3354      \n",
            "=================================================================\n",
            "Total params: 405,690\n",
            "Trainable params: 405,690\n",
            "Non-trainable params: 0\n",
            "_________________________________________________________________\n",
            "Train on 238103 samples, validate on 59526 samples\n",
            "Epoch 1/20\n",
            " 41728/238103 [====>.........................] - ETA: 33s - loss: 0.5586 - acc: 0.8459"
          ],
          "name": "stdout"
        },
        {
          "output_type": "stream",
          "text": [
            "238103/238103 [==============================] - 26s 111us/step - loss: 0.2144 - acc: 0.9414 - val_loss: 0.0977 - val_acc: 0.9733\n",
            "Epoch 2/20\n",
            "202752/238103 [========================>.....] - ETA: 3s - loss: 0.0889 - acc: 0.9761"
          ],
          "name": "stdout"
        },
        {
          "output_type": "stream",
          "text": [
            "238103/238103 [==============================] - 23s 95us/step - loss: 0.0876 - acc: 0.9764 - val_loss: 0.0828 - val_acc: 0.9772\n",
            "Epoch 3/20\n",
            "238103/238103 [==============================] - 22s 94us/step - loss: 0.0676 - acc: 0.9818 - val_loss: 0.0710 - val_acc: 0.9812\n",
            "Epoch 4/20\n",
            " 16640/238103 [=>............................] - ETA: 19s - loss: 0.0483 - acc: 0.9877"
          ],
          "name": "stdout"
        },
        {
          "output_type": "stream",
          "text": [
            "238103/238103 [==============================] - 22s 94us/step - loss: 0.0555 - acc: 0.9849 - val_loss: 0.0639 - val_acc: 0.9836\n",
            "Epoch 5/20\n",
            "195072/238103 [=======================>......] - ETA: 3s - loss: 0.0472 - acc: 0.9867"
          ],
          "name": "stdout"
        },
        {
          "output_type": "stream",
          "text": [
            "238103/238103 [==============================] - 22s 94us/step - loss: 0.0467 - acc: 0.9868 - val_loss: 0.0614 - val_acc: 0.9845\n",
            "Epoch 6/20\n",
            "238103/238103 [==============================] - 22s 93us/step - loss: 0.0392 - acc: 0.9890 - val_loss: 0.0592 - val_acc: 0.9846\n",
            "Epoch 7/20\n",
            " 15104/238103 [>.............................] - ETA: 20s - loss: 0.0315 - acc: 0.9918"
          ],
          "name": "stdout"
        },
        {
          "output_type": "stream",
          "text": [
            "238103/238103 [==============================] - 22s 94us/step - loss: 0.0329 - acc: 0.9908 - val_loss: 0.0581 - val_acc: 0.9852\n",
            "Epoch 8/20\n",
            "194048/238103 [=======================>......] - ETA: 3s - loss: 0.0293 - acc: 0.9919"
          ],
          "name": "stdout"
        },
        {
          "output_type": "stream",
          "text": [
            "238103/238103 [==============================] - 22s 94us/step - loss: 0.0294 - acc: 0.9919 - val_loss: 0.0564 - val_acc: 0.9862\n",
            "Epoch 9/20\n",
            "238103/238103 [==============================] - 23s 95us/step - loss: 0.0262 - acc: 0.9928 - val_loss: 0.0555 - val_acc: 0.9860\n",
            "Epoch 10/20\n",
            " 13440/238103 [>.............................] - ETA: 19s - loss: 0.0204 - acc: 0.9952"
          ],
          "name": "stdout"
        },
        {
          "output_type": "stream",
          "text": [
            "238103/238103 [==============================] - 22s 94us/step - loss: 0.0231 - acc: 0.9935 - val_loss: 0.0573 - val_acc: 0.9872\n",
            "Epoch 11/20\n",
            "194048/238103 [=======================>......] - ETA: 3s - loss: 0.0198 - acc: 0.9947"
          ],
          "name": "stdout"
        },
        {
          "output_type": "stream",
          "text": [
            "238103/238103 [==============================] - 23s 95us/step - loss: 0.0207 - acc: 0.9945 - val_loss: 0.0539 - val_acc: 0.9879\n",
            "Epoch 12/20\n",
            "238103/238103 [==============================] - 22s 94us/step - loss: 0.0185 - acc: 0.9950 - val_loss: 0.0553 - val_acc: 0.9880\n",
            "Epoch 13/20\n",
            " 14208/238103 [>.............................] - ETA: 19s - loss: 0.0161 - acc: 0.9955"
          ],
          "name": "stdout"
        },
        {
          "output_type": "stream",
          "text": [
            "238103/238103 [==============================] - 22s 94us/step - loss: 0.0176 - acc: 0.9951 - val_loss: 0.0602 - val_acc: 0.9881\n",
            "Epoch 14/20\n",
            "193536/238103 [=======================>......] - ETA: 3s - loss: 0.0169 - acc: 0.9954"
          ],
          "name": "stdout"
        },
        {
          "output_type": "stream",
          "text": [
            "238103/238103 [==============================] - 22s 94us/step - loss: 0.0170 - acc: 0.9954 - val_loss: 0.0594 - val_acc: 0.9885\n",
            "Epoch 15/20\n",
            "238103/238103 [==============================] - 23s 95us/step - loss: 0.0154 - acc: 0.9962 - val_loss: 0.0592 - val_acc: 0.9885\n",
            "Epoch 16/20\n",
            " 13568/238103 [>.............................] - ETA: 20s - loss: 0.0131 - acc: 0.9966"
          ],
          "name": "stdout"
        },
        {
          "output_type": "stream",
          "text": [
            "238103/238103 [==============================] - 23s 95us/step - loss: 0.0146 - acc: 0.9961 - val_loss: 0.0561 - val_acc: 0.9892\n",
            "Epoch 17/20\n",
            "192896/238103 [=======================>......] - ETA: 3s - loss: 0.0131 - acc: 0.9966"
          ],
          "name": "stdout"
        },
        {
          "output_type": "stream",
          "text": [
            "238103/238103 [==============================] - 22s 94us/step - loss: 0.0139 - acc: 0.9964 - val_loss: 0.0630 - val_acc: 0.9884\n",
            "Epoch 18/20\n",
            "238103/238103 [==============================] - 23s 95us/step - loss: 0.0134 - acc: 0.9966 - val_loss: 0.0648 - val_acc: 0.9885\n",
            "Epoch 19/20\n",
            " 13440/238103 [>.............................] - ETA: 19s - loss: 0.0101 - acc: 0.9974"
          ],
          "name": "stdout"
        },
        {
          "output_type": "stream",
          "text": [
            "238103/238103 [==============================] - 22s 93us/step - loss: 0.0135 - acc: 0.9966 - val_loss: 0.0625 - val_acc: 0.9894\n",
            "Epoch 20/20\n",
            "194944/238103 [=======================>......] - ETA: 3s - loss: 0.0120 - acc: 0.9972"
          ],
          "name": "stdout"
        },
        {
          "output_type": "stream",
          "text": [
            "238103/238103 [==============================] - 22s 93us/step - loss: 0.0127 - acc: 0.9969 - val_loss: 0.0668 - val_acc: 0.9883\n"
          ],
          "name": "stdout"
        }
      ]
    },
    {
      "metadata": {
        "id": "9lanntfjhOxR",
        "colab_type": "code",
        "colab": {
          "autoexec": {
            "startup": false,
            "wait_interval": 0
          },
          "base_uri": "https://localhost:8080/",
          "height": 1091
        },
        "outputId": "a5fbec67-6aab-46be-faaa-9a2f7fecc6b9",
        "executionInfo": {
          "status": "ok",
          "timestamp": 1528825049086,
          "user_tz": 420,
          "elapsed": 589559,
          "user": {
            "displayName": "Winston Lan",
            "photoUrl": "https://lh3.googleusercontent.com/a/default-user=s128",
            "userId": "104495917744035597997"
          }
        }
      },
      "cell_type": "code",
      "source": [
        "mod2 = model2()\n",
        "mod2.summary()\n",
        "mod2.fit(x=X_train,\n",
        "          y=Y_train,\n",
        "          epochs=epochs, batch_size=128,verbose=1, validation_data=(X_valid, Y_valid))\n",
        "models.append(mod2)"
      ],
      "execution_count": 19,
      "outputs": [
        {
          "output_type": "stream",
          "text": [
            "_________________________________________________________________\n",
            "Layer (type)                 Output Shape              Param #   \n",
            "=================================================================\n",
            "conv2d_1 (Conv2D)            (None, 28, 28, 16)        1040      \n",
            "_________________________________________________________________\n",
            "leaky_re_lu_3 (LeakyReLU)    (None, 28, 28, 16)        0         \n",
            "_________________________________________________________________\n",
            "conv2d_2 (Conv2D)            (None, 14, 14, 16)        16400     \n",
            "_________________________________________________________________\n",
            "leaky_re_lu_4 (LeakyReLU)    (None, 14, 14, 16)        0         \n",
            "_________________________________________________________________\n",
            "max_pooling2d_2 (MaxPooling2 (None, 7, 7, 16)          0         \n",
            "_________________________________________________________________\n",
            "flatten_2 (Flatten)          (None, 784)               0         \n",
            "_________________________________________________________________\n",
            "dense_3 (Dense)              (None, 26)                20410     \n",
            "=================================================================\n",
            "Total params: 37,850\n",
            "Trainable params: 37,850\n",
            "Non-trainable params: 0\n",
            "_________________________________________________________________\n",
            "Train on 238103 samples, validate on 59526 samples\n",
            "Epoch 1/20\n",
            " 34560/238103 [===>..........................] - ETA: 24s - loss: 0.7261 - acc: 0.8013"
          ],
          "name": "stdout"
        },
        {
          "output_type": "stream",
          "text": [
            "238103/238103 [==============================] - 30s 125us/step - loss: 0.2451 - acc: 0.9328 - val_loss: 0.1148 - val_acc: 0.9694\n",
            "Epoch 2/20\n",
            "146048/238103 [=================>............] - ETA: 10s - loss: 0.1037 - acc: 0.9725"
          ],
          "name": "stdout"
        },
        {
          "output_type": "stream",
          "text": [
            "238103/238103 [==============================] - 29s 123us/step - loss: 0.1011 - acc: 0.9733 - val_loss: 0.0930 - val_acc: 0.9752\n",
            "Epoch 3/20\n",
            "189056/238103 [======================>.......] - ETA: 5s - loss: 0.0827 - acc: 0.9781"
          ],
          "name": "stdout"
        },
        {
          "output_type": "stream",
          "text": [
            "238103/238103 [==============================] - 29s 123us/step - loss: 0.0820 - acc: 0.9782 - val_loss: 0.0784 - val_acc: 0.9791\n",
            "Epoch 4/20\n",
            "203264/238103 [========================>.....] - ETA: 4s - loss: 0.0691 - acc: 0.9817"
          ],
          "name": "stdout"
        },
        {
          "output_type": "stream",
          "text": [
            "238103/238103 [==============================] - 29s 124us/step - loss: 0.0702 - acc: 0.9815 - val_loss: 0.0708 - val_acc: 0.9816\n",
            "Epoch 5/20\n",
            "208768/238103 [=========================>....] - ETA: 3s - loss: 0.0631 - acc: 0.9833"
          ],
          "name": "stdout"
        },
        {
          "output_type": "stream",
          "text": [
            "238103/238103 [==============================] - 30s 125us/step - loss: 0.0626 - acc: 0.9834 - val_loss: 0.0724 - val_acc: 0.9813\n",
            "Epoch 6/20\n",
            "210688/238103 [=========================>....] - ETA: 3s - loss: 0.0567 - acc: 0.9850"
          ],
          "name": "stdout"
        },
        {
          "output_type": "stream",
          "text": [
            "238103/238103 [==============================] - 30s 124us/step - loss: 0.0565 - acc: 0.9850 - val_loss: 0.0670 - val_acc: 0.9827\n",
            "Epoch 7/20\n",
            "211968/238103 [=========================>....] - ETA: 3s - loss: 0.0514 - acc: 0.9863"
          ],
          "name": "stdout"
        },
        {
          "output_type": "stream",
          "text": [
            "238103/238103 [==============================] - 29s 124us/step - loss: 0.0519 - acc: 0.9861 - val_loss: 0.0652 - val_acc: 0.9834\n",
            "Epoch 8/20\n",
            "213760/238103 [=========================>....] - ETA: 2s - loss: 0.0472 - acc: 0.9875"
          ],
          "name": "stdout"
        },
        {
          "output_type": "stream",
          "text": [
            "238103/238103 [==============================] - 29s 123us/step - loss: 0.0475 - acc: 0.9874 - val_loss: 0.0666 - val_acc: 0.9825\n",
            "Epoch 9/20\n",
            "213248/238103 [=========================>....] - ETA: 2s - loss: 0.0442 - acc: 0.9880"
          ],
          "name": "stdout"
        },
        {
          "output_type": "stream",
          "text": [
            "238103/238103 [==============================] - 29s 124us/step - loss: 0.0438 - acc: 0.9881 - val_loss: 0.0649 - val_acc: 0.9839\n",
            "Epoch 10/20\n",
            "212096/238103 [=========================>....] - ETA: 2s - loss: 0.0409 - acc: 0.9891"
          ],
          "name": "stdout"
        },
        {
          "output_type": "stream",
          "text": [
            "238103/238103 [==============================] - 30s 124us/step - loss: 0.0414 - acc: 0.9888 - val_loss: 0.0639 - val_acc: 0.9835\n",
            "Epoch 11/20\n",
            "212096/238103 [=========================>....] - ETA: 2s - loss: 0.0379 - acc: 0.9898"
          ],
          "name": "stdout"
        },
        {
          "output_type": "stream",
          "text": [
            "238103/238103 [==============================] - 29s 123us/step - loss: 0.0385 - acc: 0.9896 - val_loss: 0.0613 - val_acc: 0.9848\n",
            "Epoch 12/20\n",
            "213248/238103 [=========================>....] - ETA: 2s - loss: 0.0358 - acc: 0.9900"
          ],
          "name": "stdout"
        },
        {
          "output_type": "stream",
          "text": [
            "238103/238103 [==============================] - 29s 123us/step - loss: 0.0360 - acc: 0.9900 - val_loss: 0.0618 - val_acc: 0.9852\n",
            "Epoch 13/20\n",
            "213504/238103 [=========================>....] - ETA: 2s - loss: 0.0339 - acc: 0.9908"
          ],
          "name": "stdout"
        },
        {
          "output_type": "stream",
          "text": [
            "238103/238103 [==============================] - 29s 122us/step - loss: 0.0342 - acc: 0.9907 - val_loss: 0.0601 - val_acc: 0.9856\n",
            "Epoch 14/20\n",
            "213248/238103 [=========================>....] - ETA: 2s - loss: 0.0317 - acc: 0.9915"
          ],
          "name": "stdout"
        },
        {
          "output_type": "stream",
          "text": [
            "238103/238103 [==============================] - 29s 123us/step - loss: 0.0322 - acc: 0.9912 - val_loss: 0.0622 - val_acc: 0.9849\n",
            "Epoch 15/20\n",
            "211456/238103 [=========================>....] - ETA: 3s - loss: 0.0298 - acc: 0.9917"
          ],
          "name": "stdout"
        },
        {
          "output_type": "stream",
          "text": [
            "238103/238103 [==============================] - 29s 124us/step - loss: 0.0302 - acc: 0.9917 - val_loss: 0.0595 - val_acc: 0.9865\n",
            "Epoch 16/20\n",
            "211456/238103 [=========================>....] - ETA: 3s - loss: 0.0287 - acc: 0.9922"
          ],
          "name": "stdout"
        },
        {
          "output_type": "stream",
          "text": [
            "238103/238103 [==============================] - 29s 123us/step - loss: 0.0287 - acc: 0.9921 - val_loss: 0.0600 - val_acc: 0.9867\n",
            "Epoch 17/20\n",
            "211456/238103 [=========================>....] - ETA: 3s - loss: 0.0265 - acc: 0.9924"
          ],
          "name": "stdout"
        },
        {
          "output_type": "stream",
          "text": [
            "238103/238103 [==============================] - 30s 124us/step - loss: 0.0278 - acc: 0.9922 - val_loss: 0.0626 - val_acc: 0.9866\n",
            "Epoch 18/20\n",
            "211584/238103 [=========================>....] - ETA: 3s - loss: 0.0252 - acc: 0.9930"
          ],
          "name": "stdout"
        },
        {
          "output_type": "stream",
          "text": [
            "238103/238103 [==============================] - 29s 124us/step - loss: 0.0260 - acc: 0.9929 - val_loss: 0.0654 - val_acc: 0.9862\n",
            "Epoch 19/20\n",
            "211200/238103 [=========================>....] - ETA: 3s - loss: 0.0249 - acc: 0.9931"
          ],
          "name": "stdout"
        },
        {
          "output_type": "stream",
          "text": [
            "238103/238103 [==============================] - 30s 124us/step - loss: 0.0252 - acc: 0.9931 - val_loss: 0.0594 - val_acc: 0.9878\n",
            "Epoch 20/20\n",
            "211712/238103 [=========================>....] - ETA: 3s - loss: 0.0242 - acc: 0.9934"
          ],
          "name": "stdout"
        },
        {
          "output_type": "stream",
          "text": [
            "238103/238103 [==============================] - 30s 124us/step - loss: 0.0245 - acc: 0.9933 - val_loss: 0.0650 - val_acc: 0.9860\n"
          ],
          "name": "stdout"
        }
      ]
    },
    {
      "metadata": {
        "id": "1eoesp2_mrSX",
        "colab_type": "code",
        "colab": {
          "autoexec": {
            "startup": false,
            "wait_interval": 0
          },
          "base_uri": "https://localhost:8080/",
          "height": 1159
        },
        "outputId": "e27499bc-22d0-4308-e4d7-00a087786047",
        "executionInfo": {
          "status": "ok",
          "timestamp": 1528826375891,
          "user_tz": 420,
          "elapsed": 1326761,
          "user": {
            "displayName": "Winston Lan",
            "photoUrl": "https://lh3.googleusercontent.com/a/default-user=s128",
            "userId": "104495917744035597997"
          }
        }
      },
      "cell_type": "code",
      "source": [
        "mod3 = model3()\n",
        "mod3.summary()\n",
        "mod3.fit(x=X_train,\n",
        "          y=Y_train,\n",
        "          epochs=epochs, batch_size=128,verbose=1, validation_data=(X_valid, Y_valid))\n",
        "models.append(mod3)"
      ],
      "execution_count": 20,
      "outputs": [
        {
          "output_type": "stream",
          "text": [
            "_________________________________________________________________\n",
            "Layer (type)                 Output Shape              Param #   \n",
            "=================================================================\n",
            "batch_normalization_1 (Batch (None, 28, 28, 1)         4         \n",
            "_________________________________________________________________\n",
            "activation_1 (Activation)    (None, 28, 28, 1)         0         \n",
            "_________________________________________________________________\n",
            "conv2d_3 (Conv2D)            (None, 28, 28, 32)        832       \n",
            "_________________________________________________________________\n",
            "batch_normalization_2 (Batch (None, 28, 28, 32)        128       \n",
            "_________________________________________________________________\n",
            "activation_2 (Activation)    (None, 28, 28, 32)        0         \n",
            "_________________________________________________________________\n",
            "conv2d_4 (Conv2D)            (None, 28, 28, 64)        51264     \n",
            "_________________________________________________________________\n",
            "flatten_3 (Flatten)          (None, 50176)             0         \n",
            "_________________________________________________________________\n",
            "dense_4 (Dense)              (None, 128)               6422656   \n",
            "_________________________________________________________________\n",
            "dense_5 (Dense)              (None, 26)                3354      \n",
            "=================================================================\n",
            "Total params: 6,478,238\n",
            "Trainable params: 6,478,172\n",
            "Non-trainable params: 66\n",
            "_________________________________________________________________\n",
            "Train on 238103 samples, validate on 59526 samples\n",
            "Epoch 1/20\n",
            " 13440/238103 [>.............................] - ETA: 1:09 - loss: 1.1199 - acc: 0.7520\b\b\b\b\b\b\b\b\b\b\b\b\b\b\b\b\b\b\b\b\b\b\b\b\b\b\b\b\b\b\b\b\b\b\b\b\b\b\b\b\b\b\b\b\b\b\b\b\b\b\b\b\b\b\b\b\b\b\b\b\b\b\b\b\b\b\b\b\b\b\b\b\b\b\b\b\b\b\b\b\b\b\b\b\b\b\b"
          ],
          "name": "stdout"
        },
        {
          "output_type": "stream",
          "text": [
            "238103/238103 [==============================] - 67s 282us/step - loss: 0.2360 - acc: 0.9404 - val_loss: 0.1313 - val_acc: 0.9673\n",
            "Epoch 2/20\n",
            " 19584/238103 [=>............................] - ETA: 56s - loss: 0.1022 - acc: 0.9727"
          ],
          "name": "stdout"
        },
        {
          "output_type": "stream",
          "text": [
            "238103/238103 [==============================] - 67s 280us/step - loss: 0.0994 - acc: 0.9731 - val_loss: 0.0849 - val_acc: 0.9778\n",
            "Epoch 3/20\n",
            " 22400/238103 [=>............................] - ETA: 56s - loss: 0.0639 - acc: 0.9820"
          ],
          "name": "stdout"
        },
        {
          "output_type": "stream",
          "text": [
            "238103/238103 [==============================] - 67s 280us/step - loss: 0.0739 - acc: 0.9795 - val_loss: 0.0845 - val_acc: 0.9775\n",
            "Epoch 4/20\n",
            " 23936/238103 [==>...........................] - ETA: 55s - loss: 0.0491 - acc: 0.9862"
          ],
          "name": "stdout"
        },
        {
          "output_type": "stream",
          "text": [
            "238103/238103 [==============================] - 66s 279us/step - loss: 0.0603 - acc: 0.9830 - val_loss: 0.0752 - val_acc: 0.9804\n",
            "Epoch 5/20\n",
            " 23424/238103 [=>............................] - ETA: 55s - loss: 0.0401 - acc: 0.9883"
          ],
          "name": "stdout"
        },
        {
          "output_type": "stream",
          "text": [
            "238103/238103 [==============================] - 66s 277us/step - loss: 0.0488 - acc: 0.9861 - val_loss: 0.0812 - val_acc: 0.9797\n",
            "Epoch 6/20\n",
            " 24704/238103 [==>...........................] - ETA: 55s - loss: 0.0332 - acc: 0.9901"
          ],
          "name": "stdout"
        },
        {
          "output_type": "stream",
          "text": [
            "238103/238103 [==============================] - 66s 277us/step - loss: 0.0411 - acc: 0.9881 - val_loss: 0.0725 - val_acc: 0.9824\n",
            "Epoch 7/20\n",
            " 24448/238103 [==>...........................] - ETA: 55s - loss: 0.0295 - acc: 0.9908"
          ],
          "name": "stdout"
        },
        {
          "output_type": "stream",
          "text": [
            "238103/238103 [==============================] - 66s 278us/step - loss: 0.0342 - acc: 0.9905 - val_loss: 0.0742 - val_acc: 0.9836\n",
            "Epoch 8/20\n",
            " 24960/238103 [==>...........................] - ETA: 54s - loss: 0.0188 - acc: 0.9944"
          ],
          "name": "stdout"
        },
        {
          "output_type": "stream",
          "text": [
            "238103/238103 [==============================] - 66s 278us/step - loss: 0.0298 - acc: 0.9917 - val_loss: 0.0745 - val_acc: 0.9844\n",
            "Epoch 9/20\n",
            " 21120/238103 [=>............................] - ETA: 56s - loss: 0.0256 - acc: 0.9936"
          ],
          "name": "stdout"
        },
        {
          "output_type": "stream",
          "text": [
            "238103/238103 [==============================] - 66s 278us/step - loss: 0.0275 - acc: 0.9925 - val_loss: 0.0887 - val_acc: 0.9833\n",
            "Epoch 10/20\n",
            " 22400/238103 [=>............................] - ETA: 55s - loss: 0.0285 - acc: 0.9928\b\b\b\b\b\b\b\b\b\b\b\b\b\b\b\b\b\b\b\b\b\b\b\b\b\b\b\b\b\b\b\b\b\b\b\b\b\b\b\b\b\b\b\b\b\b\b\b\b\b\b\b\b\b\b\b\b\b\b\b\b\b\b\b\b\b\b\b\b\b\b\b\b\b\b\b\b\b\b\b\b\b\b\b\b\b"
          ],
          "name": "stdout"
        },
        {
          "output_type": "stream",
          "text": [
            "238103/238103 [==============================] - 66s 278us/step - loss: 0.0243 - acc: 0.9935 - val_loss: 0.0826 - val_acc: 0.9844\n",
            "Epoch 11/20\n",
            " 18816/238103 [=>............................] - ETA: 57s - loss: 0.0193 - acc: 0.9945"
          ],
          "name": "stdout"
        },
        {
          "output_type": "stream",
          "text": [
            "238103/238103 [==============================] - 66s 277us/step - loss: 0.0221 - acc: 0.9944 - val_loss: 0.0898 - val_acc: 0.9858\n",
            "Epoch 12/20\n",
            " 22656/238103 [=>............................] - ETA: 55s - loss: 0.0275 - acc: 0.9936"
          ],
          "name": "stdout"
        },
        {
          "output_type": "stream",
          "text": [
            "238103/238103 [==============================] - 66s 277us/step - loss: 0.0228 - acc: 0.9944 - val_loss: 0.0787 - val_acc: 0.9875\n",
            "Epoch 13/20\n",
            " 24704/238103 [==>...........................] - ETA: 55s - loss: 0.0180 - acc: 0.9960"
          ],
          "name": "stdout"
        },
        {
          "output_type": "stream",
          "text": [
            "238103/238103 [==============================] - 66s 278us/step - loss: 0.0210 - acc: 0.9948 - val_loss: 0.0850 - val_acc: 0.9868\n",
            "Epoch 14/20\n",
            " 21888/238103 [=>............................] - ETA: 56s - loss: 0.0142 - acc: 0.9967"
          ],
          "name": "stdout"
        },
        {
          "output_type": "stream",
          "text": [
            "238103/238103 [==============================] - 66s 278us/step - loss: 0.0208 - acc: 0.9952 - val_loss: 0.0793 - val_acc: 0.9884\n",
            "Epoch 15/20\n",
            " 23168/238103 [=>............................] - ETA: 55s - loss: 0.0132 - acc: 0.9974"
          ],
          "name": "stdout"
        },
        {
          "output_type": "stream",
          "text": [
            "238103/238103 [==============================] - 66s 277us/step - loss: 0.0188 - acc: 0.9957 - val_loss: 0.0816 - val_acc: 0.9873\n",
            "Epoch 16/20\n",
            " 22912/238103 [=>............................] - ETA: 55s - loss: 0.0100 - acc: 0.9976"
          ],
          "name": "stdout"
        },
        {
          "output_type": "stream",
          "text": [
            "238103/238103 [==============================] - 66s 277us/step - loss: 0.0187 - acc: 0.9958 - val_loss: 0.0937 - val_acc: 0.9858\n",
            "Epoch 17/20\n",
            " 22400/238103 [=>............................] - ETA: 56s - loss: 0.0175 - acc: 0.9958"
          ],
          "name": "stdout"
        },
        {
          "output_type": "stream",
          "text": [
            "238103/238103 [==============================] - 66s 278us/step - loss: 0.0187 - acc: 0.9959 - val_loss: 0.1029 - val_acc: 0.9850\n",
            "Epoch 18/20\n",
            " 22656/238103 [=>............................] - ETA: 56s - loss: 0.0226 - acc: 0.9955"
          ],
          "name": "stdout"
        },
        {
          "output_type": "stream",
          "text": [
            "238103/238103 [==============================] - 66s 279us/step - loss: 0.0174 - acc: 0.9964 - val_loss: 0.1062 - val_acc: 0.9852\n",
            "Epoch 19/20\n",
            " 22144/238103 [=>............................] - ETA: 56s - loss: 0.0141 - acc: 0.9972"
          ],
          "name": "stdout"
        },
        {
          "output_type": "stream",
          "text": [
            "238103/238103 [==============================] - 67s 280us/step - loss: 0.0190 - acc: 0.9961 - val_loss: 0.0895 - val_acc: 0.9881\n",
            "Epoch 20/20\n",
            " 20352/238103 [=>............................] - ETA: 56s - loss: 0.0192 - acc: 0.9966"
          ],
          "name": "stdout"
        },
        {
          "output_type": "stream",
          "text": [
            "238103/238103 [==============================] - 67s 279us/step - loss: 0.0171 - acc: 0.9964 - val_loss: 0.1070 - val_acc: 0.9863\n"
          ],
          "name": "stdout"
        }
      ]
    },
    {
      "metadata": {
        "id": "WgHtk_6UmvG0",
        "colab_type": "text"
      },
      "cell_type": "markdown",
      "source": [
        "# Ensemble"
      ]
    },
    {
      "metadata": {
        "id": "uxv43q_Jmwqo",
        "colab_type": "code",
        "colab": {
          "autoexec": {
            "startup": false,
            "wait_interval": 0
          },
          "base_uri": "https://localhost:8080/",
          "height": 34
        },
        "outputId": "d33257f6-6be0-4b44-8be9-6b96fcb10787",
        "executionInfo": {
          "status": "ok",
          "timestamp": 1528826400984,
          "user_tz": 420,
          "elapsed": 25068,
          "user": {
            "displayName": "Winston Lan",
            "photoUrl": "https://lh3.googleusercontent.com/a/default-user=s128",
            "userId": "104495917744035597997"
          }
        }
      },
      "cell_type": "code",
      "source": [
        "preds = tf.argmax(np.mean([mod.predict(X_test) for mod in models], axis=0),1)\n",
        "Y_pred = tf.Session().run(preds)\n",
        "incorrect = 0\n",
        "for i in range(len(Y_pred)):\n",
        "  if Y_pred[i] != Y_test[i]:\n",
        "    incorrect += 1\n",
        "print(\"Accuracy:\", 1.0 * (len(Y_pred)-incorrect) / len(Y_pred) )"
      ],
      "execution_count": 21,
      "outputs": [
        {
          "output_type": "stream",
          "text": [
            "Accuracy: 0.991801956778841\n"
          ],
          "name": "stdout"
        }
      ]
    },
    {
      "metadata": {
        "id": "Iv5dEvbIlgCq",
        "colab_type": "code",
        "colab": {
          "autoexec": {
            "startup": false,
            "wait_interval": 0
          }
        }
      },
      "cell_type": "code",
      "source": [
        ""
      ],
      "execution_count": 0,
      "outputs": []
    }
  ]
}