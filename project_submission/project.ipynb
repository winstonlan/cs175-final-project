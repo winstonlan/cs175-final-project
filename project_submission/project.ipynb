{
 "cells": [
  {
   "cell_type": "markdown",
   "metadata": {},
   "source": [
    "# Project Example Notebook"
   ]
  },
  {
   "cell_type": "code",
   "execution_count": 16,
   "metadata": {},
   "outputs": [],
   "source": [
    "import numpy as np\n",
    "import pandas as pd\n",
    "import matplotlib.pyplot as plt\n",
    "import matplotlib.image as mpimg\n",
    "from sklearn.model_selection import train_test_split\n",
    "import tensorflow as tf"
   ]
  },
  {
   "cell_type": "markdown",
   "metadata": {},
   "source": [
    "## Getting and Preparing the Data"
   ]
  },
  {
   "cell_type": "code",
   "execution_count": 28,
   "metadata": {},
   "outputs": [
    {
     "name": "stdout",
     "output_type": "stream",
     "text": [
      "(999, 785)\n",
      "[[ 7  0  0 ...  0  0  0]\n",
      " [18  0  0 ...  0  0  0]\n",
      " [20  0  0 ...  0  0  0]\n",
      " ...\n",
      " [ 9  0  0 ...  0  0  0]\n",
      " [ 2  0  0 ...  0  0  0]\n",
      " [12  0  0 ...  0  0  0]]\n"
     ]
    }
   ],
   "source": [
    "np.random.seed(0)\n",
    "\n",
    "data = pd.read_csv(\"handwritten_data_sample.csv\", encoding = \"utf8\")\n",
    "print(data.shape)\n",
    "print(data.values)\n",
    "data = data.values"
   ]
  },
  {
   "cell_type": "code",
   "execution_count": 29,
   "metadata": {},
   "outputs": [],
   "source": [
    "\n",
    "np.random.shuffle(data)\n",
    "X, y = data[:,1:], data[:,0]\n",
    "\n",
    "X_train, X_test, y_train, y_test = train_test_split(X, y, test_size=0.2)"
   ]
  },
  {
   "cell_type": "code",
   "execution_count": 30,
   "metadata": {},
   "outputs": [],
   "source": [
    "img_size = 28\n",
    "img_size_flat = img_size * img_size\n",
    "img_shape = (img_size, img_size)\n",
    "\n",
    "classes = np.unique(y_train)\n",
    "num_classes = 26\n",
    "\n",
    "X_train = X_train.reshape(X_train.shape[0], img_size, img_size, 1)\n",
    "X_test = X_test.reshape(X_test.shape[0], img_size, img_size, 1)"
   ]
  },
  {
   "cell_type": "code",
   "execution_count": 31,
   "metadata": {},
   "outputs": [],
   "source": [
    "mean_image = np.mean(X_train, axis=0).astype(np.int64)\n",
    "X_train = (X_train - mean_image)/255\n",
    "X_test = (X_test - mean_image)/255"
   ]
  },
  {
   "cell_type": "code",
   "execution_count": 32,
   "metadata": {},
   "outputs": [
    {
     "data": {
      "image/png": "[encoded data removed]",
      "text/plain": [
       "<Figure size 576x576 with 2 Axes>"
      ]
     },
     "metadata": {},
     "output_type": "display_data"
    }
   ],
   "source": [
    "X_example1 = X_train[0]\n",
    "X_example2 = X_test[0]\n",
    "\n",
    "fig= plt.figure(figsize=(8,8))\n",
    "\n",
    "X_example1_2d = X_example1.reshape(28,28)\n",
    "fig.add_subplot(1,2,1)\n",
    "plt.imshow(X_example1_2d)\n",
    "plt.title(\"Ground Truth: {}\".format(y_train[0]))\n",
    "\n",
    "X_example2_2d = X_example2.reshape(28,28)\n",
    "fig.add_subplot(1,2,2)\n",
    "plt.imshow(X_example2_2d)\n",
    "plt.title(\"Ground Truth: {}\".format(y_test[0]))\n",
    "\n",
    "plt.show()"
   ]
  },
  {
   "cell_type": "markdown",
   "metadata": {},
   "source": [
    "# Developing the Model\n",
    "## [conv-relu-conv-relu-pool]xN -> [affine]xM -> [softmax or SVM]"
   ]
  },
  {
   "cell_type": "code",
   "execution_count": 33,
   "metadata": {},
   "outputs": [
    {
     "name": "stderr",
     "output_type": "stream",
     "text": [
      "Using TensorFlow backend.\n"
     ]
    }
   ],
   "source": [
    "\n",
    "from tensorflow.python.keras.optimizers import Adam\n",
    "from tensorflow.python.keras.layers import LeakyReLU, ELU\n",
    "from tensorflow.python.keras.models import Sequential\n",
    "from tensorflow.python.keras.layers import InputLayer, Input\n",
    "from tensorflow.python.keras.layers import Reshape, MaxPooling2D\n",
    "from tensorflow.python.keras.layers import Conv2D, Dense, Flatten\n",
    "from keras.utils import to_categorical\n",
    "\n",
    "from tensorflow.python.keras import initializers\n",
    "\n",
    "optimizer = Adam(lr=1e-3)"
   ]
  },
  {
   "cell_type": "code",
   "execution_count": 34,
   "metadata": {},
   "outputs": [
    {
     "name": "stdout",
     "output_type": "stream",
     "text": [
      "_________________________________________________________________\n",
      "Layer (type)                 Output Shape              Param #   \n",
      "=================================================================\n",
      "conv2d_1 (Conv2D)            (None, 28, 28, 10)        260       \n",
      "_________________________________________________________________\n",
      "elu_1 (ELU)                  (None, 28, 28, 10)        0         \n",
      "_________________________________________________________________\n",
      "conv2d_2 (Conv2D)            (None, 28, 28, 10)        2510      \n",
      "_________________________________________________________________\n",
      "elu_2 (ELU)                  (None, 28, 28, 10)        0         \n",
      "_________________________________________________________________\n",
      "max_pooling2d_1 (MaxPooling2 (None, 28, 28, 10)        0         \n",
      "_________________________________________________________________\n",
      "flatten_1 (Flatten)          (None, 7840)              0         \n",
      "_________________________________________________________________\n",
      "dense_1 (Dense)              (None, 26)                203866    \n",
      "=================================================================\n",
      "Total params: 206,636\n",
      "Trainable params: 206,636\n",
      "Non-trainable params: 0\n",
      "_________________________________________________________________\n"
     ]
    }
   ],
   "source": [
    "train_Y_one_hot = to_categorical(y_train)\n",
    "test_Y_one_hot = to_categorical(y_test)\n",
    "\n",
    "model = Sequential()\n",
    "\n",
    "#conv\n",
    "model.add(Conv2D(filters=10, kernel_size=5, strides = 1, padding='same', activation='linear',\n",
    "                 bias_initializer='RandomNormal', input_shape=(img_size,img_size,1)))\n",
    "\n",
    "#ReLu\n",
    "model.add(ELU(alpha=1.0))\n",
    "\n",
    "#conv2\n",
    "model.add(Conv2D(filters=10, kernel_size=5, strides = 1, padding='same', activation='linear',\n",
    "                 bias_initializer='RandomNormal', input_shape=(img_size,img_size,1)))\n",
    "\n",
    "#ReLu\n",
    "model.add(ELU(alpha=1.0))\n",
    "\n",
    "#MaxPool\n",
    "model.add(MaxPooling2D(strides=1, padding='same'))\n",
    "\n",
    "#Affine\n",
    "model.add(Flatten())\n",
    "\n",
    "model.add(Dense(num_classes, activation='softmax'))\n",
    "\n",
    "model.compile(optimizer=optimizer,\n",
    "              loss='categorical_crossentropy',\n",
    "              metrics=['accuracy'])\n",
    "model.summary()"
   ]
  },
  {
   "cell_type": "markdown",
   "metadata": {},
   "source": [
    "## Training the Model"
   ]
  },
  {
   "cell_type": "code",
   "execution_count": 35,
   "metadata": {
    "scrolled": true
   },
   "outputs": [
    {
     "name": "stdout",
     "output_type": "stream",
     "text": [
      "Train on 799 samples, validate on 200 samples\n",
      "Epoch 1/10\n",
      "799/799 [==============================] - 2s 2ms/step - loss: 4.2381 - acc: 0.1690 - val_loss: 4.0146 - val_acc: 0.0450\n",
      "Epoch 2/10\n",
      "799/799 [==============================] - 1s 2ms/step - loss: 3.0126 - acc: 0.2215 - val_loss: 2.5590 - val_acc: 0.2300\n",
      "Epoch 3/10\n",
      "799/799 [==============================] - 1s 2ms/step - loss: 2.2041 - acc: 0.4030 - val_loss: 2.0584 - val_acc: 0.4300\n",
      "Epoch 4/10\n",
      "799/799 [==============================] - 1s 2ms/step - loss: 1.6876 - acc: 0.5394 - val_loss: 1.5770 - val_acc: 0.5700\n",
      "Epoch 5/10\n",
      "799/799 [==============================] - 1s 2ms/step - loss: 1.2518 - acc: 0.6471 - val_loss: 1.2220 - val_acc: 0.6450\n",
      "Epoch 6/10\n",
      "799/799 [==============================] - 1s 2ms/step - loss: 0.9502 - acc: 0.7247 - val_loss: 1.0666 - val_acc: 0.6700\n",
      "Epoch 7/10\n",
      "799/799 [==============================] - 1s 2ms/step - loss: 0.7577 - acc: 0.7697 - val_loss: 0.9967 - val_acc: 0.7000\n",
      "Epoch 8/10\n",
      "799/799 [==============================] - 2s 2ms/step - loss: 0.6595 - acc: 0.7897 - val_loss: 0.8865 - val_acc: 0.7350\n",
      "Epoch 9/10\n",
      "799/799 [==============================] - 2s 2ms/step - loss: 0.5453 - acc: 0.8285 - val_loss: 0.8723 - val_acc: 0.7250\n",
      "Epoch 10/10\n",
      "799/799 [==============================] - 2s 2ms/step - loss: 0.4887 - acc: 0.8448 - val_loss: 0.8258 - val_acc: 0.7550\n"
     ]
    }
   ],
   "source": [
    "model_train = model.fit(x=X_train,\n",
    "          y=train_Y_one_hot,\n",
    "          epochs=10, batch_size=128,verbose=1, validation_data=(X_test, test_Y_one_hot))"
   ]
  },
  {
   "cell_type": "markdown",
   "metadata": {},
   "source": [
    "## Testing the Model"
   ]
  },
  {
   "cell_type": "code",
   "execution_count": 36,
   "metadata": {},
   "outputs": [
    {
     "name": "stdout",
     "output_type": "stream",
     "text": [
      "Test loss: 0.8257601320743561\n",
      "Test accuracy: 0.755\n"
     ]
    }
   ],
   "source": [
    "test_eval = model.evaluate(X_test, test_Y_one_hot, verbose=0)\n",
    "print('Test loss:', test_eval[0])\n",
    "print('Test accuracy:', test_eval[1])"
   ]
  },
  {
   "cell_type": "code",
   "execution_count": 37,
   "metadata": {},
   "outputs": [
    {
     "data": {
      "image/png": "[encoded data removed]",
      "text/plain": [
       "<Figure size 432x288 with 1 Axes>"
      ]
     },
     "metadata": {},
     "output_type": "display_data"
    },
    {
     "data": {
      "image/png": "[encoded data removed]",
      "text/plain": [
       "<Figure size 432x288 with 1 Axes>"
      ]
     },
     "metadata": {},
     "output_type": "display_data"
    }
   ],
   "source": [
    "accuracy = model_train.history['acc']\n",
    "val_accuracy = model_train.history['val_acc']\n",
    "loss = model_train.history['loss']\n",
    "val_loss = model_train.history['val_loss']\n",
    "epochs = range(len(accuracy))\n",
    "plt.plot(epochs, accuracy, 'bo', label='Training accuracy')\n",
    "plt.plot(epochs, val_accuracy, 'b', label='Validation accuracy')\n",
    "plt.title('Training and Validation accuracy')\n",
    "plt.legend()\n",
    "plt.figure()\n",
    "plt.plot(epochs, loss, 'bo', label='Training loss')\n",
    "plt.plot(epochs, val_loss, 'b', label='Validation loss')\n",
    "plt.title('Training and Validation loss')\n",
    "plt.legend()\n",
    "plt.show()"
   ]
  },
  {
   "cell_type": "code",
   "execution_count": null,
   "metadata": {},
   "outputs": [],
   "source": []
  }
 ],
 "metadata": {
  "kernelspec": {
   "display_name": "Python 3",
   "language": "python",
   "name": "python3"
  },
  "language_info": {
   "codemirror_mode": {
    "name": "ipython",
    "version": 3
   },
   "file_extension": ".py",
   "mimetype": "text/x-python",
   "name": "python",
   "nbconvert_exporter": "python",
   "pygments_lexer": "ipython3",
   "version": "3.6.5"
  }
 },
 "nbformat": 4,
 "nbformat_minor": 2
}
